{
 "cells": [
  {
   "cell_type": "markdown",
   "metadata": {},
   "source": [
    "## Importing Data"
   ]
  },
  {
   "cell_type": "code",
   "execution_count": 89,
   "metadata": {},
   "outputs": [],
   "source": [
    "import pandas as pd\n",
    "import numpy as np\n",
    "import matplotlib.pyplot as plt "
   ]
  },
  {
   "cell_type": "code",
   "execution_count": 90,
   "metadata": {},
   "outputs": [],
   "source": [
    "# Open up our CSV files located in the /Data subfolder\n",
    "salaries_df = pd.read_csv(\"../Data/nba_salaries_1990_to_2018.csv\")\n",
    "player_data_df = pd.read_csv(\"../Data/player_data.csv\")\n",
    "players_df = pd.read_csv(\"../Data/Players.csv\")\n",
    "seasons_stats_df = pd.read_csv(\"../Data/Seasons_Stats.csv\")\n",
    "salary_cap_df = pd.read_csv(\"../Data/salary_cap.csv\")\n",
    "draft_pos_df = pd.read_excel(\"../Data/NBA_Drafts.xlsx\")\n",
    "\n",
    "# For only 2017-2018 players\n",
    "twitter_df = pd.read_csv(\"../Data/social-power-nba/nba_2017_twitter_players.csv\")\n",
    "pie_df = pd.read_csv(\"../Data/social-power-nba/nba_2017_pie.csv\")\n",
    "extra_df = pd.read_csv(\"../Data/social-power-nba/nba_2017_players_stats_combined.csv\")"
   ]
  },
  {
   "cell_type": "code",
   "execution_count": 91,
   "metadata": {},
   "outputs": [
    {
     "data": {
      "text/html": [
       "<div>\n",
       "<style scoped>\n",
       "    .dataframe tbody tr th:only-of-type {\n",
       "        vertical-align: middle;\n",
       "    }\n",
       "\n",
       "    .dataframe tbody tr th {\n",
       "        vertical-align: top;\n",
       "    }\n",
       "\n",
       "    .dataframe thead th {\n",
       "        text-align: right;\n",
       "    }\n",
       "</style>\n",
       "<table border=\"1\" class=\"dataframe\">\n",
       "  <thead>\n",
       "    <tr style=\"text-align: right;\">\n",
       "      <th></th>\n",
       "      <th>player</th>\n",
       "      <th>salary</th>\n",
       "      <th>season_end</th>\n",
       "      <th>season_start</th>\n",
       "      <th>team</th>\n",
       "      <th>team_name</th>\n",
       "    </tr>\n",
       "  </thead>\n",
       "  <tbody>\n",
       "    <tr>\n",
       "      <th>0</th>\n",
       "      <td>Moses Malone</td>\n",
       "      <td>2406000</td>\n",
       "      <td>1991</td>\n",
       "      <td>1990</td>\n",
       "      <td>ATL</td>\n",
       "      <td>Atlanta Hawks</td>\n",
       "    </tr>\n",
       "    <tr>\n",
       "      <th>1</th>\n",
       "      <td>Dominique Wilkins</td>\n",
       "      <td>2065000</td>\n",
       "      <td>1991</td>\n",
       "      <td>1990</td>\n",
       "      <td>ATL</td>\n",
       "      <td>Atlanta Hawks</td>\n",
       "    </tr>\n",
       "    <tr>\n",
       "      <th>2</th>\n",
       "      <td>Jon Koncak</td>\n",
       "      <td>1550000</td>\n",
       "      <td>1991</td>\n",
       "      <td>1990</td>\n",
       "      <td>ATL</td>\n",
       "      <td>Atlanta Hawks</td>\n",
       "    </tr>\n",
       "    <tr>\n",
       "      <th>3</th>\n",
       "      <td>Doc Rivers</td>\n",
       "      <td>895000</td>\n",
       "      <td>1991</td>\n",
       "      <td>1990</td>\n",
       "      <td>ATL</td>\n",
       "      <td>Atlanta Hawks</td>\n",
       "    </tr>\n",
       "    <tr>\n",
       "      <th>4</th>\n",
       "      <td>Rumeal Robinson</td>\n",
       "      <td>800000</td>\n",
       "      <td>1991</td>\n",
       "      <td>1990</td>\n",
       "      <td>ATL</td>\n",
       "      <td>Atlanta Hawks</td>\n",
       "    </tr>\n",
       "  </tbody>\n",
       "</table>\n",
       "</div>"
      ],
      "text/plain": [
       "              player   salary  season_end  season_start team      team_name\n",
       "0       Moses Malone  2406000        1991          1990  ATL  Atlanta Hawks\n",
       "1  Dominique Wilkins  2065000        1991          1990  ATL  Atlanta Hawks\n",
       "2         Jon Koncak  1550000        1991          1990  ATL  Atlanta Hawks\n",
       "3         Doc Rivers   895000        1991          1990  ATL  Atlanta Hawks\n",
       "4    Rumeal Robinson   800000        1991          1990  ATL  Atlanta Hawks"
      ]
     },
     "execution_count": 91,
     "metadata": {},
     "output_type": "execute_result"
    }
   ],
   "source": [
    "# Glimpse of our data\n",
    "salaries_df.head()"
   ]
  },
  {
   "cell_type": "code",
   "execution_count": 92,
   "metadata": {},
   "outputs": [
    {
     "data": {
      "text/html": [
       "<div>\n",
       "<style scoped>\n",
       "    .dataframe tbody tr th:only-of-type {\n",
       "        vertical-align: middle;\n",
       "    }\n",
       "\n",
       "    .dataframe tbody tr th {\n",
       "        vertical-align: top;\n",
       "    }\n",
       "\n",
       "    .dataframe thead th {\n",
       "        text-align: right;\n",
       "    }\n",
       "</style>\n",
       "<table border=\"1\" class=\"dataframe\">\n",
       "  <thead>\n",
       "    <tr style=\"text-align: right;\">\n",
       "      <th></th>\n",
       "      <th>name</th>\n",
       "      <th>year_start</th>\n",
       "      <th>year_end</th>\n",
       "      <th>position</th>\n",
       "      <th>height</th>\n",
       "      <th>weight</th>\n",
       "      <th>birth_date</th>\n",
       "      <th>college</th>\n",
       "    </tr>\n",
       "  </thead>\n",
       "  <tbody>\n",
       "    <tr>\n",
       "      <th>0</th>\n",
       "      <td>Alaa Abdelnaby</td>\n",
       "      <td>1991</td>\n",
       "      <td>1995</td>\n",
       "      <td>F-C</td>\n",
       "      <td>6-10</td>\n",
       "      <td>240.0</td>\n",
       "      <td>June 24, 1968</td>\n",
       "      <td>Duke University</td>\n",
       "    </tr>\n",
       "    <tr>\n",
       "      <th>1</th>\n",
       "      <td>Zaid Abdul-Aziz</td>\n",
       "      <td>1969</td>\n",
       "      <td>1978</td>\n",
       "      <td>C-F</td>\n",
       "      <td>6-9</td>\n",
       "      <td>235.0</td>\n",
       "      <td>April 7, 1946</td>\n",
       "      <td>Iowa State University</td>\n",
       "    </tr>\n",
       "    <tr>\n",
       "      <th>2</th>\n",
       "      <td>Kareem Abdul-Jabbar</td>\n",
       "      <td>1970</td>\n",
       "      <td>1989</td>\n",
       "      <td>C</td>\n",
       "      <td>7-2</td>\n",
       "      <td>225.0</td>\n",
       "      <td>April 16, 1947</td>\n",
       "      <td>University of California, Los Angeles</td>\n",
       "    </tr>\n",
       "    <tr>\n",
       "      <th>3</th>\n",
       "      <td>Mahmoud Abdul-Rauf</td>\n",
       "      <td>1991</td>\n",
       "      <td>2001</td>\n",
       "      <td>G</td>\n",
       "      <td>6-1</td>\n",
       "      <td>162.0</td>\n",
       "      <td>March 9, 1969</td>\n",
       "      <td>Louisiana State University</td>\n",
       "    </tr>\n",
       "    <tr>\n",
       "      <th>4</th>\n",
       "      <td>Tariq Abdul-Wahad</td>\n",
       "      <td>1998</td>\n",
       "      <td>2003</td>\n",
       "      <td>F</td>\n",
       "      <td>6-6</td>\n",
       "      <td>223.0</td>\n",
       "      <td>November 3, 1974</td>\n",
       "      <td>San Jose State University</td>\n",
       "    </tr>\n",
       "  </tbody>\n",
       "</table>\n",
       "</div>"
      ],
      "text/plain": [
       "                  name  year_start  year_end position height  weight  \\\n",
       "0       Alaa Abdelnaby        1991      1995      F-C   6-10   240.0   \n",
       "1      Zaid Abdul-Aziz        1969      1978      C-F    6-9   235.0   \n",
       "2  Kareem Abdul-Jabbar        1970      1989        C    7-2   225.0   \n",
       "3   Mahmoud Abdul-Rauf        1991      2001        G    6-1   162.0   \n",
       "4    Tariq Abdul-Wahad        1998      2003        F    6-6   223.0   \n",
       "\n",
       "         birth_date                                college  \n",
       "0     June 24, 1968                        Duke University  \n",
       "1     April 7, 1946                  Iowa State University  \n",
       "2    April 16, 1947  University of California, Los Angeles  \n",
       "3     March 9, 1969             Louisiana State University  \n",
       "4  November 3, 1974              San Jose State University  "
      ]
     },
     "execution_count": 92,
     "metadata": {},
     "output_type": "execute_result"
    }
   ],
   "source": [
    "player_data_df.head()"
   ]
  },
  {
   "cell_type": "code",
   "execution_count": 93,
   "metadata": {},
   "outputs": [
    {
     "data": {
      "text/html": [
       "<div>\n",
       "<style scoped>\n",
       "    .dataframe tbody tr th:only-of-type {\n",
       "        vertical-align: middle;\n",
       "    }\n",
       "\n",
       "    .dataframe tbody tr th {\n",
       "        vertical-align: top;\n",
       "    }\n",
       "\n",
       "    .dataframe thead th {\n",
       "        text-align: right;\n",
       "    }\n",
       "</style>\n",
       "<table border=\"1\" class=\"dataframe\">\n",
       "  <thead>\n",
       "    <tr style=\"text-align: right;\">\n",
       "      <th></th>\n",
       "      <th>Unnamed: 0</th>\n",
       "      <th>Player</th>\n",
       "      <th>height</th>\n",
       "      <th>weight</th>\n",
       "      <th>collage</th>\n",
       "      <th>born</th>\n",
       "      <th>birth_city</th>\n",
       "      <th>birth_state</th>\n",
       "    </tr>\n",
       "  </thead>\n",
       "  <tbody>\n",
       "    <tr>\n",
       "      <th>0</th>\n",
       "      <td>0</td>\n",
       "      <td>Curly Armstrong</td>\n",
       "      <td>180.0</td>\n",
       "      <td>77.0</td>\n",
       "      <td>Indiana University</td>\n",
       "      <td>1918.0</td>\n",
       "      <td>NaN</td>\n",
       "      <td>NaN</td>\n",
       "    </tr>\n",
       "    <tr>\n",
       "      <th>1</th>\n",
       "      <td>1</td>\n",
       "      <td>Cliff Barker</td>\n",
       "      <td>188.0</td>\n",
       "      <td>83.0</td>\n",
       "      <td>University of Kentucky</td>\n",
       "      <td>1921.0</td>\n",
       "      <td>Yorktown</td>\n",
       "      <td>Indiana</td>\n",
       "    </tr>\n",
       "    <tr>\n",
       "      <th>2</th>\n",
       "      <td>2</td>\n",
       "      <td>Leo Barnhorst</td>\n",
       "      <td>193.0</td>\n",
       "      <td>86.0</td>\n",
       "      <td>University of Notre Dame</td>\n",
       "      <td>1924.0</td>\n",
       "      <td>NaN</td>\n",
       "      <td>NaN</td>\n",
       "    </tr>\n",
       "    <tr>\n",
       "      <th>3</th>\n",
       "      <td>3</td>\n",
       "      <td>Ed Bartels</td>\n",
       "      <td>196.0</td>\n",
       "      <td>88.0</td>\n",
       "      <td>North Carolina State University</td>\n",
       "      <td>1925.0</td>\n",
       "      <td>NaN</td>\n",
       "      <td>NaN</td>\n",
       "    </tr>\n",
       "    <tr>\n",
       "      <th>4</th>\n",
       "      <td>4</td>\n",
       "      <td>Ralph Beard</td>\n",
       "      <td>178.0</td>\n",
       "      <td>79.0</td>\n",
       "      <td>University of Kentucky</td>\n",
       "      <td>1927.0</td>\n",
       "      <td>Hardinsburg</td>\n",
       "      <td>Kentucky</td>\n",
       "    </tr>\n",
       "  </tbody>\n",
       "</table>\n",
       "</div>"
      ],
      "text/plain": [
       "   Unnamed: 0           Player  height  weight  \\\n",
       "0           0  Curly Armstrong   180.0    77.0   \n",
       "1           1     Cliff Barker   188.0    83.0   \n",
       "2           2    Leo Barnhorst   193.0    86.0   \n",
       "3           3       Ed Bartels   196.0    88.0   \n",
       "4           4      Ralph Beard   178.0    79.0   \n",
       "\n",
       "                           collage    born   birth_city birth_state  \n",
       "0               Indiana University  1918.0          NaN         NaN  \n",
       "1           University of Kentucky  1921.0     Yorktown     Indiana  \n",
       "2         University of Notre Dame  1924.0          NaN         NaN  \n",
       "3  North Carolina State University  1925.0          NaN         NaN  \n",
       "4           University of Kentucky  1927.0  Hardinsburg    Kentucky  "
      ]
     },
     "execution_count": 93,
     "metadata": {},
     "output_type": "execute_result"
    }
   ],
   "source": [
    "players_df.head()"
   ]
  },
  {
   "cell_type": "code",
   "execution_count": 94,
   "metadata": {},
   "outputs": [
    {
     "name": "stdout",
     "output_type": "stream",
     "text": [
      "Index(['Unnamed: 0', 'Year', 'Player', 'Pos', 'Age', 'Tm', 'G', 'GS', 'MP',\n",
      "       'PER', 'TS%', '3PAr', 'FTr', 'ORB%', 'DRB%', 'TRB%', 'AST%', 'STL%',\n",
      "       'BLK%', 'TOV%', 'USG%', 'blanl', 'OWS', 'DWS', 'WS', 'WS/48', 'blank2',\n",
      "       'OBPM', 'DBPM', 'BPM', 'VORP', 'FG', 'FGA', 'FG%', '3P', '3PA', '3P%',\n",
      "       '2P', '2PA', '2P%', 'eFG%', 'FT', 'FTA', 'FT%', 'ORB', 'DRB', 'TRB',\n",
      "       'AST', 'STL', 'BLK', 'TOV', 'PF', 'PTS'],\n",
      "      dtype='object')\n"
     ]
    },
    {
     "data": {
      "text/html": [
       "<div>\n",
       "<style scoped>\n",
       "    .dataframe tbody tr th:only-of-type {\n",
       "        vertical-align: middle;\n",
       "    }\n",
       "\n",
       "    .dataframe tbody tr th {\n",
       "        vertical-align: top;\n",
       "    }\n",
       "\n",
       "    .dataframe thead th {\n",
       "        text-align: right;\n",
       "    }\n",
       "</style>\n",
       "<table border=\"1\" class=\"dataframe\">\n",
       "  <thead>\n",
       "    <tr style=\"text-align: right;\">\n",
       "      <th></th>\n",
       "      <th>Unnamed: 0</th>\n",
       "      <th>Year</th>\n",
       "      <th>Player</th>\n",
       "      <th>Pos</th>\n",
       "      <th>Age</th>\n",
       "      <th>Tm</th>\n",
       "      <th>G</th>\n",
       "      <th>GS</th>\n",
       "      <th>MP</th>\n",
       "      <th>PER</th>\n",
       "      <th>...</th>\n",
       "      <th>FT%</th>\n",
       "      <th>ORB</th>\n",
       "      <th>DRB</th>\n",
       "      <th>TRB</th>\n",
       "      <th>AST</th>\n",
       "      <th>STL</th>\n",
       "      <th>BLK</th>\n",
       "      <th>TOV</th>\n",
       "      <th>PF</th>\n",
       "      <th>PTS</th>\n",
       "    </tr>\n",
       "  </thead>\n",
       "  <tbody>\n",
       "    <tr>\n",
       "      <th>0</th>\n",
       "      <td>0</td>\n",
       "      <td>1950.0</td>\n",
       "      <td>Curly Armstrong</td>\n",
       "      <td>G-F</td>\n",
       "      <td>31.0</td>\n",
       "      <td>FTW</td>\n",
       "      <td>63.0</td>\n",
       "      <td>NaN</td>\n",
       "      <td>NaN</td>\n",
       "      <td>NaN</td>\n",
       "      <td>...</td>\n",
       "      <td>0.705</td>\n",
       "      <td>NaN</td>\n",
       "      <td>NaN</td>\n",
       "      <td>NaN</td>\n",
       "      <td>176.0</td>\n",
       "      <td>NaN</td>\n",
       "      <td>NaN</td>\n",
       "      <td>NaN</td>\n",
       "      <td>217.0</td>\n",
       "      <td>458.0</td>\n",
       "    </tr>\n",
       "    <tr>\n",
       "      <th>1</th>\n",
       "      <td>1</td>\n",
       "      <td>1950.0</td>\n",
       "      <td>Cliff Barker</td>\n",
       "      <td>SG</td>\n",
       "      <td>29.0</td>\n",
       "      <td>INO</td>\n",
       "      <td>49.0</td>\n",
       "      <td>NaN</td>\n",
       "      <td>NaN</td>\n",
       "      <td>NaN</td>\n",
       "      <td>...</td>\n",
       "      <td>0.708</td>\n",
       "      <td>NaN</td>\n",
       "      <td>NaN</td>\n",
       "      <td>NaN</td>\n",
       "      <td>109.0</td>\n",
       "      <td>NaN</td>\n",
       "      <td>NaN</td>\n",
       "      <td>NaN</td>\n",
       "      <td>99.0</td>\n",
       "      <td>279.0</td>\n",
       "    </tr>\n",
       "    <tr>\n",
       "      <th>2</th>\n",
       "      <td>2</td>\n",
       "      <td>1950.0</td>\n",
       "      <td>Leo Barnhorst</td>\n",
       "      <td>SF</td>\n",
       "      <td>25.0</td>\n",
       "      <td>CHS</td>\n",
       "      <td>67.0</td>\n",
       "      <td>NaN</td>\n",
       "      <td>NaN</td>\n",
       "      <td>NaN</td>\n",
       "      <td>...</td>\n",
       "      <td>0.698</td>\n",
       "      <td>NaN</td>\n",
       "      <td>NaN</td>\n",
       "      <td>NaN</td>\n",
       "      <td>140.0</td>\n",
       "      <td>NaN</td>\n",
       "      <td>NaN</td>\n",
       "      <td>NaN</td>\n",
       "      <td>192.0</td>\n",
       "      <td>438.0</td>\n",
       "    </tr>\n",
       "    <tr>\n",
       "      <th>3</th>\n",
       "      <td>3</td>\n",
       "      <td>1950.0</td>\n",
       "      <td>Ed Bartels</td>\n",
       "      <td>F</td>\n",
       "      <td>24.0</td>\n",
       "      <td>TOT</td>\n",
       "      <td>15.0</td>\n",
       "      <td>NaN</td>\n",
       "      <td>NaN</td>\n",
       "      <td>NaN</td>\n",
       "      <td>...</td>\n",
       "      <td>0.559</td>\n",
       "      <td>NaN</td>\n",
       "      <td>NaN</td>\n",
       "      <td>NaN</td>\n",
       "      <td>20.0</td>\n",
       "      <td>NaN</td>\n",
       "      <td>NaN</td>\n",
       "      <td>NaN</td>\n",
       "      <td>29.0</td>\n",
       "      <td>63.0</td>\n",
       "    </tr>\n",
       "    <tr>\n",
       "      <th>4</th>\n",
       "      <td>4</td>\n",
       "      <td>1950.0</td>\n",
       "      <td>Ed Bartels</td>\n",
       "      <td>F</td>\n",
       "      <td>24.0</td>\n",
       "      <td>DNN</td>\n",
       "      <td>13.0</td>\n",
       "      <td>NaN</td>\n",
       "      <td>NaN</td>\n",
       "      <td>NaN</td>\n",
       "      <td>...</td>\n",
       "      <td>0.548</td>\n",
       "      <td>NaN</td>\n",
       "      <td>NaN</td>\n",
       "      <td>NaN</td>\n",
       "      <td>20.0</td>\n",
       "      <td>NaN</td>\n",
       "      <td>NaN</td>\n",
       "      <td>NaN</td>\n",
       "      <td>27.0</td>\n",
       "      <td>59.0</td>\n",
       "    </tr>\n",
       "  </tbody>\n",
       "</table>\n",
       "<p>5 rows × 53 columns</p>\n",
       "</div>"
      ],
      "text/plain": [
       "   Unnamed: 0    Year           Player  Pos   Age   Tm     G  GS  MP  PER  \\\n",
       "0           0  1950.0  Curly Armstrong  G-F  31.0  FTW  63.0 NaN NaN  NaN   \n",
       "1           1  1950.0     Cliff Barker   SG  29.0  INO  49.0 NaN NaN  NaN   \n",
       "2           2  1950.0    Leo Barnhorst   SF  25.0  CHS  67.0 NaN NaN  NaN   \n",
       "3           3  1950.0       Ed Bartels    F  24.0  TOT  15.0 NaN NaN  NaN   \n",
       "4           4  1950.0       Ed Bartels    F  24.0  DNN  13.0 NaN NaN  NaN   \n",
       "\n",
       "   ...    FT%  ORB  DRB  TRB    AST  STL  BLK  TOV     PF    PTS  \n",
       "0  ...  0.705  NaN  NaN  NaN  176.0  NaN  NaN  NaN  217.0  458.0  \n",
       "1  ...  0.708  NaN  NaN  NaN  109.0  NaN  NaN  NaN   99.0  279.0  \n",
       "2  ...  0.698  NaN  NaN  NaN  140.0  NaN  NaN  NaN  192.0  438.0  \n",
       "3  ...  0.559  NaN  NaN  NaN   20.0  NaN  NaN  NaN   29.0   63.0  \n",
       "4  ...  0.548  NaN  NaN  NaN   20.0  NaN  NaN  NaN   27.0   59.0  \n",
       "\n",
       "[5 rows x 53 columns]"
      ]
     },
     "execution_count": 94,
     "metadata": {},
     "output_type": "execute_result"
    }
   ],
   "source": [
    "print(seasons_stats_df.columns)\n",
    "seasons_stats_df.head()"
   ]
  },
  {
   "cell_type": "code",
   "execution_count": 95,
   "metadata": {},
   "outputs": [
    {
     "data": {
      "text/html": [
       "<div>\n",
       "<style scoped>\n",
       "    .dataframe tbody tr th:only-of-type {\n",
       "        vertical-align: middle;\n",
       "    }\n",
       "\n",
       "    .dataframe tbody tr th {\n",
       "        vertical-align: top;\n",
       "    }\n",
       "\n",
       "    .dataframe thead th {\n",
       "        text-align: right;\n",
       "    }\n",
       "</style>\n",
       "<table border=\"1\" class=\"dataframe\">\n",
       "  <thead>\n",
       "    <tr style=\"text-align: right;\">\n",
       "      <th></th>\n",
       "      <th>Season</th>\n",
       "      <th>Nominal</th>\n",
       "      <th>Real</th>\n",
       "    </tr>\n",
       "  </thead>\n",
       "  <tbody>\n",
       "    <tr>\n",
       "      <th>0</th>\n",
       "      <td>1984-85</td>\n",
       "      <td>$3,600,000</td>\n",
       "      <td>$7,934,034</td>\n",
       "    </tr>\n",
       "    <tr>\n",
       "      <th>1</th>\n",
       "      <td>1985-86</td>\n",
       "      <td>$4,233,000</td>\n",
       "      <td>$9,153,509</td>\n",
       "    </tr>\n",
       "    <tr>\n",
       "      <th>2</th>\n",
       "      <td>1986-87</td>\n",
       "      <td>$4,945,000</td>\n",
       "      <td>$10,317,292</td>\n",
       "    </tr>\n",
       "    <tr>\n",
       "      <th>3</th>\n",
       "      <td>1987-88</td>\n",
       "      <td>$6,164,000</td>\n",
       "      <td>$12,354,015</td>\n",
       "    </tr>\n",
       "    <tr>\n",
       "      <th>4</th>\n",
       "      <td>1988-89</td>\n",
       "      <td>$7,232,000</td>\n",
       "      <td>$13,829,137</td>\n",
       "    </tr>\n",
       "  </tbody>\n",
       "</table>\n",
       "</div>"
      ],
      "text/plain": [
       "    Season      Nominal          Real\n",
       "0  1984-85  $3,600,000    $7,934,034 \n",
       "1  1985-86  $4,233,000    $9,153,509 \n",
       "2  1986-87  $4,945,000   $10,317,292 \n",
       "3  1987-88  $6,164,000   $12,354,015 \n",
       "4  1988-89  $7,232,000   $13,829,137 "
      ]
     },
     "execution_count": 95,
     "metadata": {},
     "output_type": "execute_result"
    }
   ],
   "source": [
    "salary_cap_df.head()"
   ]
  },
  {
   "cell_type": "code",
   "execution_count": 96,
   "metadata": {},
   "outputs": [
    {
     "data": {
      "text/html": [
       "<div>\n",
       "<style scoped>\n",
       "    .dataframe tbody tr th:only-of-type {\n",
       "        vertical-align: middle;\n",
       "    }\n",
       "\n",
       "    .dataframe tbody tr th {\n",
       "        vertical-align: top;\n",
       "    }\n",
       "\n",
       "    .dataframe thead th {\n",
       "        text-align: right;\n",
       "    }\n",
       "</style>\n",
       "<table border=\"1\" class=\"dataframe\">\n",
       "  <thead>\n",
       "    <tr style=\"text-align: right;\">\n",
       "      <th></th>\n",
       "      <th>Round</th>\n",
       "      <th>Pick</th>\n",
       "      <th>Player</th>\n",
       "    </tr>\n",
       "  </thead>\n",
       "  <tbody>\n",
       "    <tr>\n",
       "      <th>0</th>\n",
       "      <td>1</td>\n",
       "      <td>1</td>\n",
       "      <td>Markelle Fultz</td>\n",
       "    </tr>\n",
       "    <tr>\n",
       "      <th>1</th>\n",
       "      <td>2</td>\n",
       "      <td>2</td>\n",
       "      <td>Lonzo Ball</td>\n",
       "    </tr>\n",
       "    <tr>\n",
       "      <th>2</th>\n",
       "      <td>3</td>\n",
       "      <td>3</td>\n",
       "      <td>Jayson Tatum</td>\n",
       "    </tr>\n",
       "    <tr>\n",
       "      <th>3</th>\n",
       "      <td>4</td>\n",
       "      <td>4</td>\n",
       "      <td>Josh Jackson</td>\n",
       "    </tr>\n",
       "    <tr>\n",
       "      <th>4</th>\n",
       "      <td>5</td>\n",
       "      <td>5</td>\n",
       "      <td>De'Aaron Fox</td>\n",
       "    </tr>\n",
       "  </tbody>\n",
       "</table>\n",
       "</div>"
      ],
      "text/plain": [
       "   Round  Pick          Player\n",
       "0      1     1  Markelle Fultz\n",
       "1      2     2      Lonzo Ball\n",
       "2      3     3    Jayson Tatum\n",
       "3      4     4    Josh Jackson\n",
       "4      5     5    De'Aaron Fox"
      ]
     },
     "execution_count": 96,
     "metadata": {},
     "output_type": "execute_result"
    }
   ],
   "source": [
    "draft_pos_df = draft_pos_df[['Round', 'Pick', 'Player']]\n",
    "draft_pos_df.head()"
   ]
  },
  {
   "cell_type": "code",
   "execution_count": 97,
   "metadata": {},
   "outputs": [
    {
     "data": {
      "text/html": [
       "<div>\n",
       "<style scoped>\n",
       "    .dataframe tbody tr th:only-of-type {\n",
       "        vertical-align: middle;\n",
       "    }\n",
       "\n",
       "    .dataframe tbody tr th {\n",
       "        vertical-align: top;\n",
       "    }\n",
       "\n",
       "    .dataframe thead th {\n",
       "        text-align: right;\n",
       "    }\n",
       "</style>\n",
       "<table border=\"1\" class=\"dataframe\">\n",
       "  <thead>\n",
       "    <tr style=\"text-align: right;\">\n",
       "      <th></th>\n",
       "      <th>PLAYER</th>\n",
       "      <th>TWITTER_FAVORITE_COUNT</th>\n",
       "      <th>TWITTER_RETWEET_COUNT</th>\n",
       "    </tr>\n",
       "  </thead>\n",
       "  <tbody>\n",
       "    <tr>\n",
       "      <th>0</th>\n",
       "      <td>Russell Westbrook</td>\n",
       "      <td>2130.5</td>\n",
       "      <td>559.0</td>\n",
       "    </tr>\n",
       "    <tr>\n",
       "      <th>1</th>\n",
       "      <td>James Harden</td>\n",
       "      <td>969.0</td>\n",
       "      <td>321.5</td>\n",
       "    </tr>\n",
       "    <tr>\n",
       "      <th>2</th>\n",
       "      <td>Isaiah Thomas</td>\n",
       "      <td>467.5</td>\n",
       "      <td>155.5</td>\n",
       "    </tr>\n",
       "    <tr>\n",
       "      <th>3</th>\n",
       "      <td>Anthony Davis</td>\n",
       "      <td>368.0</td>\n",
       "      <td>104.0</td>\n",
       "    </tr>\n",
       "    <tr>\n",
       "      <th>4</th>\n",
       "      <td>DeMar DeRozan</td>\n",
       "      <td>0.0</td>\n",
       "      <td>186.0</td>\n",
       "    </tr>\n",
       "  </tbody>\n",
       "</table>\n",
       "</div>"
      ],
      "text/plain": [
       "              PLAYER  TWITTER_FAVORITE_COUNT  TWITTER_RETWEET_COUNT\n",
       "0  Russell Westbrook                  2130.5                  559.0\n",
       "1       James Harden                   969.0                  321.5\n",
       "2      Isaiah Thomas                   467.5                  155.5\n",
       "3      Anthony Davis                   368.0                  104.0\n",
       "4      DeMar DeRozan                     0.0                  186.0"
      ]
     },
     "execution_count": 97,
     "metadata": {},
     "output_type": "execute_result"
    }
   ],
   "source": [
    "twitter_df.head()"
   ]
  },
  {
   "cell_type": "code",
   "execution_count": 98,
   "metadata": {},
   "outputs": [
    {
     "data": {
      "text/html": [
       "<div>\n",
       "<style scoped>\n",
       "    .dataframe tbody tr th:only-of-type {\n",
       "        vertical-align: middle;\n",
       "    }\n",
       "\n",
       "    .dataframe tbody tr th {\n",
       "        vertical-align: top;\n",
       "    }\n",
       "\n",
       "    .dataframe thead th {\n",
       "        text-align: right;\n",
       "    }\n",
       "</style>\n",
       "<table border=\"1\" class=\"dataframe\">\n",
       "  <thead>\n",
       "    <tr style=\"text-align: right;\">\n",
       "      <th></th>\n",
       "      <th>PLAYER</th>\n",
       "      <th>TEAM</th>\n",
       "      <th>AGE</th>\n",
       "      <th>GP</th>\n",
       "      <th>W</th>\n",
       "      <th>L</th>\n",
       "      <th>MIN</th>\n",
       "      <th>OFFRTG</th>\n",
       "      <th>DEFRTG</th>\n",
       "      <th>NETRTG</th>\n",
       "      <th>...</th>\n",
       "      <th>AST RATIO</th>\n",
       "      <th>OREB%</th>\n",
       "      <th>DREB%</th>\n",
       "      <th>REB%</th>\n",
       "      <th>TO RATIO</th>\n",
       "      <th>EFG%</th>\n",
       "      <th>TS%</th>\n",
       "      <th>USG%</th>\n",
       "      <th>PACE</th>\n",
       "      <th>PIE</th>\n",
       "    </tr>\n",
       "  </thead>\n",
       "  <tbody>\n",
       "    <tr>\n",
       "      <th>0</th>\n",
       "      <td>Russell Westbrook</td>\n",
       "      <td>OKC</td>\n",
       "      <td>28</td>\n",
       "      <td>81</td>\n",
       "      <td>46</td>\n",
       "      <td>35</td>\n",
       "      <td>34.6</td>\n",
       "      <td>107.9</td>\n",
       "      <td>104.6</td>\n",
       "      <td>3.3</td>\n",
       "      <td>...</td>\n",
       "      <td>23.4</td>\n",
       "      <td>5.3</td>\n",
       "      <td>27.9</td>\n",
       "      <td>16.7</td>\n",
       "      <td>12.2</td>\n",
       "      <td>47.6</td>\n",
       "      <td>55.4</td>\n",
       "      <td>40.8</td>\n",
       "      <td>102.31</td>\n",
       "      <td>23.0</td>\n",
       "    </tr>\n",
       "    <tr>\n",
       "      <th>1</th>\n",
       "      <td>Boban Marjanovic</td>\n",
       "      <td>DET</td>\n",
       "      <td>28</td>\n",
       "      <td>35</td>\n",
       "      <td>16</td>\n",
       "      <td>19</td>\n",
       "      <td>8.4</td>\n",
       "      <td>104.3</td>\n",
       "      <td>102.4</td>\n",
       "      <td>1.9</td>\n",
       "      <td>...</td>\n",
       "      <td>5.1</td>\n",
       "      <td>16.6</td>\n",
       "      <td>31.3</td>\n",
       "      <td>23.9</td>\n",
       "      <td>5.7</td>\n",
       "      <td>54.5</td>\n",
       "      <td>60.6</td>\n",
       "      <td>24.8</td>\n",
       "      <td>97.20</td>\n",
       "      <td>19.6</td>\n",
       "    </tr>\n",
       "    <tr>\n",
       "      <th>2</th>\n",
       "      <td>Demetrius Jackson</td>\n",
       "      <td>BOS</td>\n",
       "      <td>22</td>\n",
       "      <td>5</td>\n",
       "      <td>1</td>\n",
       "      <td>4</td>\n",
       "      <td>3.4</td>\n",
       "      <td>124.2</td>\n",
       "      <td>117.8</td>\n",
       "      <td>6.3</td>\n",
       "      <td>...</td>\n",
       "      <td>31.1</td>\n",
       "      <td>9.1</td>\n",
       "      <td>11.8</td>\n",
       "      <td>10.3</td>\n",
       "      <td>0.0</td>\n",
       "      <td>87.5</td>\n",
       "      <td>75.3</td>\n",
       "      <td>17.2</td>\n",
       "      <td>87.46</td>\n",
       "      <td>19.4</td>\n",
       "    </tr>\n",
       "    <tr>\n",
       "      <th>3</th>\n",
       "      <td>Anthony Davis</td>\n",
       "      <td>NOP</td>\n",
       "      <td>24</td>\n",
       "      <td>75</td>\n",
       "      <td>31</td>\n",
       "      <td>44</td>\n",
       "      <td>36.1</td>\n",
       "      <td>104.2</td>\n",
       "      <td>102.5</td>\n",
       "      <td>1.7</td>\n",
       "      <td>...</td>\n",
       "      <td>7.3</td>\n",
       "      <td>6.7</td>\n",
       "      <td>26.9</td>\n",
       "      <td>17.0</td>\n",
       "      <td>8.4</td>\n",
       "      <td>51.8</td>\n",
       "      <td>58.0</td>\n",
       "      <td>32.6</td>\n",
       "      <td>100.19</td>\n",
       "      <td>19.2</td>\n",
       "    </tr>\n",
       "    <tr>\n",
       "      <th>4</th>\n",
       "      <td>James Harden</td>\n",
       "      <td>HOU</td>\n",
       "      <td>27</td>\n",
       "      <td>81</td>\n",
       "      <td>54</td>\n",
       "      <td>27</td>\n",
       "      <td>36.4</td>\n",
       "      <td>113.6</td>\n",
       "      <td>107.3</td>\n",
       "      <td>6.3</td>\n",
       "      <td>...</td>\n",
       "      <td>27.6</td>\n",
       "      <td>3.5</td>\n",
       "      <td>21.2</td>\n",
       "      <td>12.3</td>\n",
       "      <td>14.1</td>\n",
       "      <td>52.5</td>\n",
       "      <td>61.3</td>\n",
       "      <td>34.1</td>\n",
       "      <td>102.98</td>\n",
       "      <td>19.0</td>\n",
       "    </tr>\n",
       "  </tbody>\n",
       "</table>\n",
       "<p>5 rows × 22 columns</p>\n",
       "</div>"
      ],
      "text/plain": [
       "              PLAYER TEAM  AGE  GP   W   L   MIN  OFFRTG  DEFRTG  NETRTG  ...  \\\n",
       "0  Russell Westbrook  OKC   28  81  46  35  34.6   107.9   104.6     3.3  ...   \n",
       "1   Boban Marjanovic  DET   28  35  16  19   8.4   104.3   102.4     1.9  ...   \n",
       "2  Demetrius Jackson  BOS   22   5   1   4   3.4   124.2   117.8     6.3  ...   \n",
       "3      Anthony Davis  NOP   24  75  31  44  36.1   104.2   102.5     1.7  ...   \n",
       "4       James Harden  HOU   27  81  54  27  36.4   113.6   107.3     6.3  ...   \n",
       "\n",
       "   AST RATIO  OREB%  DREB%  REB%  TO RATIO  EFG%   TS%  USG%    PACE   PIE  \n",
       "0       23.4    5.3   27.9  16.7      12.2  47.6  55.4  40.8  102.31  23.0  \n",
       "1        5.1   16.6   31.3  23.9       5.7  54.5  60.6  24.8   97.20  19.6  \n",
       "2       31.1    9.1   11.8  10.3       0.0  87.5  75.3  17.2   87.46  19.4  \n",
       "3        7.3    6.7   26.9  17.0       8.4  51.8  58.0  32.6  100.19  19.2  \n",
       "4       27.6    3.5   21.2  12.3      14.1  52.5  61.3  34.1  102.98  19.0  \n",
       "\n",
       "[5 rows x 22 columns]"
      ]
     },
     "execution_count": 98,
     "metadata": {},
     "output_type": "execute_result"
    }
   ],
   "source": [
    "pie_df.head()"
   ]
  },
  {
   "cell_type": "code",
   "execution_count": 99,
   "metadata": {},
   "outputs": [
    {
     "data": {
      "text/html": [
       "<div>\n",
       "<style scoped>\n",
       "    .dataframe tbody tr th:only-of-type {\n",
       "        vertical-align: middle;\n",
       "    }\n",
       "\n",
       "    .dataframe tbody tr th {\n",
       "        vertical-align: top;\n",
       "    }\n",
       "\n",
       "    .dataframe thead th {\n",
       "        text-align: right;\n",
       "    }\n",
       "</style>\n",
       "<table border=\"1\" class=\"dataframe\">\n",
       "  <thead>\n",
       "    <tr style=\"text-align: right;\">\n",
       "      <th></th>\n",
       "      <th>Unnamed: 0</th>\n",
       "      <th>Rk</th>\n",
       "      <th>PLAYER</th>\n",
       "      <th>POSITION</th>\n",
       "      <th>AGE</th>\n",
       "      <th>MP</th>\n",
       "      <th>FG</th>\n",
       "      <th>FGA</th>\n",
       "      <th>FG%</th>\n",
       "      <th>3P</th>\n",
       "      <th>...</th>\n",
       "      <th>TEAM</th>\n",
       "      <th>GP</th>\n",
       "      <th>MPG</th>\n",
       "      <th>ORPM</th>\n",
       "      <th>DRPM</th>\n",
       "      <th>RPM</th>\n",
       "      <th>WINS_RPM</th>\n",
       "      <th>PIE</th>\n",
       "      <th>PACE</th>\n",
       "      <th>W</th>\n",
       "    </tr>\n",
       "  </thead>\n",
       "  <tbody>\n",
       "    <tr>\n",
       "      <th>0</th>\n",
       "      <td>0</td>\n",
       "      <td>1</td>\n",
       "      <td>Russell Westbrook</td>\n",
       "      <td>PG</td>\n",
       "      <td>28</td>\n",
       "      <td>34.6</td>\n",
       "      <td>10.2</td>\n",
       "      <td>24.0</td>\n",
       "      <td>0.425</td>\n",
       "      <td>2.5</td>\n",
       "      <td>...</td>\n",
       "      <td>OKC</td>\n",
       "      <td>81</td>\n",
       "      <td>34.6</td>\n",
       "      <td>6.74</td>\n",
       "      <td>-0.47</td>\n",
       "      <td>6.27</td>\n",
       "      <td>17.34</td>\n",
       "      <td>23.0</td>\n",
       "      <td>102.31</td>\n",
       "      <td>46</td>\n",
       "    </tr>\n",
       "    <tr>\n",
       "      <th>1</th>\n",
       "      <td>1</td>\n",
       "      <td>2</td>\n",
       "      <td>James Harden</td>\n",
       "      <td>PG</td>\n",
       "      <td>27</td>\n",
       "      <td>36.4</td>\n",
       "      <td>8.3</td>\n",
       "      <td>18.9</td>\n",
       "      <td>0.440</td>\n",
       "      <td>3.2</td>\n",
       "      <td>...</td>\n",
       "      <td>HOU</td>\n",
       "      <td>81</td>\n",
       "      <td>36.4</td>\n",
       "      <td>6.38</td>\n",
       "      <td>-1.57</td>\n",
       "      <td>4.81</td>\n",
       "      <td>15.54</td>\n",
       "      <td>19.0</td>\n",
       "      <td>102.98</td>\n",
       "      <td>54</td>\n",
       "    </tr>\n",
       "    <tr>\n",
       "      <th>2</th>\n",
       "      <td>2</td>\n",
       "      <td>3</td>\n",
       "      <td>Isaiah Thomas</td>\n",
       "      <td>PG</td>\n",
       "      <td>27</td>\n",
       "      <td>33.8</td>\n",
       "      <td>9.0</td>\n",
       "      <td>19.4</td>\n",
       "      <td>0.463</td>\n",
       "      <td>3.2</td>\n",
       "      <td>...</td>\n",
       "      <td>BOS</td>\n",
       "      <td>76</td>\n",
       "      <td>33.8</td>\n",
       "      <td>5.72</td>\n",
       "      <td>-3.89</td>\n",
       "      <td>1.83</td>\n",
       "      <td>8.19</td>\n",
       "      <td>16.1</td>\n",
       "      <td>99.84</td>\n",
       "      <td>51</td>\n",
       "    </tr>\n",
       "    <tr>\n",
       "      <th>3</th>\n",
       "      <td>3</td>\n",
       "      <td>4</td>\n",
       "      <td>Anthony Davis</td>\n",
       "      <td>C</td>\n",
       "      <td>23</td>\n",
       "      <td>36.1</td>\n",
       "      <td>10.3</td>\n",
       "      <td>20.3</td>\n",
       "      <td>0.505</td>\n",
       "      <td>0.5</td>\n",
       "      <td>...</td>\n",
       "      <td>NO</td>\n",
       "      <td>75</td>\n",
       "      <td>36.1</td>\n",
       "      <td>0.45</td>\n",
       "      <td>3.90</td>\n",
       "      <td>4.35</td>\n",
       "      <td>12.81</td>\n",
       "      <td>19.2</td>\n",
       "      <td>100.19</td>\n",
       "      <td>31</td>\n",
       "    </tr>\n",
       "    <tr>\n",
       "      <th>4</th>\n",
       "      <td>4</td>\n",
       "      <td>5</td>\n",
       "      <td>DeMar DeRozan</td>\n",
       "      <td>SG</td>\n",
       "      <td>27</td>\n",
       "      <td>35.4</td>\n",
       "      <td>9.7</td>\n",
       "      <td>20.9</td>\n",
       "      <td>0.467</td>\n",
       "      <td>0.4</td>\n",
       "      <td>...</td>\n",
       "      <td>TOR</td>\n",
       "      <td>74</td>\n",
       "      <td>35.4</td>\n",
       "      <td>2.21</td>\n",
       "      <td>-2.04</td>\n",
       "      <td>0.17</td>\n",
       "      <td>5.46</td>\n",
       "      <td>15.5</td>\n",
       "      <td>97.69</td>\n",
       "      <td>47</td>\n",
       "    </tr>\n",
       "  </tbody>\n",
       "</table>\n",
       "<p>5 rows × 38 columns</p>\n",
       "</div>"
      ],
      "text/plain": [
       "   Unnamed: 0  Rk             PLAYER POSITION  AGE    MP    FG   FGA    FG%  \\\n",
       "0           0   1  Russell Westbrook       PG   28  34.6  10.2  24.0  0.425   \n",
       "1           1   2       James Harden       PG   27  36.4   8.3  18.9  0.440   \n",
       "2           2   3      Isaiah Thomas       PG   27  33.8   9.0  19.4  0.463   \n",
       "3           3   4      Anthony Davis        C   23  36.1  10.3  20.3  0.505   \n",
       "4           4   5      DeMar DeRozan       SG   27  35.4   9.7  20.9  0.467   \n",
       "\n",
       "    3P  ...  TEAM  GP   MPG  ORPM  DRPM   RPM  WINS_RPM   PIE    PACE   W  \n",
       "0  2.5  ...   OKC  81  34.6  6.74 -0.47  6.27     17.34  23.0  102.31  46  \n",
       "1  3.2  ...   HOU  81  36.4  6.38 -1.57  4.81     15.54  19.0  102.98  54  \n",
       "2  3.2  ...   BOS  76  33.8  5.72 -3.89  1.83      8.19  16.1   99.84  51  \n",
       "3  0.5  ...    NO  75  36.1  0.45  3.90  4.35     12.81  19.2  100.19  31  \n",
       "4  0.4  ...   TOR  74  35.4  2.21 -2.04  0.17      5.46  15.5   97.69  47  \n",
       "\n",
       "[5 rows x 38 columns]"
      ]
     },
     "execution_count": 99,
     "metadata": {},
     "output_type": "execute_result"
    }
   ],
   "source": [
    "extra_df.head()"
   ]
  },
  {
   "cell_type": "markdown",
   "metadata": {},
   "source": [
    "# Clean data"
   ]
  },
  {
   "cell_type": "code",
   "execution_count": 100,
   "metadata": {},
   "outputs": [],
   "source": [
    "START_YEAR = 2016\n",
    "END_YEAR = 2018"
   ]
  },
  {
   "cell_type": "code",
   "execution_count": 101,
   "metadata": {},
   "outputs": [],
   "source": [
    "# We only have salary information from 1990 onwards\n",
    "clean_player_data_df = player_data_df[(player_data_df['year_end'] >= START_YEAR) & (player_data_df['year_end'] <= END_YEAR)]"
   ]
  },
  {
   "cell_type": "code",
   "execution_count": 102,
   "metadata": {},
   "outputs": [],
   "source": [
    "clean_seasons_stats_df = seasons_stats_df[(seasons_stats_df['Year'] >= START_YEAR) & (seasons_stats_df['Year'] <= END_YEAR)].drop(['Unnamed: 0', 'blanl', 'blank2'], 'columns')\n",
    "clean_seasons_stats_df = clean_seasons_stats_df.groupby('Player').apply(lambda x: x.drop_duplicates(subset=['Year'])).reset_index(drop=True)"
   ]
  },
  {
   "cell_type": "code",
   "execution_count": 103,
   "metadata": {},
   "outputs": [],
   "source": [
    "clean_body_stats_df = players_df[['Player', 'height', 'weight']]"
   ]
  },
  {
   "cell_type": "code",
   "execution_count": 104,
   "metadata": {},
   "outputs": [],
   "source": [
    "clean_salaries_df = salaries_df.drop(['team', 'team_name'], 'columns')"
   ]
  },
  {
   "cell_type": "code",
   "execution_count": 105,
   "metadata": {},
   "outputs": [
    {
     "data": {
      "text/html": [
       "<div>\n",
       "<style scoped>\n",
       "    .dataframe tbody tr th:only-of-type {\n",
       "        vertical-align: middle;\n",
       "    }\n",
       "\n",
       "    .dataframe tbody tr th {\n",
       "        vertical-align: top;\n",
       "    }\n",
       "\n",
       "    .dataframe thead th {\n",
       "        text-align: right;\n",
       "    }\n",
       "</style>\n",
       "<table border=\"1\" class=\"dataframe\">\n",
       "  <thead>\n",
       "    <tr style=\"text-align: right;\">\n",
       "      <th></th>\n",
       "      <th>salary_cap_nominal</th>\n",
       "      <th>salary_cap_real</th>\n",
       "    </tr>\n",
       "    <tr>\n",
       "      <th>Season</th>\n",
       "      <th></th>\n",
       "      <th></th>\n",
       "    </tr>\n",
       "  </thead>\n",
       "  <tbody>\n",
       "    <tr>\n",
       "      <th>1984</th>\n",
       "      <td>3600000.0</td>\n",
       "      <td>7934034.0</td>\n",
       "    </tr>\n",
       "    <tr>\n",
       "      <th>1985</th>\n",
       "      <td>4233000.0</td>\n",
       "      <td>9153509.0</td>\n",
       "    </tr>\n",
       "    <tr>\n",
       "      <th>1986</th>\n",
       "      <td>4945000.0</td>\n",
       "      <td>10317292.0</td>\n",
       "    </tr>\n",
       "    <tr>\n",
       "      <th>1987</th>\n",
       "      <td>6164000.0</td>\n",
       "      <td>12354015.0</td>\n",
       "    </tr>\n",
       "    <tr>\n",
       "      <th>1988</th>\n",
       "      <td>7232000.0</td>\n",
       "      <td>13829137.0</td>\n",
       "    </tr>\n",
       "  </tbody>\n",
       "</table>\n",
       "</div>"
      ],
      "text/plain": [
       "        salary_cap_nominal  salary_cap_real\n",
       "Season                                     \n",
       "1984             3600000.0        7934034.0\n",
       "1985             4233000.0        9153509.0\n",
       "1986             4945000.0       10317292.0\n",
       "1987             6164000.0       12354015.0\n",
       "1988             7232000.0       13829137.0"
      ]
     },
     "execution_count": 105,
     "metadata": {},
     "output_type": "execute_result"
    }
   ],
   "source": [
    "salary_cap_df['Season'] = salary_cap_df['Season'].str.split(\"-\").str[0].astype(int)\n",
    "salary_cap_df = salary_cap_df.set_index('Season')\n",
    "salary_cap_df = salary_cap_df[salary_cap_df.columns[0:]].replace('[\\$,]', '', regex=True).astype(float)\n",
    "salary_cap_df = salary_cap_df.dropna()\n",
    "salary_cap_df.rename(columns={'Nominal':'salary_cap_nominal', 'Real':'salary_cap_real'}, inplace=True)\n",
    "salary_cap_df.head()"
   ]
  },
  {
   "cell_type": "markdown",
   "metadata": {},
   "source": [
    "# Analyzing raw data"
   ]
  },
  {
   "cell_type": "markdown",
   "metadata": {},
   "source": [
    "### Examining Salary Inflation"
   ]
  },
  {
   "cell_type": "code",
   "execution_count": 106,
   "metadata": {},
   "outputs": [
    {
     "data": {
      "text/html": [
       "<div>\n",
       "<style scoped>\n",
       "    .dataframe tbody tr th:only-of-type {\n",
       "        vertical-align: middle;\n",
       "    }\n",
       "\n",
       "    .dataframe tbody tr th {\n",
       "        vertical-align: top;\n",
       "    }\n",
       "\n",
       "    .dataframe thead th {\n",
       "        text-align: right;\n",
       "    }\n",
       "</style>\n",
       "<table border=\"1\" class=\"dataframe\">\n",
       "  <thead>\n",
       "    <tr style=\"text-align: right;\">\n",
       "      <th></th>\n",
       "      <th>salary_cap_nominal</th>\n",
       "      <th>salary_cap_real</th>\n",
       "    </tr>\n",
       "    <tr>\n",
       "      <th>Season</th>\n",
       "      <th></th>\n",
       "      <th></th>\n",
       "    </tr>\n",
       "  </thead>\n",
       "  <tbody>\n",
       "    <tr>\n",
       "      <th>1984</th>\n",
       "      <td>3600000.0</td>\n",
       "      <td>7934034.0</td>\n",
       "    </tr>\n",
       "    <tr>\n",
       "      <th>1985</th>\n",
       "      <td>4233000.0</td>\n",
       "      <td>9153509.0</td>\n",
       "    </tr>\n",
       "    <tr>\n",
       "      <th>1986</th>\n",
       "      <td>4945000.0</td>\n",
       "      <td>10317292.0</td>\n",
       "    </tr>\n",
       "    <tr>\n",
       "      <th>1987</th>\n",
       "      <td>6164000.0</td>\n",
       "      <td>12354015.0</td>\n",
       "    </tr>\n",
       "    <tr>\n",
       "      <th>1988</th>\n",
       "      <td>7232000.0</td>\n",
       "      <td>13829137.0</td>\n",
       "    </tr>\n",
       "  </tbody>\n",
       "</table>\n",
       "</div>"
      ],
      "text/plain": [
       "        salary_cap_nominal  salary_cap_real\n",
       "Season                                     \n",
       "1984             3600000.0        7934034.0\n",
       "1985             4233000.0        9153509.0\n",
       "1986             4945000.0       10317292.0\n",
       "1987             6164000.0       12354015.0\n",
       "1988             7232000.0       13829137.0"
      ]
     },
     "execution_count": 106,
     "metadata": {},
     "output_type": "execute_result"
    }
   ],
   "source": [
    "salary_cap_df.head()"
   ]
  },
  {
   "cell_type": "code",
   "execution_count": 107,
   "metadata": {},
   "outputs": [
    {
     "data": {
      "image/png": "[encoded data removed]",
      "text/plain": [
       "<Figure size 432x288 with 1 Axes>"
      ]
     },
     "metadata": {
      "needs_background": "light"
     },
     "output_type": "display_data"
    }
   ],
   "source": [
    "# Looking at the salary cap inflation over time\n",
    "lines = salary_cap_df.plot.line()\n",
    "plt.ylabel('Salary')\n",
    "plt.show()"
   ]
  },
  {
   "cell_type": "code",
   "execution_count": 108,
   "metadata": {},
   "outputs": [
    {
     "data": {
      "image/png": "[encoded data removed]",
      "text/plain": [
       "<Figure size 432x288 with 1 Axes>"
      ]
     },
     "metadata": {
      "needs_background": "light"
     },
     "output_type": "display_data"
    }
   ],
   "source": [
    "# Get the average salary over the years 1990-2018\n",
    "avg_salaries = salaries_df.groupby('season_end')['salary', 'season_end'].transform('mean').drop_duplicates()\n",
    "avg_salaries.columns = ['Average Salary', 'Season']\n",
    "avg_salaries = avg_salaries.set_index('Season')\n",
    "avg_salaries.plot.line()\n",
    "plt.ylabel('Average Salary')\n",
    "plt.show()"
   ]
  },
  {
   "cell_type": "code",
   "execution_count": 109,
   "metadata": {},
   "outputs": [
    {
     "data": {
      "text/html": [
       "<div>\n",
       "<style scoped>\n",
       "    .dataframe tbody tr th:only-of-type {\n",
       "        vertical-align: middle;\n",
       "    }\n",
       "\n",
       "    .dataframe tbody tr th {\n",
       "        vertical-align: top;\n",
       "    }\n",
       "\n",
       "    .dataframe thead th {\n",
       "        text-align: right;\n",
       "    }\n",
       "</style>\n",
       "<table border=\"1\" class=\"dataframe\">\n",
       "  <thead>\n",
       "    <tr style=\"text-align: right;\">\n",
       "      <th></th>\n",
       "      <th>salary_cap_nominal</th>\n",
       "      <th>salary_cap_real</th>\n",
       "      <th>Average Salary</th>\n",
       "    </tr>\n",
       "    <tr>\n",
       "      <th>Season</th>\n",
       "      <th></th>\n",
       "      <th></th>\n",
       "      <th></th>\n",
       "    </tr>\n",
       "  </thead>\n",
       "  <tbody>\n",
       "    <tr>\n",
       "      <th>1984</th>\n",
       "      <td>3600000.0</td>\n",
       "      <td>7934034.0</td>\n",
       "      <td>NaN</td>\n",
       "    </tr>\n",
       "    <tr>\n",
       "      <th>1985</th>\n",
       "      <td>4233000.0</td>\n",
       "      <td>9153509.0</td>\n",
       "      <td>NaN</td>\n",
       "    </tr>\n",
       "    <tr>\n",
       "      <th>1986</th>\n",
       "      <td>4945000.0</td>\n",
       "      <td>10317292.0</td>\n",
       "      <td>NaN</td>\n",
       "    </tr>\n",
       "    <tr>\n",
       "      <th>1987</th>\n",
       "      <td>6164000.0</td>\n",
       "      <td>12354015.0</td>\n",
       "      <td>NaN</td>\n",
       "    </tr>\n",
       "    <tr>\n",
       "      <th>1988</th>\n",
       "      <td>7232000.0</td>\n",
       "      <td>13829137.0</td>\n",
       "      <td>NaN</td>\n",
       "    </tr>\n",
       "  </tbody>\n",
       "</table>\n",
       "</div>"
      ],
      "text/plain": [
       "        salary_cap_nominal  salary_cap_real  Average Salary\n",
       "Season                                                     \n",
       "1984             3600000.0        7934034.0             NaN\n",
       "1985             4233000.0        9153509.0             NaN\n",
       "1986             4945000.0       10317292.0             NaN\n",
       "1987             6164000.0       12354015.0             NaN\n",
       "1988             7232000.0       13829137.0             NaN"
      ]
     },
     "execution_count": 109,
     "metadata": {},
     "output_type": "execute_result"
    }
   ],
   "source": [
    "salary_cap_df = pd.concat([salary_cap_df, avg_salaries], axis=1, join_axes=[salary_cap_df.index])\n",
    "salary_cap_df.head()"
   ]
  },
  {
   "cell_type": "code",
   "execution_count": 110,
   "metadata": {},
   "outputs": [
    {
     "data": {
      "image/png": "[encoded data removed]",
      "text/plain": [
       "<Figure size 432x288 with 1 Axes>"
      ]
     },
     "metadata": {
      "needs_background": "light"
     },
     "output_type": "display_data"
    }
   ],
   "source": [
    "lines = salary_cap_df.plot.line()\n",
    "plt.ylabel('Salary')\n",
    "plt.show()"
   ]
  },
  {
   "cell_type": "markdown",
   "metadata": {},
   "source": [
    "We see that the average salary is much below the salary cap.  This is because the salary cap is the absolute maximum a NBA team can pay their entire roster (before entering the luxury tax), whereas the average salary is for just a single NBA player.  A better comparison would be to compare the relationship between the salary cap inflation and the average salary inflation (and maybe compare to the US inflation)."
   ]
  },
  {
   "cell_type": "code",
   "execution_count": 111,
   "metadata": {},
   "outputs": [
    {
     "data": {
      "image/png": "[encoded data removed]",
      "text/plain": [
       "<Figure size 432x288 with 1 Axes>"
      ]
     },
     "metadata": {
      "needs_background": "light"
     },
     "output_type": "display_data"
    }
   ],
   "source": [
    "salary_inflation = salary_cap_df.pct_change()\n",
    "lines = salary_inflation.plot.line()\n",
    "plt.ylabel('Inflation')\n",
    "plt.show()"
   ]
  },
  {
   "cell_type": "markdown",
   "metadata": {},
   "source": [
    "We see that there isn't too strong of a correlation between the inflation in the salary cap and the inflation in player salaries.  In building our models, we will again test if including the particular season's salary cap (instead of just the year) improves our performance.  Our examination of the salary cap and salaries inflation indicates that it may to some extent."
   ]
  },
  {
   "cell_type": "markdown",
   "metadata": {},
   "source": [
    "### Examining salary distribution"
   ]
  },
  {
   "cell_type": "markdown",
   "metadata": {},
   "source": [
    "In this section, we want to examine the distribution of player salaries."
   ]
  },
  {
   "cell_type": "code",
   "execution_count": 112,
   "metadata": {},
   "outputs": [
    {
     "data": {
      "image/png": "[encoded data removed]",
      "text/plain": [
       "<Figure size 432x288 with 1 Axes>"
      ]
     },
     "metadata": {
      "needs_background": "light"
     },
     "output_type": "display_data"
    },
    {
     "data": {
      "image/png": "[encoded data removed]",
      "text/plain": [
       "<Figure size 432x288 with 1 Axes>"
      ]
     },
     "metadata": {
      "needs_background": "light"
     },
     "output_type": "display_data"
    },
    {
     "data": {
      "image/png": "[encoded data removed]",
      "text/plain": [
       "<Figure size 432x288 with 1 Axes>"
      ]
     },
     "metadata": {
      "needs_background": "light"
     },
     "output_type": "display_data"
    },
    {
     "data": {
      "image/png": "[encoded data removed]",
      "text/plain": [
       "<Figure size 432x288 with 1 Axes>"
      ]
     },
     "metadata": {
      "needs_background": "light"
     },
     "output_type": "display_data"
    }
   ],
   "source": [
    "sample_years = [2018,2010,2002,1994]\n",
    "for year in sample_years:\n",
    "    salaries = clean_salaries_df[clean_salaries_df['season_end'] == year]['salary']\n",
    "    plt.hist(salaries)\n",
    "    plt.xlabel('Salary')\n",
    "    plt.title(year)\n",
    "    plt.show()"
   ]
  },
  {
   "cell_type": "markdown",
   "metadata": {},
   "source": [
    "As we would expect, salaries are quite right-skewed distributions and are becoming increasingly so. We try to make the distribution a bit more \"normal\":"
   ]
  },
  {
   "cell_type": "code",
   "execution_count": 113,
   "metadata": {},
   "outputs": [
    {
     "data": {
      "image/png": "[encoded data removed]",
      "text/plain": [
       "<Figure size 432x288 with 1 Axes>"
      ]
     },
     "metadata": {
      "needs_background": "light"
     },
     "output_type": "display_data"
    },
    {
     "data": {
      "image/png": "[encoded data removed]",
      "text/plain": [
       "<Figure size 432x288 with 1 Axes>"
      ]
     },
     "metadata": {
      "needs_background": "light"
     },
     "output_type": "display_data"
    },
    {
     "data": {
      "image/png": "[encoded data removed]",
      "text/plain": [
       "<Figure size 432x288 with 1 Axes>"
      ]
     },
     "metadata": {
      "needs_background": "light"
     },
     "output_type": "display_data"
    }
   ],
   "source": [
    "import math\n",
    "salaries_2006 = clean_salaries_df[clean_salaries_df['season_end'] == 2006]['salary']\n",
    "plt.hist(salaries.map(math.log))\n",
    "plt.xlabel('Salary')\n",
    "plt.title('Log Transform')\n",
    "plt.show()\n",
    "plt.hist(salaries.map(math.sqrt))\n",
    "plt.xlabel('Salary')\n",
    "plt.title('Square Root Transform')\n",
    "plt.show()\n",
    "plt.hist(salaries.map(lambda x: math.pow(x, 1/3)))\n",
    "plt.xlabel('Salary')\n",
    "plt.title('Cube Root Transform')\n",
    "plt.show()"
   ]
  },
  {
   "cell_type": "markdown",
   "metadata": {
    "collapsed": true
   },
   "source": [
    "# Transform data"
   ]
  },
  {
   "cell_type": "code",
   "execution_count": 114,
   "metadata": {},
   "outputs": [],
   "source": [
    "from scipy import stats"
   ]
  },
  {
   "cell_type": "code",
   "execution_count": 115,
   "metadata": {},
   "outputs": [],
   "source": [
    "features_seasons_stats_df = clean_seasons_stats_df.copy()"
   ]
  },
  {
   "cell_type": "code",
   "execution_count": 116,
   "metadata": {},
   "outputs": [
    {
     "data": {
      "text/html": [
       "<div>\n",
       "<style scoped>\n",
       "    .dataframe tbody tr th:only-of-type {\n",
       "        vertical-align: middle;\n",
       "    }\n",
       "\n",
       "    .dataframe tbody tr th {\n",
       "        vertical-align: top;\n",
       "    }\n",
       "\n",
       "    .dataframe thead th {\n",
       "        text-align: right;\n",
       "    }\n",
       "</style>\n",
       "<table border=\"1\" class=\"dataframe\">\n",
       "  <thead>\n",
       "    <tr style=\"text-align: right;\">\n",
       "      <th></th>\n",
       "      <th>Player</th>\n",
       "      <th>height</th>\n",
       "      <th>weight</th>\n",
       "    </tr>\n",
       "  </thead>\n",
       "  <tbody>\n",
       "    <tr>\n",
       "      <th>0</th>\n",
       "      <td>Curly Armstrong</td>\n",
       "      <td>180.0</td>\n",
       "      <td>77.0</td>\n",
       "    </tr>\n",
       "    <tr>\n",
       "      <th>1</th>\n",
       "      <td>Cliff Barker</td>\n",
       "      <td>188.0</td>\n",
       "      <td>83.0</td>\n",
       "    </tr>\n",
       "    <tr>\n",
       "      <th>2</th>\n",
       "      <td>Leo Barnhorst</td>\n",
       "      <td>193.0</td>\n",
       "      <td>86.0</td>\n",
       "    </tr>\n",
       "    <tr>\n",
       "      <th>3</th>\n",
       "      <td>Ed Bartels</td>\n",
       "      <td>196.0</td>\n",
       "      <td>88.0</td>\n",
       "    </tr>\n",
       "    <tr>\n",
       "      <th>4</th>\n",
       "      <td>Ralph Beard</td>\n",
       "      <td>178.0</td>\n",
       "      <td>79.0</td>\n",
       "    </tr>\n",
       "  </tbody>\n",
       "</table>\n",
       "</div>"
      ],
      "text/plain": [
       "            Player  height  weight\n",
       "0  Curly Armstrong   180.0    77.0\n",
       "1     Cliff Barker   188.0    83.0\n",
       "2    Leo Barnhorst   193.0    86.0\n",
       "3       Ed Bartels   196.0    88.0\n",
       "4      Ralph Beard   178.0    79.0"
      ]
     },
     "execution_count": 116,
     "metadata": {},
     "output_type": "execute_result"
    }
   ],
   "source": [
    "features_body_stats_df = clean_body_stats_df.copy()\n",
    "features_body_stats_df.head()"
   ]
  },
  {
   "cell_type": "markdown",
   "metadata": {},
   "source": [
    "# Join data"
   ]
  },
  {
   "cell_type": "code",
   "execution_count": 117,
   "metadata": {},
   "outputs": [
    {
     "data": {
      "text/html": [
       "<div>\n",
       "<style scoped>\n",
       "    .dataframe tbody tr th:only-of-type {\n",
       "        vertical-align: middle;\n",
       "    }\n",
       "\n",
       "    .dataframe tbody tr th {\n",
       "        vertical-align: top;\n",
       "    }\n",
       "\n",
       "    .dataframe thead th {\n",
       "        text-align: right;\n",
       "    }\n",
       "</style>\n",
       "<table border=\"1\" class=\"dataframe\">\n",
       "  <thead>\n",
       "    <tr style=\"text-align: right;\">\n",
       "      <th></th>\n",
       "      <th>player</th>\n",
       "      <th>salary</th>\n",
       "      <th>season_end</th>\n",
       "      <th>season_start</th>\n",
       "      <th>cube_root_salary</th>\n",
       "      <th>season_salary_z</th>\n",
       "      <th>next_season_salary_z</th>\n",
       "    </tr>\n",
       "  </thead>\n",
       "  <tbody>\n",
       "    <tr>\n",
       "      <th>0</th>\n",
       "      <td>Moses Malone</td>\n",
       "      <td>2406000</td>\n",
       "      <td>1991</td>\n",
       "      <td>1990</td>\n",
       "      <td>133.998069</td>\n",
       "      <td>1.895577</td>\n",
       "      <td>0.990715</td>\n",
       "    </tr>\n",
       "    <tr>\n",
       "      <th>1</th>\n",
       "      <td>Dominique Wilkins</td>\n",
       "      <td>2065000</td>\n",
       "      <td>1991</td>\n",
       "      <td>1990</td>\n",
       "      <td>127.342494</td>\n",
       "      <td>1.623581</td>\n",
       "      <td>2.102462</td>\n",
       "    </tr>\n",
       "    <tr>\n",
       "      <th>2</th>\n",
       "      <td>Jon Koncak</td>\n",
       "      <td>1550000</td>\n",
       "      <td>1991</td>\n",
       "      <td>1990</td>\n",
       "      <td>115.729453</td>\n",
       "      <td>1.148985</td>\n",
       "      <td>1.338753</td>\n",
       "    </tr>\n",
       "    <tr>\n",
       "      <th>3</th>\n",
       "      <td>Doc Rivers</td>\n",
       "      <td>895000</td>\n",
       "      <td>1991</td>\n",
       "      <td>1990</td>\n",
       "      <td>96.369812</td>\n",
       "      <td>0.357806</td>\n",
       "      <td>0.572878</td>\n",
       "    </tr>\n",
       "    <tr>\n",
       "      <th>4</th>\n",
       "      <td>Rumeal Robinson</td>\n",
       "      <td>800000</td>\n",
       "      <td>1991</td>\n",
       "      <td>1990</td>\n",
       "      <td>92.831777</td>\n",
       "      <td>0.213215</td>\n",
       "      <td>0.368960</td>\n",
       "    </tr>\n",
       "  </tbody>\n",
       "</table>\n",
       "</div>"
      ],
      "text/plain": [
       "              player   salary  season_end  season_start  cube_root_salary  \\\n",
       "0       Moses Malone  2406000        1991          1990        133.998069   \n",
       "1  Dominique Wilkins  2065000        1991          1990        127.342494   \n",
       "2         Jon Koncak  1550000        1991          1990        115.729453   \n",
       "3         Doc Rivers   895000        1991          1990         96.369812   \n",
       "4    Rumeal Robinson   800000        1991          1990         92.831777   \n",
       "\n",
       "   season_salary_z  next_season_salary_z  \n",
       "0         1.895577              0.990715  \n",
       "1         1.623581              2.102462  \n",
       "2         1.148985              1.338753  \n",
       "3         0.357806              0.572878  \n",
       "4         0.213215              0.368960  "
      ]
     },
     "execution_count": 117,
     "metadata": {},
     "output_type": "execute_result"
    }
   ],
   "source": [
    "features_salaries_df = clean_salaries_df.copy()\n",
    "features_salaries_df['cube_root_salary'] = np.cbrt(features_salaries_df['salary']) #.map(lambda x: math.pow(x, 1/3))\n",
    "features_salaries_df['season_salary_z'] = features_salaries_df.groupby('season_end')['cube_root_salary'].transform(stats.zscore)\n",
    "features_salaries_df['next_season_salary_z'] = features_salaries_df.groupby('player')['season_salary_z'].shift(-1)\n",
    "features_salaries_df = features_salaries_df.dropna(subset=['next_season_salary_z'])\n",
    "features_salaries_df.head()"
   ]
  },
  {
   "cell_type": "code",
   "execution_count": 118,
   "metadata": {},
   "outputs": [
    {
     "data": {
      "text/html": [
       "<div>\n",
       "<style scoped>\n",
       "    .dataframe tbody tr th:only-of-type {\n",
       "        vertical-align: middle;\n",
       "    }\n",
       "\n",
       "    .dataframe tbody tr th {\n",
       "        vertical-align: top;\n",
       "    }\n",
       "\n",
       "    .dataframe thead th {\n",
       "        text-align: right;\n",
       "    }\n",
       "</style>\n",
       "<table border=\"1\" class=\"dataframe\">\n",
       "  <thead>\n",
       "    <tr style=\"text-align: right;\">\n",
       "      <th></th>\n",
       "      <th></th>\n",
       "      <th>Pos</th>\n",
       "      <th>Age</th>\n",
       "      <th>Tm</th>\n",
       "      <th>G</th>\n",
       "      <th>GS</th>\n",
       "      <th>MP</th>\n",
       "      <th>PER</th>\n",
       "      <th>TS%</th>\n",
       "      <th>3PAr</th>\n",
       "      <th>FTr</th>\n",
       "      <th>...</th>\n",
       "      <th>FTA_pg</th>\n",
       "      <th>ORB_pg</th>\n",
       "      <th>DRB_pg</th>\n",
       "      <th>TRB_pg</th>\n",
       "      <th>AST_pg</th>\n",
       "      <th>STL_pg</th>\n",
       "      <th>BLK_pg</th>\n",
       "      <th>TOV_pg</th>\n",
       "      <th>PF_pg</th>\n",
       "      <th>PTS_pg</th>\n",
       "    </tr>\n",
       "    <tr>\n",
       "      <th>player</th>\n",
       "      <th>season_end</th>\n",
       "      <th></th>\n",
       "      <th></th>\n",
       "      <th></th>\n",
       "      <th></th>\n",
       "      <th></th>\n",
       "      <th></th>\n",
       "      <th></th>\n",
       "      <th></th>\n",
       "      <th></th>\n",
       "      <th></th>\n",
       "      <th></th>\n",
       "      <th></th>\n",
       "      <th></th>\n",
       "      <th></th>\n",
       "      <th></th>\n",
       "      <th></th>\n",
       "      <th></th>\n",
       "      <th></th>\n",
       "      <th></th>\n",
       "      <th></th>\n",
       "      <th></th>\n",
       "    </tr>\n",
       "  </thead>\n",
       "  <tbody>\n",
       "    <tr>\n",
       "      <th>A.J. Hammons</th>\n",
       "      <th>2017</th>\n",
       "      <td>C</td>\n",
       "      <td>24.0</td>\n",
       "      <td>DAL</td>\n",
       "      <td>22.0</td>\n",
       "      <td>0.0</td>\n",
       "      <td>163.0</td>\n",
       "      <td>8.4</td>\n",
       "      <td>0.472</td>\n",
       "      <td>0.238</td>\n",
       "      <td>0.476</td>\n",
       "      <td>...</td>\n",
       "      <td>0.909091</td>\n",
       "      <td>0.363636</td>\n",
       "      <td>1.272727</td>\n",
       "      <td>1.636364</td>\n",
       "      <td>0.181818</td>\n",
       "      <td>0.045455</td>\n",
       "      <td>0.590909</td>\n",
       "      <td>0.454545</td>\n",
       "      <td>0.954545</td>\n",
       "      <td>2.181818</td>\n",
       "    </tr>\n",
       "    <tr>\n",
       "      <th>Aaron Brooks</th>\n",
       "      <th>2017</th>\n",
       "      <td>PG</td>\n",
       "      <td>32.0</td>\n",
       "      <td>IND</td>\n",
       "      <td>65.0</td>\n",
       "      <td>0.0</td>\n",
       "      <td>894.0</td>\n",
       "      <td>9.5</td>\n",
       "      <td>0.507</td>\n",
       "      <td>0.427</td>\n",
       "      <td>0.133</td>\n",
       "      <td>...</td>\n",
       "      <td>0.615385</td>\n",
       "      <td>0.276923</td>\n",
       "      <td>0.784615</td>\n",
       "      <td>1.061538</td>\n",
       "      <td>1.923077</td>\n",
       "      <td>0.384615</td>\n",
       "      <td>0.138462</td>\n",
       "      <td>1.015385</td>\n",
       "      <td>1.430769</td>\n",
       "      <td>4.953846</td>\n",
       "    </tr>\n",
       "    <tr>\n",
       "      <th>Aaron Gordon</th>\n",
       "      <th>2017</th>\n",
       "      <td>SF</td>\n",
       "      <td>21.0</td>\n",
       "      <td>ORL</td>\n",
       "      <td>80.0</td>\n",
       "      <td>72.0</td>\n",
       "      <td>2298.0</td>\n",
       "      <td>14.4</td>\n",
       "      <td>0.530</td>\n",
       "      <td>0.309</td>\n",
       "      <td>0.251</td>\n",
       "      <td>...</td>\n",
       "      <td>2.712500</td>\n",
       "      <td>1.450000</td>\n",
       "      <td>3.612500</td>\n",
       "      <td>5.062500</td>\n",
       "      <td>1.875000</td>\n",
       "      <td>0.800000</td>\n",
       "      <td>0.500000</td>\n",
       "      <td>1.112500</td>\n",
       "      <td>2.150000</td>\n",
       "      <td>12.737500</td>\n",
       "    </tr>\n",
       "    <tr>\n",
       "      <th>Al Horford</th>\n",
       "      <th>2017</th>\n",
       "      <td>C</td>\n",
       "      <td>30.0</td>\n",
       "      <td>BOS</td>\n",
       "      <td>68.0</td>\n",
       "      <td>68.0</td>\n",
       "      <td>2193.0</td>\n",
       "      <td>17.7</td>\n",
       "      <td>0.553</td>\n",
       "      <td>0.302</td>\n",
       "      <td>0.169</td>\n",
       "      <td>...</td>\n",
       "      <td>1.985294</td>\n",
       "      <td>1.397059</td>\n",
       "      <td>5.426471</td>\n",
       "      <td>6.823529</td>\n",
       "      <td>4.955882</td>\n",
       "      <td>0.764706</td>\n",
       "      <td>1.279412</td>\n",
       "      <td>1.705882</td>\n",
       "      <td>2.029412</td>\n",
       "      <td>14.000000</td>\n",
       "    </tr>\n",
       "    <tr>\n",
       "      <th>Al Jefferson</th>\n",
       "      <th>2017</th>\n",
       "      <td>C</td>\n",
       "      <td>32.0</td>\n",
       "      <td>IND</td>\n",
       "      <td>66.0</td>\n",
       "      <td>1.0</td>\n",
       "      <td>931.0</td>\n",
       "      <td>18.9</td>\n",
       "      <td>0.526</td>\n",
       "      <td>0.002</td>\n",
       "      <td>0.180</td>\n",
       "      <td>...</td>\n",
       "      <td>1.287879</td>\n",
       "      <td>1.136364</td>\n",
       "      <td>3.075758</td>\n",
       "      <td>4.212121</td>\n",
       "      <td>0.863636</td>\n",
       "      <td>0.287879</td>\n",
       "      <td>0.242424</td>\n",
       "      <td>0.500000</td>\n",
       "      <td>1.893939</td>\n",
       "      <td>8.106061</td>\n",
       "    </tr>\n",
       "  </tbody>\n",
       "</table>\n",
       "<p>5 rows × 79 columns</p>\n",
       "</div>"
      ],
      "text/plain": [
       "                        Pos   Age   Tm     G    GS      MP   PER    TS%  \\\n",
       "player       season_end                                                   \n",
       "A.J. Hammons 2017         C  24.0  DAL  22.0   0.0   163.0   8.4  0.472   \n",
       "Aaron Brooks 2017        PG  32.0  IND  65.0   0.0   894.0   9.5  0.507   \n",
       "Aaron Gordon 2017        SF  21.0  ORL  80.0  72.0  2298.0  14.4  0.530   \n",
       "Al Horford   2017         C  30.0  BOS  68.0  68.0  2193.0  17.7  0.553   \n",
       "Al Jefferson 2017         C  32.0  IND  66.0   1.0   931.0  18.9  0.526   \n",
       "\n",
       "                          3PAr    FTr  ...    FTA_pg    ORB_pg    DRB_pg  \\\n",
       "player       season_end                ...                                 \n",
       "A.J. Hammons 2017        0.238  0.476  ...  0.909091  0.363636  1.272727   \n",
       "Aaron Brooks 2017        0.427  0.133  ...  0.615385  0.276923  0.784615   \n",
       "Aaron Gordon 2017        0.309  0.251  ...  2.712500  1.450000  3.612500   \n",
       "Al Horford   2017        0.302  0.169  ...  1.985294  1.397059  5.426471   \n",
       "Al Jefferson 2017        0.002  0.180  ...  1.287879  1.136364  3.075758   \n",
       "\n",
       "                           TRB_pg    AST_pg    STL_pg    BLK_pg    TOV_pg  \\\n",
       "player       season_end                                                     \n",
       "A.J. Hammons 2017        1.636364  0.181818  0.045455  0.590909  0.454545   \n",
       "Aaron Brooks 2017        1.061538  1.923077  0.384615  0.138462  1.015385   \n",
       "Aaron Gordon 2017        5.062500  1.875000  0.800000  0.500000  1.112500   \n",
       "Al Horford   2017        6.823529  4.955882  0.764706  1.279412  1.705882   \n",
       "Al Jefferson 2017        4.212121  0.863636  0.287879  0.242424  0.500000   \n",
       "\n",
       "                            PF_pg     PTS_pg  \n",
       "player       season_end                       \n",
       "A.J. Hammons 2017        0.954545   2.181818  \n",
       "Aaron Brooks 2017        1.430769   4.953846  \n",
       "Aaron Gordon 2017        2.150000  12.737500  \n",
       "Al Horford   2017        2.029412  14.000000  \n",
       "Al Jefferson 2017        1.893939   8.106061  \n",
       "\n",
       "[5 rows x 79 columns]"
      ]
     },
     "execution_count": 118,
     "metadata": {},
     "output_type": "execute_result"
    }
   ],
   "source": [
    "features_df = features_seasons_stats_df.merge(features_body_stats_df, how='inner', on='Player')\n",
    "features_df = features_df.merge(features_salaries_df, how='inner', left_on=['Player', 'Year'], right_on=['player', 'season_end'])\n",
    "\n",
    "features_df = features_df.merge(draft_pos_df, how='left', left_on=['player'], right_on=['Player'])\n",
    "\n",
    "features_df = features_df.merge(salary_cap_df, how='inner', left_on=['Year'], right_on=['Season'])\n",
    "\n",
    "# Get how long they've played so far\n",
    "year_start_df = player_data_df[['name', 'year_start']]\n",
    "features_df = features_df.merge(year_start_df, how='left', left_on=['player'], right_on=['name']) # USING INNER HERE MAKES R^2 LOWER????\n",
    "features_df['years_played'] = features_df['season_end'] - features_df['year_start']\n",
    "\n",
    "# Get per-game values\n",
    "per_game_features = ['MP', 'FG', 'FGA', '3P', '3PA', '2P', '2PA', 'FT', 'FTA', 'ORB', 'DRB', 'TRB', 'AST', 'STL', 'BLK', 'TOV', 'PF', 'PTS']\n",
    "for feature in per_game_features:\n",
    "    features_df[feature + '_pg'] = features_df[feature] / features_df['G']\n",
    "\n",
    "# Pretty much a late 2nd round pick???\n",
    "features_df['Round'].fillna(2, inplace=True)\n",
    "features_df['Pick'].fillna(61, inplace=True)\n",
    "\n",
    "# features_df = features_df.drop(['Year', 'Player'], 'columns').set_index(['player', 'season_end'])\n",
    "features_df = features_df.drop(['Year', 'Player_x', 'Player_y', 'name', 'year_start'], 'columns').set_index(['player', 'season_end'])\n",
    "\n",
    "features_df.head()"
   ]
  },
  {
   "cell_type": "code",
   "execution_count": 119,
   "metadata": {},
   "outputs": [
    {
     "data": {
      "text/plain": [
       "['Pos',\n",
       " 'Age',\n",
       " 'Tm',\n",
       " 'G',\n",
       " 'GS',\n",
       " 'MP',\n",
       " 'PER',\n",
       " 'TS%',\n",
       " '3PAr',\n",
       " 'FTr',\n",
       " 'ORB%',\n",
       " 'DRB%',\n",
       " 'TRB%',\n",
       " 'AST%',\n",
       " 'STL%',\n",
       " 'BLK%',\n",
       " 'TOV%',\n",
       " 'USG%',\n",
       " 'OWS',\n",
       " 'DWS',\n",
       " 'WS',\n",
       " 'WS/48',\n",
       " 'OBPM',\n",
       " 'DBPM',\n",
       " 'BPM',\n",
       " 'VORP',\n",
       " 'FG',\n",
       " 'FGA',\n",
       " 'FG%',\n",
       " '3P',\n",
       " '3PA',\n",
       " '3P%',\n",
       " '2P',\n",
       " '2PA',\n",
       " '2P%',\n",
       " 'eFG%',\n",
       " 'FT',\n",
       " 'FTA',\n",
       " 'FT%',\n",
       " 'ORB',\n",
       " 'DRB',\n",
       " 'TRB',\n",
       " 'AST',\n",
       " 'STL',\n",
       " 'BLK',\n",
       " 'TOV',\n",
       " 'PF',\n",
       " 'PTS',\n",
       " 'height',\n",
       " 'weight',\n",
       " 'salary',\n",
       " 'season_start',\n",
       " 'cube_root_salary',\n",
       " 'season_salary_z',\n",
       " 'next_season_salary_z',\n",
       " 'Round',\n",
       " 'Pick',\n",
       " 'salary_cap_nominal',\n",
       " 'salary_cap_real',\n",
       " 'Average Salary',\n",
       " 'years_played',\n",
       " 'MP_pg',\n",
       " 'FG_pg',\n",
       " 'FGA_pg',\n",
       " '3P_pg',\n",
       " '3PA_pg',\n",
       " '2P_pg',\n",
       " '2PA_pg',\n",
       " 'FT_pg',\n",
       " 'FTA_pg',\n",
       " 'ORB_pg',\n",
       " 'DRB_pg',\n",
       " 'TRB_pg',\n",
       " 'AST_pg',\n",
       " 'STL_pg',\n",
       " 'BLK_pg',\n",
       " 'TOV_pg',\n",
       " 'PF_pg',\n",
       " 'PTS_pg']"
      ]
     },
     "execution_count": 119,
     "metadata": {},
     "output_type": "execute_result"
    }
   ],
   "source": [
    "features_df.columns.tolist()"
   ]
  },
  {
   "cell_type": "markdown",
   "metadata": {},
   "source": [
    "# Feature Selection"
   ]
  },
  {
   "cell_type": "code",
   "execution_count": 120,
   "metadata": {},
   "outputs": [],
   "source": [
    "# [G, GS, MP, PER, TS%, 3PAr, FTr, ORB%, DRB%, TRB%, AST%, STL%, BLK%, TOV%, USG%, blanl, OWS, DWS, WS, WS/48, blank2, OBPM, DBPM, BPM, VORP, FG, FGA, FG%, 3P, 3PA, 3P%, 2P, 2PA, 2P%, eFG%, FT, FTA, FT%, ORB, DRB, TRB, AST, STL, BLK, TOV, PF, PTS]\n",
    "features = [\n",
    " #'Pos',\n",
    " 'Age',\n",
    " #'Tm',\n",
    " 'G',\n",
    " 'GS',\n",
    " 'MP',\n",
    " 'PER',\n",
    " 'TS%',\n",
    " '3PAr',\n",
    " 'FTr',\n",
    " 'ORB%',\n",
    " 'DRB%',\n",
    " 'TRB%',\n",
    " 'AST%',\n",
    " 'STL%',\n",
    " 'BLK%',\n",
    " 'TOV%',\n",
    " 'USG%',\n",
    " 'OWS',\n",
    " 'DWS',\n",
    " 'WS',\n",
    " 'WS/48',\n",
    " 'OBPM',\n",
    " 'DBPM',\n",
    " 'BPM',\n",
    " 'VORP',\n",
    " 'FG',\n",
    " 'FGA',\n",
    " 'FG%',\n",
    " '3P',\n",
    " '3PA',\n",
    " '3P%',\n",
    " '2P',\n",
    " '2PA',\n",
    " '2P%',\n",
    " 'eFG%',\n",
    " 'FT',\n",
    " 'FTA',\n",
    " 'FT%',\n",
    " 'ORB',\n",
    " 'DRB',\n",
    " 'TRB',\n",
    " 'AST',\n",
    " 'STL',\n",
    " 'BLK',\n",
    " 'TOV',\n",
    " 'PF',\n",
    " 'PTS',\n",
    " 'height',\n",
    " 'weight',\n",
    " #'salary',\n",
    " #'season_start', # For some reason, this improves certain models?\n",
    " #'season_salary_z',\n",
    " 'salary_cap_nominal',\n",
    " 'salary_cap_real',\n",
    " 'Round',\n",
    " 'Pick',\n",
    " 'years_played',\n",
    " 'MP_pg',\n",
    " 'FG_pg',\n",
    " 'FGA_pg',\n",
    " '3P_pg',\n",
    " '3PA_pg',\n",
    " '2P_pg',\n",
    " '2PA_pg',\n",
    " 'FT_pg',\n",
    " 'FTA_pg',\n",
    " 'ORB_pg',\n",
    " 'DRB_pg',\n",
    " 'TRB_pg',\n",
    " 'AST_pg',\n",
    " 'STL_pg',\n",
    " 'BLK_pg',\n",
    " 'TOV_pg',\n",
    " 'PF_pg',\n",
    " 'PTS_pg'\n",
    "]"
   ]
  },
  {
   "cell_type": "code",
   "execution_count": 121,
   "metadata": {},
   "outputs": [],
   "source": [
    "# features = [\n",
    "#     'MP_pg',\n",
    "#     'PTS',\n",
    "#     'WS',\n",
    "#     'MP',\n",
    "#     'Pick',\n",
    "#     'years_played',\n",
    "#     'GS',\n",
    "#     'FG',\n",
    "#     'FG_pg',\n",
    "#     'Age',\n",
    "#     'season_salary_z',\n",
    "# ]"
   ]
  },
  {
   "cell_type": "code",
   "execution_count": 122,
   "metadata": {},
   "outputs": [],
   "source": [
    "from sklearn.feature_selection import VarianceThreshold\n",
    "from sklearn.feature_selection import RFE"
   ]
  },
  {
   "cell_type": "code",
   "execution_count": 123,
   "metadata": {},
   "outputs": [
    {
     "data": {
      "text/html": [
       "<div>\n",
       "<style scoped>\n",
       "    .dataframe tbody tr th:only-of-type {\n",
       "        vertical-align: middle;\n",
       "    }\n",
       "\n",
       "    .dataframe tbody tr th {\n",
       "        vertical-align: top;\n",
       "    }\n",
       "\n",
       "    .dataframe thead th {\n",
       "        text-align: right;\n",
       "    }\n",
       "</style>\n",
       "<table border=\"1\" class=\"dataframe\">\n",
       "  <thead>\n",
       "    <tr style=\"text-align: right;\">\n",
       "      <th></th>\n",
       "      <th></th>\n",
       "      <th>Age</th>\n",
       "      <th>G</th>\n",
       "      <th>GS</th>\n",
       "      <th>MP</th>\n",
       "      <th>PER</th>\n",
       "      <th>TS%</th>\n",
       "      <th>3PAr</th>\n",
       "      <th>FTr</th>\n",
       "      <th>ORB%</th>\n",
       "      <th>DRB%</th>\n",
       "      <th>...</th>\n",
       "      <th>FTA_pg</th>\n",
       "      <th>ORB_pg</th>\n",
       "      <th>DRB_pg</th>\n",
       "      <th>TRB_pg</th>\n",
       "      <th>AST_pg</th>\n",
       "      <th>STL_pg</th>\n",
       "      <th>BLK_pg</th>\n",
       "      <th>TOV_pg</th>\n",
       "      <th>PF_pg</th>\n",
       "      <th>PTS_pg</th>\n",
       "    </tr>\n",
       "    <tr>\n",
       "      <th>player</th>\n",
       "      <th>season_end</th>\n",
       "      <th></th>\n",
       "      <th></th>\n",
       "      <th></th>\n",
       "      <th></th>\n",
       "      <th></th>\n",
       "      <th></th>\n",
       "      <th></th>\n",
       "      <th></th>\n",
       "      <th></th>\n",
       "      <th></th>\n",
       "      <th></th>\n",
       "      <th></th>\n",
       "      <th></th>\n",
       "      <th></th>\n",
       "      <th></th>\n",
       "      <th></th>\n",
       "      <th></th>\n",
       "      <th></th>\n",
       "      <th></th>\n",
       "      <th></th>\n",
       "      <th></th>\n",
       "    </tr>\n",
       "  </thead>\n",
       "  <tbody>\n",
       "    <tr>\n",
       "      <th>A.J. Hammons</th>\n",
       "      <th>2017</th>\n",
       "      <td>24.0</td>\n",
       "      <td>22.0</td>\n",
       "      <td>0.0</td>\n",
       "      <td>163.0</td>\n",
       "      <td>8.4</td>\n",
       "      <td>0.472</td>\n",
       "      <td>0.238</td>\n",
       "      <td>0.476</td>\n",
       "      <td>5.4</td>\n",
       "      <td>20.9</td>\n",
       "      <td>...</td>\n",
       "      <td>0.909091</td>\n",
       "      <td>0.363636</td>\n",
       "      <td>1.272727</td>\n",
       "      <td>1.636364</td>\n",
       "      <td>0.181818</td>\n",
       "      <td>0.045455</td>\n",
       "      <td>0.590909</td>\n",
       "      <td>0.454545</td>\n",
       "      <td>0.954545</td>\n",
       "      <td>2.181818</td>\n",
       "    </tr>\n",
       "    <tr>\n",
       "      <th>Aaron Brooks</th>\n",
       "      <th>2017</th>\n",
       "      <td>32.0</td>\n",
       "      <td>65.0</td>\n",
       "      <td>0.0</td>\n",
       "      <td>894.0</td>\n",
       "      <td>9.5</td>\n",
       "      <td>0.507</td>\n",
       "      <td>0.427</td>\n",
       "      <td>0.133</td>\n",
       "      <td>2.3</td>\n",
       "      <td>6.3</td>\n",
       "      <td>...</td>\n",
       "      <td>0.615385</td>\n",
       "      <td>0.276923</td>\n",
       "      <td>0.784615</td>\n",
       "      <td>1.061538</td>\n",
       "      <td>1.923077</td>\n",
       "      <td>0.384615</td>\n",
       "      <td>0.138462</td>\n",
       "      <td>1.015385</td>\n",
       "      <td>1.430769</td>\n",
       "      <td>4.953846</td>\n",
       "    </tr>\n",
       "    <tr>\n",
       "      <th>Aaron Gordon</th>\n",
       "      <th>2017</th>\n",
       "      <td>21.0</td>\n",
       "      <td>80.0</td>\n",
       "      <td>72.0</td>\n",
       "      <td>2298.0</td>\n",
       "      <td>14.4</td>\n",
       "      <td>0.530</td>\n",
       "      <td>0.309</td>\n",
       "      <td>0.251</td>\n",
       "      <td>5.3</td>\n",
       "      <td>14.1</td>\n",
       "      <td>...</td>\n",
       "      <td>2.712500</td>\n",
       "      <td>1.450000</td>\n",
       "      <td>3.612500</td>\n",
       "      <td>5.062500</td>\n",
       "      <td>1.875000</td>\n",
       "      <td>0.800000</td>\n",
       "      <td>0.500000</td>\n",
       "      <td>1.112500</td>\n",
       "      <td>2.150000</td>\n",
       "      <td>12.737500</td>\n",
       "    </tr>\n",
       "    <tr>\n",
       "      <th>Al Horford</th>\n",
       "      <th>2017</th>\n",
       "      <td>30.0</td>\n",
       "      <td>68.0</td>\n",
       "      <td>68.0</td>\n",
       "      <td>2193.0</td>\n",
       "      <td>17.7</td>\n",
       "      <td>0.553</td>\n",
       "      <td>0.302</td>\n",
       "      <td>0.169</td>\n",
       "      <td>4.9</td>\n",
       "      <td>18.6</td>\n",
       "      <td>...</td>\n",
       "      <td>1.985294</td>\n",
       "      <td>1.397059</td>\n",
       "      <td>5.426471</td>\n",
       "      <td>6.823529</td>\n",
       "      <td>4.955882</td>\n",
       "      <td>0.764706</td>\n",
       "      <td>1.279412</td>\n",
       "      <td>1.705882</td>\n",
       "      <td>2.029412</td>\n",
       "      <td>14.000000</td>\n",
       "    </tr>\n",
       "    <tr>\n",
       "      <th>Al Jefferson</th>\n",
       "      <th>2017</th>\n",
       "      <td>32.0</td>\n",
       "      <td>66.0</td>\n",
       "      <td>1.0</td>\n",
       "      <td>931.0</td>\n",
       "      <td>18.9</td>\n",
       "      <td>0.526</td>\n",
       "      <td>0.002</td>\n",
       "      <td>0.180</td>\n",
       "      <td>9.2</td>\n",
       "      <td>24.2</td>\n",
       "      <td>...</td>\n",
       "      <td>1.287879</td>\n",
       "      <td>1.136364</td>\n",
       "      <td>3.075758</td>\n",
       "      <td>4.212121</td>\n",
       "      <td>0.863636</td>\n",
       "      <td>0.287879</td>\n",
       "      <td>0.242424</td>\n",
       "      <td>0.500000</td>\n",
       "      <td>1.893939</td>\n",
       "      <td>8.106061</td>\n",
       "    </tr>\n",
       "  </tbody>\n",
       "</table>\n",
       "<p>5 rows × 71 columns</p>\n",
       "</div>"
      ],
      "text/plain": [
       "                          Age     G    GS      MP   PER    TS%   3PAr    FTr  \\\n",
       "player       season_end                                                        \n",
       "A.J. Hammons 2017        24.0  22.0   0.0   163.0   8.4  0.472  0.238  0.476   \n",
       "Aaron Brooks 2017        32.0  65.0   0.0   894.0   9.5  0.507  0.427  0.133   \n",
       "Aaron Gordon 2017        21.0  80.0  72.0  2298.0  14.4  0.530  0.309  0.251   \n",
       "Al Horford   2017        30.0  68.0  68.0  2193.0  17.7  0.553  0.302  0.169   \n",
       "Al Jefferson 2017        32.0  66.0   1.0   931.0  18.9  0.526  0.002  0.180   \n",
       "\n",
       "                         ORB%  DRB%  ...    FTA_pg    ORB_pg    DRB_pg  \\\n",
       "player       season_end              ...                                 \n",
       "A.J. Hammons 2017         5.4  20.9  ...  0.909091  0.363636  1.272727   \n",
       "Aaron Brooks 2017         2.3   6.3  ...  0.615385  0.276923  0.784615   \n",
       "Aaron Gordon 2017         5.3  14.1  ...  2.712500  1.450000  3.612500   \n",
       "Al Horford   2017         4.9  18.6  ...  1.985294  1.397059  5.426471   \n",
       "Al Jefferson 2017         9.2  24.2  ...  1.287879  1.136364  3.075758   \n",
       "\n",
       "                           TRB_pg    AST_pg    STL_pg    BLK_pg    TOV_pg  \\\n",
       "player       season_end                                                     \n",
       "A.J. Hammons 2017        1.636364  0.181818  0.045455  0.590909  0.454545   \n",
       "Aaron Brooks 2017        1.061538  1.923077  0.384615  0.138462  1.015385   \n",
       "Aaron Gordon 2017        5.062500  1.875000  0.800000  0.500000  1.112500   \n",
       "Al Horford   2017        6.823529  4.955882  0.764706  1.279412  1.705882   \n",
       "Al Jefferson 2017        4.212121  0.863636  0.287879  0.242424  0.500000   \n",
       "\n",
       "                            PF_pg     PTS_pg  \n",
       "player       season_end                       \n",
       "A.J. Hammons 2017        0.954545   2.181818  \n",
       "Aaron Brooks 2017        1.430769   4.953846  \n",
       "Aaron Gordon 2017        2.150000  12.737500  \n",
       "Al Horford   2017        2.029412  14.000000  \n",
       "Al Jefferson 2017        1.893939   8.106061  \n",
       "\n",
       "[5 rows x 71 columns]"
      ]
     },
     "execution_count": 123,
     "metadata": {},
     "output_type": "execute_result"
    }
   ],
   "source": [
    "features_df = features_df.dropna()\n",
    "\n",
    "X_df = features_df[features]\n",
    "y_df = features_df[\"next_season_salary_z\"]\n",
    "#X_df = pd.concat([X_df,pd.get_dummies(X_df['Pos'], prefix='Pos')],axis=1)\n",
    "#X_df = X_df.drop(['Pos'], axis=1)\n",
    "#X_df = X_df.drop(['season_salary_z'], axis=1)\n",
    "\n",
    "# Remove features with low variance (this does nothing???)\n",
    "sel = VarianceThreshold(threshold=(.6 * (1 - .6)))\n",
    "sel.fit_transform(X_df)\n",
    "\n",
    "# reg = ExtraTreesRegressor(n_estimators=100).fit(X_df, y_df)\n",
    "# reg.feature_importances_\n",
    "# model = SelectFromModel(clf, prefit=True)\n",
    "# X_new = model.transform(X)\n",
    "# X_new.shape\n",
    "\n",
    "X_df.head()\n",
    "# list(X_df.columns.values)"
   ]
  },
  {
   "cell_type": "code",
   "execution_count": 38,
   "metadata": {},
   "outputs": [
    {
     "data": {
      "image/png": "[encoded data removed]",
      "text/plain": [
       "<Figure size 432x288 with 2 Axes>"
      ]
     },
     "metadata": {
      "needs_background": "light"
     },
     "output_type": "display_data"
    }
   ],
   "source": [
    "def correlation_matrix(df):\n",
    "    from matplotlib import pyplot as plt\n",
    "    from matplotlib import cm as cm\n",
    "\n",
    "    fig = plt.figure()\n",
    "    ax1 = fig.add_subplot(111)\n",
    "    cmap = cm.get_cmap('jet')\n",
    "    cax = ax1.imshow(df.corr(), interpolation=\"nearest\", cmap=cmap)\n",
    "    ax1.grid(True)\n",
    "    plt.title('NBA Players Feature Correlation')\n",
    "    labels=features\n",
    "    ax1.set_xticklabels(labels,fontsize=6)\n",
    "    ax1.set_yticklabels(labels,fontsize=6)\n",
    "    # Add colorbar, make sure to specify tick locations to match desired ticklabels\n",
    "    fig.colorbar(cax, ticks=[.75,.8,.85,.90,.95,1])\n",
    "    plt.show()\n",
    "\n",
    "correlation_matrix(X_df)"
   ]
  },
  {
   "cell_type": "code",
   "execution_count": 39,
   "metadata": {},
   "outputs": [
    {
     "data": {
      "text/plain": [
       "<matplotlib.axes._subplots.AxesSubplot at 0x7fffb76d56a0>"
      ]
     },
     "execution_count": 39,
     "metadata": {},
     "output_type": "execute_result"
    },
    {
     "data": {
      "image/png": "[encoded data removed]",
      "text/plain": [
       "<Figure size 432x288 with 2 Axes>"
      ]
     },
     "metadata": {
      "needs_background": "light"
     },
     "output_type": "display_data"
    }
   ],
   "source": [
    "import seaborn as sns\n",
    "corr = X_df.corr()\n",
    "labels = [\n",
    "    'mins per game',\n",
    "    'total points',\n",
    "    'win shares',\n",
    "    'total mins played',\n",
    "    'draft pick',\n",
    "    'years played',\n",
    "    'games started',\n",
    "    'total FGs',\n",
    "    'FGs per game',\n",
    "    'age',\n",
    "    'salary',\n",
    "]\n",
    "sns.heatmap(corr, cmap=sns.diverging_palette(220, 10, as_cmap=True),\n",
    "            xticklabels=labels,\n",
    "            yticklabels=labels)"
   ]
  },
  {
   "cell_type": "code",
   "execution_count": 40,
   "metadata": {},
   "outputs": [
    {
     "data": {
      "image/png": "[encoded data removed]",
      "text/plain": [
       "<Figure size 288x288 with 1 Axes>"
      ]
     },
     "metadata": {
      "needs_background": "light"
     },
     "output_type": "display_data"
    }
   ],
   "source": [
    "import matplotlib.pyplot as plt\n",
    "\n",
    "plt.matshow(X_df.corr())\n",
    "plt.show()"
   ]
  },
  {
   "cell_type": "code",
   "execution_count": 41,
   "metadata": {},
   "outputs": [],
   "source": [
    "# Optionally we can normalize all features (this gives super whack results for the testing/training scores)\n",
    "# # Get column names first\n",
    "# names = X_df.columns\n",
    "# # Create the Scaler object\n",
    "# scaler = preprocessing.StandardScaler()\n",
    "# # Fit your data on the scaler object\n",
    "# scaled_df = scaler.fit_transform(X_df)\n",
    "# X_df = pd.DataFrame(scaled_df, columns=names)"
   ]
  },
  {
   "cell_type": "markdown",
   "metadata": {},
   "source": [
    "# Data partitioning"
   ]
  },
  {
   "cell_type": "code",
   "execution_count": 124,
   "metadata": {},
   "outputs": [],
   "source": [
    "from sklearn.model_selection import train_test_split"
   ]
  },
  {
   "cell_type": "code",
   "execution_count": 125,
   "metadata": {},
   "outputs": [
    {
     "name": "stdout",
     "output_type": "stream",
     "text": [
      "(547, 71)\n",
      "(547,)\n",
      "(235, 71)\n",
      "(235,)\n"
     ]
    }
   ],
   "source": [
    "X = X_df.values\n",
    "y = y_df.values\n",
    "y_c = pd.qcut(y, 5, labels=False)\n",
    "X_train, X_test, y_train, y_test = train_test_split(X, y, test_size=0.3, random_state=42)\n",
    "X_train, X_test, y_c_train, y_c_test = train_test_split(X, y_c, test_size=0.3, random_state=42)\n",
    "print(X_train.shape)\n",
    "print(y_train.shape)\n",
    "print(X_test.shape)\n",
    "print(y_test.shape)"
   ]
  },
  {
   "cell_type": "code",
   "execution_count": 84,
   "metadata": {
    "scrolled": false
   },
   "outputs": [
    {
     "name": "stderr",
     "output_type": "stream",
     "text": [
      "/home1/d/dcleung/miniconda3/lib/python3.7/site-packages/sklearn/ensemble/forest.py:246: FutureWarning: The default value of n_estimators will change from 10 in version 0.20 to 100 in 0.22.\n",
      "  \"10 in version 0.20 to 100 in 0.22.\", FutureWarning)\n",
      "/home1/d/dcleung/miniconda3/lib/python3.7/site-packages/sklearn/ensemble/forest.py:246: FutureWarning: The default value of n_estimators will change from 10 in version 0.20 to 100 in 0.22.\n",
      "  \"10 in version 0.20 to 100 in 0.22.\", FutureWarning)\n",
      "/home1/d/dcleung/miniconda3/lib/python3.7/site-packages/sklearn/ensemble/forest.py:246: FutureWarning: The default value of n_estimators will change from 10 in version 0.20 to 100 in 0.22.\n",
      "  \"10 in version 0.20 to 100 in 0.22.\", FutureWarning)\n",
      "/home1/d/dcleung/miniconda3/lib/python3.7/site-packages/sklearn/ensemble/forest.py:246: FutureWarning: The default value of n_estimators will change from 10 in version 0.20 to 100 in 0.22.\n",
      "  \"10 in version 0.20 to 100 in 0.22.\", FutureWarning)\n",
      "/home1/d/dcleung/miniconda3/lib/python3.7/site-packages/sklearn/ensemble/forest.py:246: FutureWarning: The default value of n_estimators will change from 10 in version 0.20 to 100 in 0.22.\n",
      "  \"10 in version 0.20 to 100 in 0.22.\", FutureWarning)\n",
      "/home1/d/dcleung/miniconda3/lib/python3.7/site-packages/sklearn/ensemble/forest.py:246: FutureWarning: The default value of n_estimators will change from 10 in version 0.20 to 100 in 0.22.\n",
      "  \"10 in version 0.20 to 100 in 0.22.\", FutureWarning)\n",
      "/home1/d/dcleung/miniconda3/lib/python3.7/site-packages/sklearn/ensemble/forest.py:246: FutureWarning: The default value of n_estimators will change from 10 in version 0.20 to 100 in 0.22.\n",
      "  \"10 in version 0.20 to 100 in 0.22.\", FutureWarning)\n",
      "/home1/d/dcleung/miniconda3/lib/python3.7/site-packages/sklearn/ensemble/forest.py:246: FutureWarning: The default value of n_estimators will change from 10 in version 0.20 to 100 in 0.22.\n",
      "  \"10 in version 0.20 to 100 in 0.22.\", FutureWarning)\n",
      "/home1/d/dcleung/miniconda3/lib/python3.7/site-packages/sklearn/ensemble/forest.py:246: FutureWarning: The default value of n_estimators will change from 10 in version 0.20 to 100 in 0.22.\n",
      "  \"10 in version 0.20 to 100 in 0.22.\", FutureWarning)\n",
      "/home1/d/dcleung/miniconda3/lib/python3.7/site-packages/sklearn/ensemble/forest.py:246: FutureWarning: The default value of n_estimators will change from 10 in version 0.20 to 100 in 0.22.\n",
      "  \"10 in version 0.20 to 100 in 0.22.\", FutureWarning)\n"
     ]
    },
    {
     "data": {
      "text/html": [
       "<div>\n",
       "<style scoped>\n",
       "    .dataframe tbody tr th:only-of-type {\n",
       "        vertical-align: middle;\n",
       "    }\n",
       "\n",
       "    .dataframe tbody tr th {\n",
       "        vertical-align: top;\n",
       "    }\n",
       "\n",
       "    .dataframe thead th {\n",
       "        text-align: right;\n",
       "    }\n",
       "</style>\n",
       "<table border=\"1\" class=\"dataframe\">\n",
       "  <thead>\n",
       "    <tr style=\"text-align: right;\">\n",
       "      <th></th>\n",
       "      <th>importances</th>\n",
       "    </tr>\n",
       "    <tr>\n",
       "      <th>features</th>\n",
       "      <th></th>\n",
       "    </tr>\n",
       "  </thead>\n",
       "  <tbody>\n",
       "    <tr>\n",
       "      <th>MP_pg</th>\n",
       "      <td>0.187592</td>\n",
       "    </tr>\n",
       "    <tr>\n",
       "      <th>PTS_pg</th>\n",
       "      <td>0.085119</td>\n",
       "    </tr>\n",
       "    <tr>\n",
       "      <th>Pick</th>\n",
       "      <td>0.073361</td>\n",
       "    </tr>\n",
       "    <tr>\n",
       "      <th>FG_pg</th>\n",
       "      <td>0.064517</td>\n",
       "    </tr>\n",
       "    <tr>\n",
       "      <th>years_played</th>\n",
       "      <td>0.063603</td>\n",
       "    </tr>\n",
       "    <tr>\n",
       "      <th>DRB_pg</th>\n",
       "      <td>0.038457</td>\n",
       "    </tr>\n",
       "    <tr>\n",
       "      <th>PER</th>\n",
       "      <td>0.037718</td>\n",
       "    </tr>\n",
       "    <tr>\n",
       "      <th>DRB</th>\n",
       "      <td>0.014457</td>\n",
       "    </tr>\n",
       "    <tr>\n",
       "      <th>Age</th>\n",
       "      <td>0.012812</td>\n",
       "    </tr>\n",
       "    <tr>\n",
       "      <th>PF_pg</th>\n",
       "      <td>0.011766</td>\n",
       "    </tr>\n",
       "    <tr>\n",
       "      <th>salary_cap_real</th>\n",
       "      <td>0.011040</td>\n",
       "    </tr>\n",
       "    <tr>\n",
       "      <th>FGA_pg</th>\n",
       "      <td>0.011010</td>\n",
       "    </tr>\n",
       "    <tr>\n",
       "      <th>BLK_pg</th>\n",
       "      <td>0.010779</td>\n",
       "    </tr>\n",
       "    <tr>\n",
       "      <th>PF</th>\n",
       "      <td>0.010047</td>\n",
       "    </tr>\n",
       "    <tr>\n",
       "      <th>salary_cap_nominal</th>\n",
       "      <td>0.009882</td>\n",
       "    </tr>\n",
       "    <tr>\n",
       "      <th>TOV_pg</th>\n",
       "      <td>0.009881</td>\n",
       "    </tr>\n",
       "    <tr>\n",
       "      <th>FT%</th>\n",
       "      <td>0.009854</td>\n",
       "    </tr>\n",
       "    <tr>\n",
       "      <th>weight</th>\n",
       "      <td>0.009572</td>\n",
       "    </tr>\n",
       "    <tr>\n",
       "      <th>TOV%</th>\n",
       "      <td>0.009230</td>\n",
       "    </tr>\n",
       "    <tr>\n",
       "      <th>TRB_pg</th>\n",
       "      <td>0.008998</td>\n",
       "    </tr>\n",
       "    <tr>\n",
       "      <th>DBPM</th>\n",
       "      <td>0.008988</td>\n",
       "    </tr>\n",
       "    <tr>\n",
       "      <th>USG%</th>\n",
       "      <td>0.008929</td>\n",
       "    </tr>\n",
       "    <tr>\n",
       "      <th>DWS</th>\n",
       "      <td>0.008594</td>\n",
       "    </tr>\n",
       "    <tr>\n",
       "      <th>WS/48</th>\n",
       "      <td>0.008273</td>\n",
       "    </tr>\n",
       "    <tr>\n",
       "      <th>FTr</th>\n",
       "      <td>0.008187</td>\n",
       "    </tr>\n",
       "    <tr>\n",
       "      <th>STL_pg</th>\n",
       "      <td>0.007919</td>\n",
       "    </tr>\n",
       "    <tr>\n",
       "      <th>2P%</th>\n",
       "      <td>0.007820</td>\n",
       "    </tr>\n",
       "    <tr>\n",
       "      <th>2PA_pg</th>\n",
       "      <td>0.007769</td>\n",
       "    </tr>\n",
       "    <tr>\n",
       "      <th>GS</th>\n",
       "      <td>0.007721</td>\n",
       "    </tr>\n",
       "    <tr>\n",
       "      <th>FTA_pg</th>\n",
       "      <td>0.007645</td>\n",
       "    </tr>\n",
       "    <tr>\n",
       "      <th>...</th>\n",
       "      <td>...</td>\n",
       "    </tr>\n",
       "    <tr>\n",
       "      <th>TS%</th>\n",
       "      <td>0.006589</td>\n",
       "    </tr>\n",
       "    <tr>\n",
       "      <th>DRB%</th>\n",
       "      <td>0.006521</td>\n",
       "    </tr>\n",
       "    <tr>\n",
       "      <th>WS</th>\n",
       "      <td>0.006477</td>\n",
       "    </tr>\n",
       "    <tr>\n",
       "      <th>STL</th>\n",
       "      <td>0.006226</td>\n",
       "    </tr>\n",
       "    <tr>\n",
       "      <th>AST</th>\n",
       "      <td>0.006187</td>\n",
       "    </tr>\n",
       "    <tr>\n",
       "      <th>height</th>\n",
       "      <td>0.006046</td>\n",
       "    </tr>\n",
       "    <tr>\n",
       "      <th>eFG%</th>\n",
       "      <td>0.005997</td>\n",
       "    </tr>\n",
       "    <tr>\n",
       "      <th>TOV</th>\n",
       "      <td>0.005894</td>\n",
       "    </tr>\n",
       "    <tr>\n",
       "      <th>OWS</th>\n",
       "      <td>0.005837</td>\n",
       "    </tr>\n",
       "    <tr>\n",
       "      <th>ORB_pg</th>\n",
       "      <td>0.005825</td>\n",
       "    </tr>\n",
       "    <tr>\n",
       "      <th>G</th>\n",
       "      <td>0.005807</td>\n",
       "    </tr>\n",
       "    <tr>\n",
       "      <th>3PAr</th>\n",
       "      <td>0.005624</td>\n",
       "    </tr>\n",
       "    <tr>\n",
       "      <th>STL%</th>\n",
       "      <td>0.005618</td>\n",
       "    </tr>\n",
       "    <tr>\n",
       "      <th>2PA</th>\n",
       "      <td>0.005437</td>\n",
       "    </tr>\n",
       "    <tr>\n",
       "      <th>3PA_pg</th>\n",
       "      <td>0.005384</td>\n",
       "    </tr>\n",
       "    <tr>\n",
       "      <th>ORB%</th>\n",
       "      <td>0.005143</td>\n",
       "    </tr>\n",
       "    <tr>\n",
       "      <th>ORB</th>\n",
       "      <td>0.005018</td>\n",
       "    </tr>\n",
       "    <tr>\n",
       "      <th>TRB%</th>\n",
       "      <td>0.004979</td>\n",
       "    </tr>\n",
       "    <tr>\n",
       "      <th>FGA</th>\n",
       "      <td>0.004843</td>\n",
       "    </tr>\n",
       "    <tr>\n",
       "      <th>VORP</th>\n",
       "      <td>0.004754</td>\n",
       "    </tr>\n",
       "    <tr>\n",
       "      <th>FT</th>\n",
       "      <td>0.004722</td>\n",
       "    </tr>\n",
       "    <tr>\n",
       "      <th>BLK%</th>\n",
       "      <td>0.004673</td>\n",
       "    </tr>\n",
       "    <tr>\n",
       "      <th>FTA</th>\n",
       "      <td>0.004591</td>\n",
       "    </tr>\n",
       "    <tr>\n",
       "      <th>2P</th>\n",
       "      <td>0.004536</td>\n",
       "    </tr>\n",
       "    <tr>\n",
       "      <th>PTS</th>\n",
       "      <td>0.004381</td>\n",
       "    </tr>\n",
       "    <tr>\n",
       "      <th>FG</th>\n",
       "      <td>0.004257</td>\n",
       "    </tr>\n",
       "    <tr>\n",
       "      <th>3P_pg</th>\n",
       "      <td>0.003999</td>\n",
       "    </tr>\n",
       "    <tr>\n",
       "      <th>3PA</th>\n",
       "      <td>0.003386</td>\n",
       "    </tr>\n",
       "    <tr>\n",
       "      <th>3P</th>\n",
       "      <td>0.002671</td>\n",
       "    </tr>\n",
       "    <tr>\n",
       "      <th>Round</th>\n",
       "      <td>0.000584</td>\n",
       "    </tr>\n",
       "  </tbody>\n",
       "</table>\n",
       "<p>71 rows × 1 columns</p>\n",
       "</div>"
      ],
      "text/plain": [
       "                    importances\n",
       "features                       \n",
       "MP_pg                  0.187592\n",
       "PTS_pg                 0.085119\n",
       "Pick                   0.073361\n",
       "FG_pg                  0.064517\n",
       "years_played           0.063603\n",
       "DRB_pg                 0.038457\n",
       "PER                    0.037718\n",
       "DRB                    0.014457\n",
       "Age                    0.012812\n",
       "PF_pg                  0.011766\n",
       "salary_cap_real        0.011040\n",
       "FGA_pg                 0.011010\n",
       "BLK_pg                 0.010779\n",
       "PF                     0.010047\n",
       "salary_cap_nominal     0.009882\n",
       "TOV_pg                 0.009881\n",
       "FT%                    0.009854\n",
       "weight                 0.009572\n",
       "TOV%                   0.009230\n",
       "TRB_pg                 0.008998\n",
       "DBPM                   0.008988\n",
       "USG%                   0.008929\n",
       "DWS                    0.008594\n",
       "WS/48                  0.008273\n",
       "FTr                    0.008187\n",
       "STL_pg                 0.007919\n",
       "2P%                    0.007820\n",
       "2PA_pg                 0.007769\n",
       "GS                     0.007721\n",
       "FTA_pg                 0.007645\n",
       "...                         ...\n",
       "TS%                    0.006589\n",
       "DRB%                   0.006521\n",
       "WS                     0.006477\n",
       "STL                    0.006226\n",
       "AST                    0.006187\n",
       "height                 0.006046\n",
       "eFG%                   0.005997\n",
       "TOV                    0.005894\n",
       "OWS                    0.005837\n",
       "ORB_pg                 0.005825\n",
       "G                      0.005807\n",
       "3PAr                   0.005624\n",
       "STL%                   0.005618\n",
       "2PA                    0.005437\n",
       "3PA_pg                 0.005384\n",
       "ORB%                   0.005143\n",
       "ORB                    0.005018\n",
       "TRB%                   0.004979\n",
       "FGA                    0.004843\n",
       "VORP                   0.004754\n",
       "FT                     0.004722\n",
       "BLK%                   0.004673\n",
       "FTA                    0.004591\n",
       "2P                     0.004536\n",
       "PTS                    0.004381\n",
       "FG                     0.004257\n",
       "3P_pg                  0.003999\n",
       "3PA                    0.003386\n",
       "3P                     0.002671\n",
       "Round                  0.000584\n",
       "\n",
       "[71 rows x 1 columns]"
      ]
     },
     "execution_count": 84,
     "metadata": {},
     "output_type": "execute_result"
    }
   ],
   "source": [
    "# GET THE MOST IMPORTANT FEATURES USING DECISION TREE\n",
    "from sklearn.ensemble import ExtraTreesRegressor, RandomForestRegressor\n",
    "\n",
    "keys = pd.Series(X_df.columns.values)\n",
    "importances_df = pd.concat([keys], axis=1)\n",
    "\n",
    "for iters in range(0, 10):\n",
    "    clf = RandomForestRegressor()\n",
    "    clf.fit(X, y)\n",
    "\n",
    "    importances = pd.Series(clf.feature_importances_)\n",
    "    \n",
    "    importances_df['features_' + str(iters)] = importances\n",
    "\n",
    "importances_df['mean_importances'] = importances_df.mean(axis=1, numeric_only=True)\n",
    "\n",
    "importances_df = importances_df[[0, 'mean_importances']]\n",
    "importances_df.columns = ['features', 'importances']\n",
    "importances_df = importances_df.set_index('features').sort_values(by=['importances'], ascending=False)\n",
    "importances_df"
   ]
  },
  {
   "cell_type": "code",
   "execution_count": 85,
   "metadata": {},
   "outputs": [
    {
     "data": {
      "text/plain": [
       "<matplotlib.axes._subplots.AxesSubplot at 0x7fffcbd18a20>"
      ]
     },
     "execution_count": 85,
     "metadata": {},
     "output_type": "execute_result"
    },
    {
     "data": {
      "image/png": "[encoded data removed]",
      "text/plain": [
       "<Figure size 432x288 with 1 Axes>"
      ]
     },
     "metadata": {
      "needs_background": "light"
     },
     "output_type": "display_data"
    }
   ],
   "source": [
    "top_df = importances_df.head(6)\n",
    "top_df.plot.bar(legend=None)"
   ]
  },
  {
   "cell_type": "markdown",
   "metadata": {},
   "source": [
    "# Train"
   ]
  },
  {
   "cell_type": "code",
   "execution_count": 45,
   "metadata": {},
   "outputs": [],
   "source": [
    "from sklearn.model_selection import cross_validate\n",
    "from sklearn.model_selection import cross_val_score, cross_val_predict"
   ]
  },
  {
   "cell_type": "markdown",
   "metadata": {},
   "source": [
    "## Basic Regression Models"
   ]
  },
  {
   "cell_type": "markdown",
   "metadata": {},
   "source": [
    "### Linear Models"
   ]
  },
  {
   "cell_type": "code",
   "execution_count": 126,
   "metadata": {},
   "outputs": [],
   "source": [
    "from sklearn import linear_model, svm, kernel_ridge"
   ]
  },
  {
   "cell_type": "code",
   "execution_count": 127,
   "metadata": {},
   "outputs": [
    {
     "name": "stdout",
     "output_type": "stream",
     "text": [
      "Average Testing Score: 0.46874882213721775\n",
      "Average Training Score: 0.6330289780225958\n"
     ]
    },
    {
     "name": "stderr",
     "output_type": "stream",
     "text": [
      "/home1/d/dcleung/miniconda3/lib/python3.7/site-packages/sklearn/utils/deprecation.py:125: FutureWarning: You are accessing a training score ('train_score'), which will not be available by default any more in 0.21. If you need training scores, please set return_train_score=True\n",
      "  warnings.warn(*warn_args, **warn_kwargs)\n"
     ]
    }
   ],
   "source": [
    "# Ordinary Least Squares Regression\n",
    "\n",
    "ols = linear_model.LinearRegression()\n",
    "results = cross_validate(ols, X_train, y_train, scoring='r2', cv=5, n_jobs=5)\n",
    "print(\"Average Testing Score: \" + str(np.mean(results['test_score'])))\n",
    "print(\"Average Training Score: \" + str(np.mean(results['train_score'])))"
   ]
  },
  {
   "cell_type": "code",
   "execution_count": 128,
   "metadata": {},
   "outputs": [
    {
     "name": "stdout",
     "output_type": "stream",
     "text": [
      "Average Testing Score: 0.5011536229271442\n",
      "Average Training Score: 0.6266559216392589\n"
     ]
    }
   ],
   "source": [
    "# Ridge Regression\n",
    "ridge = linear_model.Ridge(alpha=1e0)\n",
    "results = cross_validate(ridge, X_train, y_train, scoring='r2', cv=5, n_jobs=5)\n",
    "print(\"Average Testing Score: \" + str(np.mean(results['test_score'])))\n",
    "print(\"Average Training Score: \" + str(np.mean(results['train_score'])))"
   ]
  },
  {
   "cell_type": "code",
   "execution_count": 49,
   "metadata": {},
   "outputs": [
    {
     "name": "stdout",
     "output_type": "stream",
     "text": [
      "Average Testing Score: 0.3946071410037934\n",
      "Average Training Score: 0.39977474569229116\n"
     ]
    }
   ],
   "source": [
    "# Lasso Regression\n",
    "lasso = linear_model.Lasso()\n",
    "results = cross_validate(lasso, X_train, y_train, scoring='r2', cv=5, n_jobs=5)\n",
    "print(\"Average Testing Score: \" + str(np.mean(results['test_score'])))\n",
    "print(\"Average Training Score: \" + str(np.mean(results['train_score'])))"
   ]
  },
  {
   "cell_type": "code",
   "execution_count": 50,
   "metadata": {},
   "outputs": [
    {
     "name": "stdout",
     "output_type": "stream",
     "text": [
      "Average Testing Score: 0.4539149180957157\n",
      "Average Training Score: 0.45999661985638884\n"
     ]
    }
   ],
   "source": [
    "# Elastic Net Regression\n",
    "reg = linear_model.ElasticNet()\n",
    "results = cross_validate(reg, X_train, y_train, scoring='r2', cv=5, n_jobs=5)\n",
    "print(\"Average Testing Score: \" + str(np.mean(results['test_score'])))\n",
    "print(\"Average Training Score: \" + str(np.mean(results['train_score'])))"
   ]
  },
  {
   "cell_type": "code",
   "execution_count": null,
   "metadata": {},
   "outputs": [
    {
     "name": "stdout",
     "output_type": "stream",
     "text": [
      "Average Testing Score: -0.005154242337702763\n",
      "Average Training Score: 0.0\n"
     ]
    }
   ],
   "source": [
    "# Least Angle Regression\n",
    "reg = linear_model.LassoLars(alpha=.1)\n",
    "results = cross_validate(reg, X_train, y_train, scoring='r2', cv=5, n_jobs=5)\n",
    "print(\"Average Testing Score: \" + str(np.mean(results['test_score'])))\n",
    "print(\"Average Training Score: \" + str(np.mean(results['train_score'])))"
   ]
  },
  {
   "cell_type": "code",
   "execution_count": null,
   "metadata": {},
   "outputs": [
    {
     "name": "stdout",
     "output_type": "stream",
     "text": [
      "Average Testing Score: 0.5055125036419039\n",
      "Average Training Score: 0.5475030114985342\n"
     ]
    }
   ],
   "source": [
    "# Bayesian Regression\n",
    "reg = linear_model.BayesianRidge()\n",
    "results = cross_validate(reg, X_train, y_train, scoring='r2', cv=5, n_jobs=5)\n",
    "print(\"Average Testing Score: \" + str(np.mean(results['test_score'])))\n",
    "print(\"Average Training Score: \" + str(np.mean(results['train_score'])))"
   ]
  },
  {
   "cell_type": "code",
   "execution_count": null,
   "metadata": {},
   "outputs": [],
   "source": [
    "# Automatic Relevance Determination Regression\n",
    "# Note: This is slow as balls so dont run it...\n",
    "# reg = linear_model.ARDRegression()\n",
    "# results = cross_validate(reg, X_train, y_train, scoring='r2', cv=5, n_jobs=5)\n",
    "# print(\"Average Testing Score: \" + str(np.mean(results['test_score'])))\n",
    "# print(\"Average Training Score: \" + str(np.mean(results['train_score'])))"
   ]
  },
  {
   "cell_type": "code",
   "execution_count": null,
   "metadata": {},
   "outputs": [
    {
     "name": "stdout",
     "output_type": "stream",
     "text": [
      "Average Testing Score: 0.47231836315354\n",
      "Average Training Score: 0.5866079387120284\n"
     ]
    }
   ],
   "source": [
    "# Theil Sen Regression\n",
    "reg = linear_model.TheilSenRegressor()\n",
    "results = cross_validate(reg, X_train, y_train, scoring='r2', cv=5, n_jobs=5)\n",
    "print(\"Average Testing Score: \" + str(np.mean(results['test_score'])))\n",
    "print(\"Average Training Score: \" + str(np.mean(results['train_score'])))"
   ]
  },
  {
   "cell_type": "code",
   "execution_count": null,
   "metadata": {},
   "outputs": [
    {
     "name": "stdout",
     "output_type": "stream",
     "text": [
      "Average Testing Score: -0.56003385754006\n",
      "Average Training Score: -0.3669288044581715\n"
     ]
    }
   ],
   "source": [
    "reg = linear_model.RANSACRegressor()\n",
    "results = cross_validate(reg, X_train, y_train, scoring='r2', cv=5, n_jobs=5)\n",
    "print(\"Average Testing Score: \" + str(np.mean(results['test_score'])))\n",
    "print(\"Average Training Score: \" + str(np.mean(results['train_score'])))"
   ]
  },
  {
   "cell_type": "code",
   "execution_count": null,
   "metadata": {},
   "outputs": [
    {
     "name": "stdout",
     "output_type": "stream",
     "text": [
      "Average Testing Score: -0.0007222143694727734\n",
      "Average Training Score: 0.007342200841698454\n"
     ]
    }
   ],
   "source": [
    "reg = linear_model.HuberRegressor()\n",
    "results = cross_validate(reg, X_train, y_train, scoring='r2', cv=5, n_jobs=5)\n",
    "print(\"Average Testing Score: \" + str(np.mean(results['test_score'])))\n",
    "print(\"Average Training Score: \" + str(np.mean(results['train_score'])))"
   ]
  },
  {
   "cell_type": "markdown",
   "metadata": {},
   "source": [
    "## Advanced Regression Models"
   ]
  },
  {
   "cell_type": "code",
   "execution_count": 129,
   "metadata": {},
   "outputs": [
    {
     "name": "stdout",
     "output_type": "stream",
     "text": [
      "Average Testing Score: 0.5272993273198712\n",
      "Average Training Score: 0.7125441441544152\n"
     ]
    }
   ],
   "source": [
    "# AdaBoost Regressor\n",
    "from sklearn import ensemble\n",
    "clf = ensemble.AdaBoostRegressor()\n",
    "results = cross_validate(clf, X_train, y_train, scoring='r2', cv=5, n_jobs=5)\n",
    "print(\"Average Testing Score: \" + str(np.mean(results['test_score'])))\n",
    "print(\"Average Training Score: \" + str(np.mean(results['train_score'])))"
   ]
  },
  {
   "cell_type": "code",
   "execution_count": null,
   "metadata": {},
   "outputs": [
    {
     "name": "stdout",
     "output_type": "stream",
     "text": [
      "Average Testing Score: 0.2654132003690397\n",
      "Average Training Score: 0.3443058146881484\n"
     ]
    }
   ],
   "source": [
    "# Kernel Ridge Regression\n",
    "krr = kernel_ridge.KernelRidge(kernel='poly', degree=2)\n",
    "results = cross_validate(krr, X_train, y_train, scoring='r2', cv=5, n_jobs=5)\n",
    "print(\"Average Testing Score: \" + str(np.mean(results['test_score'])))\n",
    "print(\"Average Training Score: \" + str(np.mean(results['train_score'])))"
   ]
  },
  {
   "cell_type": "code",
   "execution_count": null,
   "metadata": {},
   "outputs": [
    {
     "name": "stdout",
     "output_type": "stream",
     "text": [
      "Average Testing Score: -0.02403321616710128\n",
      "Average Training Score: 0.9874324222594264\n"
     ]
    }
   ],
   "source": [
    "# Gaussian Process Regression\n",
    "from sklearn import gaussian_process\n",
    "gpr = gaussian_process.GaussianProcessRegressor()\n",
    "results = cross_validate(gpr, X_train, y_train, scoring='r2', cv=5, n_jobs=5)\n",
    "print(\"Average Testing Score: \" + str(np.mean(results['test_score'])))\n",
    "print(\"Average Training Score: \" + str(np.mean(results['train_score'])))"
   ]
  },
  {
   "cell_type": "markdown",
   "metadata": {},
   "source": [
    "## Trees"
   ]
  },
  {
   "cell_type": "code",
   "execution_count": 130,
   "metadata": {},
   "outputs": [
    {
     "name": "stdout",
     "output_type": "stream",
     "text": [
      "Average Testing Score: 0.43242212865861684\n",
      "Average Training Score: 0.6715049701196388\n"
     ]
    }
   ],
   "source": [
    "# Decision Tree Regressor\n",
    "from sklearn import tree\n",
    "clf = tree.DecisionTreeRegressor(criterion='friedman_mse', max_depth=4, min_samples_split=2)\n",
    "results = cross_validate(clf, X_train, y_train, scoring='r2', cv=5, n_jobs=5)\n",
    "print(\"Average Testing Score: \" + str(np.mean(results['test_score'])))\n",
    "print(\"Average Training Score: \" + str(np.mean(results['train_score'])))"
   ]
  },
  {
   "cell_type": "code",
   "execution_count": 131,
   "metadata": {},
   "outputs": [
    {
     "name": "stdout",
     "output_type": "stream",
     "text": [
      "Average Testing Score: 0.5573182274949391\n",
      "Average Training Score: 0.798661692710595\n"
     ]
    }
   ],
   "source": [
    "# Random Forest Regressor\n",
    "from sklearn.ensemble import RandomForestRegressor\n",
    "clf = RandomForestRegressor(n_estimators=100, min_samples_split=25, max_depth=10, criterion='friedman_mse')\n",
    "results = cross_validate(clf, X_train, y_train, scoring='r2', cv=5, n_jobs=5)\n",
    "print(\"Average Testing Score: \" + str(np.mean(results['test_score'])))\n",
    "print(\"Average Training Score: \" + str(np.mean(results['train_score'])))"
   ]
  },
  {
   "cell_type": "code",
   "execution_count": null,
   "metadata": {},
   "outputs": [
    {
     "name": "stdout",
     "output_type": "stream",
     "text": [
      "Average Testing Score: 0.4740243040722068\n",
      "Average Training Score: 0.98743242222305\n"
     ]
    }
   ],
   "source": [
    "# Extra Trees Regressor\n",
    "from sklearn.ensemble import ExtraTreesRegressor\n",
    "clf = ExtraTreesRegressor()\n",
    "results = cross_validate(clf, X_train, y_train, scoring='r2', cv=5, n_jobs=5)\n",
    "print(\"Average Testing Score: \" + str(np.mean(results['test_score'])))\n",
    "print(\"Average Training Score: \" + str(np.mean(results['train_score'])))"
   ]
  },
  {
   "cell_type": "markdown",
   "metadata": {},
   "source": [
    "### Gradient Boosting Regressor"
   ]
  },
  {
   "cell_type": "code",
   "execution_count": null,
   "metadata": {},
   "outputs": [
    {
     "name": "stdout",
     "output_type": "stream",
     "text": [
      "Average Testing Score: 0.5183344813358052\n",
      "Average Training Score: 0.6448592477591966\n"
     ]
    }
   ],
   "source": [
    "from sklearn.ensemble import GradientBoostingRegressor\n",
    "clf = GradientBoostingRegressor(n_estimators=100, learning_rate=0.1,max_depth=1, random_state=0, loss='ls')\n",
    "results = cross_validate(clf, X_train, y_train, scoring='r2', cv=5, n_jobs=5)\n",
    "print(\"Average Testing Score: \" + str(np.mean(results['test_score'])))\n",
    "print(\"Average Training Score: \" + str(np.mean(results['train_score'])))"
   ]
  },
  {
   "cell_type": "markdown",
   "metadata": {},
   "source": [
    "### Neural Network"
   ]
  },
  {
   "cell_type": "code",
   "execution_count": 47,
   "metadata": {},
   "outputs": [
    {
     "name": "stdout",
     "output_type": "stream",
     "text": [
      "Average Testing Score: -39767745.18654578\n",
      "Average Training Score: -39622620.94434124\n"
     ]
    },
    {
     "data": {
      "text/plain": [
       "{'fit_time': array([0.66936898, 0.51507568, 0.51384091, 0.61860228, 0.59807587]),\n",
       " 'score_time': array([0.00063753, 0.00075245, 0.0011313 , 0.00067735, 0.00073195]),\n",
       " 'test_score': array([ -4597440.55444884,   -621451.12505447, -89534240.18834908,\n",
       "        -58446116.34793059, -45639477.71694592]),\n",
       " 'train_score': array([ -5047195.91138385,   -551149.50865621, -87453210.32509446,\n",
       "        -70171272.36706068, -34890276.609511  ])}"
      ]
     },
     "execution_count": 47,
     "metadata": {},
     "output_type": "execute_result"
    }
   ],
   "source": [
    "# Need to tune these parameters...\n",
    "from sklearn import neural_network\n",
    "clf = neural_network.MLPRegressor(hidden_layer_sizes=[128,128,64,64,32,32], solver='adam', activation='relu', learning_rate='adaptive', max_iter=500)\n",
    "results = cross_validate(clf, X_train, y_train, scoring='r2', cv=5, n_jobs=5)\n",
    "print(\"Average Testing Score: \" + str(np.mean(results['test_score'])))\n",
    "print(\"Average Training Score: \" + str(np.mean(results['train_score'])))\n",
    "results"
   ]
  },
  {
   "cell_type": "markdown",
   "metadata": {},
   "source": [
    "### Nearest Neighbors"
   ]
  },
  {
   "cell_type": "code",
   "execution_count": 132,
   "metadata": {},
   "outputs": [],
   "source": [
    "from sklearn import neighbors"
   ]
  },
  {
   "cell_type": "code",
   "execution_count": 133,
   "metadata": {},
   "outputs": [
    {
     "name": "stdout",
     "output_type": "stream",
     "text": [
      "Average Testing Score: -0.05720658447540257\n",
      "Average Training Score: 0.975054921906548\n",
      "Average Testing Score: 0.35183223091675253\n",
      "Average Training Score: 0.9874324222594304\n",
      "Average Testing Score: 0.40279851362398994\n",
      "Average Training Score: 0.9874324222594304\n",
      "Average Testing Score: 0.4154717165270757\n",
      "Average Training Score: 0.9874324222594304\n",
      "Average Testing Score: 0.40961902790442595\n",
      "Average Training Score: 0.9874324222594304\n",
      "Average Testing Score: 0.37612801336341767\n",
      "Average Training Score: 0.9874324222594304\n"
     ]
    }
   ],
   "source": [
    "num_neighbors = [1, 5, 10, 25, 50, 100]\n",
    "test_score = []\n",
    "train_score = []\n",
    "for n_neighbors in num_neighbors:\n",
    "    knn = neighbors.KNeighborsRegressor(n_neighbors, weights='distance', p=1)\n",
    "    results = cross_validate(knn, X_train, y_train, scoring='r2', cv=5, n_jobs=5)\n",
    "    test_score.append(str(np.mean(results['test_score'])))\n",
    "    train_score.append(str(np.mean(results['train_score'])))\n",
    "\n",
    "    print(\"Average Testing Score: \" + str(np.mean(results['test_score'])))\n",
    "    print(\"Average Training Score: \" + str(np.mean(results['train_score'])))"
   ]
  },
  {
   "cell_type": "code",
   "execution_count": 135,
   "metadata": {},
   "outputs": [
    {
     "data": {
      "text/plain": [
       "<matplotlib.axes._subplots.AxesSubplot at 0x7fffcbca4470>"
      ]
     },
     "execution_count": 135,
     "metadata": {},
     "output_type": "execute_result"
    },
    {
     "data": {
      "image/png": "[encoded data removed]",
      "text/plain": [
       "<Figure size 432x288 with 1 Axes>"
      ]
     },
     "metadata": {
      "needs_background": "light"
     },
     "output_type": "display_data"
    }
   ],
   "source": [
    "df = pd.DataFrame([num_neighbors, test_score, train_score]).transpose()\n",
    "df.columns = ['k', 'test', 'training']\n",
    "df = df.set_index('k')\n",
    "df = df.apply(pd.to_numeric)\n",
    "df.plot.line()"
   ]
  },
  {
   "cell_type": "code",
   "execution_count": null,
   "metadata": {},
   "outputs": [
    {
     "name": "stdout",
     "output_type": "stream",
     "text": [
      "Average Testing Score: 0.42261316905652746\n",
      "Average Training Score: 0.5285685149247099\n"
     ]
    }
   ],
   "source": [
    "# Bagging Regressor for Nearest Neighbors\n",
    "from sklearn.ensemble import BaggingRegressor\n",
    "from sklearn.neighbors import KNeighborsRegressor\n",
    "\n",
    "# Can tune these\n",
    "knn = KNeighborsRegressor()\n",
    "bagging = BaggingRegressor(knn, max_samples=0.5, max_features=0.5)\n",
    "results = cross_validate(bagging, X_train, y_train, scoring='r2', cv=5, n_jobs=5)\n",
    "print(\"Average Testing Score: \" + str(np.mean(results['test_score'])))\n",
    "print(\"Average Training Score: \" + str(np.mean(results['train_score'])))"
   ]
  },
  {
   "cell_type": "markdown",
   "metadata": {},
   "source": [
    "### SVR"
   ]
  },
  {
   "cell_type": "code",
   "execution_count": null,
   "metadata": {},
   "outputs": [],
   "source": [
    "linear_svr = svm.SVR(kernel='linear')\n",
    "cross_validate(linear_svr, X_train, y_train, scoring='r2', cv=5, n_jobs=5)"
   ]
  },
  {
   "cell_type": "code",
   "execution_count": null,
   "metadata": {},
   "outputs": [],
   "source": [
    "rbf_svr = svm.SVR(kernel='rbf', gamma='scale')\n",
    "cross_validate(rbf_svr, X_train, y_train, scoring='r2', cv=5, n_jobs=5)"
   ]
  },
  {
   "cell_type": "markdown",
   "metadata": {},
   "source": [
    "## Classification Models"
   ]
  },
  {
   "cell_type": "markdown",
   "metadata": {},
   "source": [
    "### SVC"
   ]
  },
  {
   "cell_type": "code",
   "execution_count": 40,
   "metadata": {},
   "outputs": [
    {
     "ename": "KeyboardInterrupt",
     "evalue": "",
     "output_type": "error",
     "traceback": [
      "\u001b[0;31m---------------------------------------------------------------------------\u001b[0m",
      "\u001b[0;31mKeyboardInterrupt\u001b[0m                         Traceback (most recent call last)",
      "\u001b[0;32m<ipython-input-40-72fdb6cdd0b3>\u001b[0m in \u001b[0;36m<module>\u001b[0;34m\u001b[0m\n\u001b[1;32m      1\u001b[0m \u001b[0;32mfrom\u001b[0m \u001b[0msklearn\u001b[0m \u001b[0;32mimport\u001b[0m \u001b[0msvm\u001b[0m\u001b[0;34m\u001b[0m\u001b[0;34m\u001b[0m\u001b[0m\n\u001b[1;32m      2\u001b[0m \u001b[0mlinear_svc\u001b[0m \u001b[0;34m=\u001b[0m \u001b[0msvm\u001b[0m\u001b[0;34m.\u001b[0m\u001b[0mSVC\u001b[0m\u001b[0;34m(\u001b[0m\u001b[0mkernel\u001b[0m\u001b[0;34m=\u001b[0m\u001b[0;34m'linear'\u001b[0m\u001b[0;34m)\u001b[0m\u001b[0;34m\u001b[0m\u001b[0;34m\u001b[0m\u001b[0m\n\u001b[0;32m----> 3\u001b[0;31m \u001b[0mcross_validate\u001b[0m\u001b[0;34m(\u001b[0m\u001b[0mlinear_svc\u001b[0m\u001b[0;34m,\u001b[0m \u001b[0mX_train\u001b[0m\u001b[0;34m,\u001b[0m \u001b[0my_c_train\u001b[0m\u001b[0;34m,\u001b[0m \u001b[0mscoring\u001b[0m\u001b[0;34m=\u001b[0m\u001b[0;34m'accuracy'\u001b[0m\u001b[0;34m,\u001b[0m \u001b[0mcv\u001b[0m\u001b[0;34m=\u001b[0m\u001b[0;36m5\u001b[0m\u001b[0;34m,\u001b[0m \u001b[0mn_jobs\u001b[0m\u001b[0;34m=\u001b[0m\u001b[0;36m5\u001b[0m\u001b[0;34m)\u001b[0m\u001b[0;34m\u001b[0m\u001b[0;34m\u001b[0m\u001b[0m\n\u001b[0m\u001b[1;32m      4\u001b[0m \u001b[0mprint\u001b[0m\u001b[0;34m(\u001b[0m\u001b[0;34m\"Average Testing Score: \"\u001b[0m \u001b[0;34m+\u001b[0m \u001b[0mstr\u001b[0m\u001b[0;34m(\u001b[0m\u001b[0mnp\u001b[0m\u001b[0;34m.\u001b[0m\u001b[0mmean\u001b[0m\u001b[0;34m(\u001b[0m\u001b[0mresults\u001b[0m\u001b[0;34m[\u001b[0m\u001b[0;34m'test_score'\u001b[0m\u001b[0;34m]\u001b[0m\u001b[0;34m)\u001b[0m\u001b[0;34m)\u001b[0m\u001b[0;34m)\u001b[0m\u001b[0;34m\u001b[0m\u001b[0;34m\u001b[0m\u001b[0m\n\u001b[1;32m      5\u001b[0m \u001b[0mprint\u001b[0m\u001b[0;34m(\u001b[0m\u001b[0;34m\"Average Training Score: \"\u001b[0m \u001b[0;34m+\u001b[0m \u001b[0mstr\u001b[0m\u001b[0;34m(\u001b[0m\u001b[0mnp\u001b[0m\u001b[0;34m.\u001b[0m\u001b[0mmean\u001b[0m\u001b[0;34m(\u001b[0m\u001b[0mresults\u001b[0m\u001b[0;34m[\u001b[0m\u001b[0;34m'train_score'\u001b[0m\u001b[0;34m]\u001b[0m\u001b[0;34m)\u001b[0m\u001b[0;34m)\u001b[0m\u001b[0;34m)\u001b[0m\u001b[0;34m\u001b[0m\u001b[0;34m\u001b[0m\u001b[0m\n",
      "\u001b[0;32m~/miniconda3/lib/python3.7/site-packages/sklearn/model_selection/_validation.py\u001b[0m in \u001b[0;36mcross_validate\u001b[0;34m(estimator, X, y, groups, scoring, cv, n_jobs, verbose, fit_params, pre_dispatch, return_train_score, return_estimator, error_score)\u001b[0m\n\u001b[1;32m    238\u001b[0m             \u001b[0mreturn_times\u001b[0m\u001b[0;34m=\u001b[0m\u001b[0;32mTrue\u001b[0m\u001b[0;34m,\u001b[0m \u001b[0mreturn_estimator\u001b[0m\u001b[0;34m=\u001b[0m\u001b[0mreturn_estimator\u001b[0m\u001b[0;34m,\u001b[0m\u001b[0;34m\u001b[0m\u001b[0;34m\u001b[0m\u001b[0m\n\u001b[1;32m    239\u001b[0m             error_score=error_score)\n\u001b[0;32m--> 240\u001b[0;31m         for train, test in cv.split(X, y, groups))\n\u001b[0m\u001b[1;32m    241\u001b[0m \u001b[0;34m\u001b[0m\u001b[0m\n\u001b[1;32m    242\u001b[0m     \u001b[0mzipped_scores\u001b[0m \u001b[0;34m=\u001b[0m \u001b[0mlist\u001b[0m\u001b[0;34m(\u001b[0m\u001b[0mzip\u001b[0m\u001b[0;34m(\u001b[0m\u001b[0;34m*\u001b[0m\u001b[0mscores\u001b[0m\u001b[0;34m)\u001b[0m\u001b[0;34m)\u001b[0m\u001b[0;34m\u001b[0m\u001b[0;34m\u001b[0m\u001b[0m\n",
      "\u001b[0;32m~/miniconda3/lib/python3.7/site-packages/sklearn/externals/joblib/parallel.py\u001b[0m in \u001b[0;36m__call__\u001b[0;34m(self, iterable)\u001b[0m\n\u001b[1;32m    928\u001b[0m \u001b[0;34m\u001b[0m\u001b[0m\n\u001b[1;32m    929\u001b[0m             \u001b[0;32mwith\u001b[0m \u001b[0mself\u001b[0m\u001b[0;34m.\u001b[0m\u001b[0m_backend\u001b[0m\u001b[0;34m.\u001b[0m\u001b[0mretrieval_context\u001b[0m\u001b[0;34m(\u001b[0m\u001b[0;34m)\u001b[0m\u001b[0;34m:\u001b[0m\u001b[0;34m\u001b[0m\u001b[0;34m\u001b[0m\u001b[0m\n\u001b[0;32m--> 930\u001b[0;31m                 \u001b[0mself\u001b[0m\u001b[0;34m.\u001b[0m\u001b[0mretrieve\u001b[0m\u001b[0;34m(\u001b[0m\u001b[0;34m)\u001b[0m\u001b[0;34m\u001b[0m\u001b[0;34m\u001b[0m\u001b[0m\n\u001b[0m\u001b[1;32m    931\u001b[0m             \u001b[0;31m# Make sure that we get a last message telling us we are done\u001b[0m\u001b[0;34m\u001b[0m\u001b[0;34m\u001b[0m\u001b[0;34m\u001b[0m\u001b[0m\n\u001b[1;32m    932\u001b[0m             \u001b[0melapsed_time\u001b[0m \u001b[0;34m=\u001b[0m \u001b[0mtime\u001b[0m\u001b[0;34m.\u001b[0m\u001b[0mtime\u001b[0m\u001b[0;34m(\u001b[0m\u001b[0;34m)\u001b[0m \u001b[0;34m-\u001b[0m \u001b[0mself\u001b[0m\u001b[0;34m.\u001b[0m\u001b[0m_start_time\u001b[0m\u001b[0;34m\u001b[0m\u001b[0;34m\u001b[0m\u001b[0m\n",
      "\u001b[0;32m~/miniconda3/lib/python3.7/site-packages/sklearn/externals/joblib/parallel.py\u001b[0m in \u001b[0;36mretrieve\u001b[0;34m(self)\u001b[0m\n\u001b[1;32m    831\u001b[0m             \u001b[0;32mtry\u001b[0m\u001b[0;34m:\u001b[0m\u001b[0;34m\u001b[0m\u001b[0;34m\u001b[0m\u001b[0m\n\u001b[1;32m    832\u001b[0m                 \u001b[0;32mif\u001b[0m \u001b[0mgetattr\u001b[0m\u001b[0;34m(\u001b[0m\u001b[0mself\u001b[0m\u001b[0;34m.\u001b[0m\u001b[0m_backend\u001b[0m\u001b[0;34m,\u001b[0m \u001b[0;34m'supports_timeout'\u001b[0m\u001b[0;34m,\u001b[0m \u001b[0;32mFalse\u001b[0m\u001b[0;34m)\u001b[0m\u001b[0;34m:\u001b[0m\u001b[0;34m\u001b[0m\u001b[0;34m\u001b[0m\u001b[0m\n\u001b[0;32m--> 833\u001b[0;31m                     \u001b[0mself\u001b[0m\u001b[0;34m.\u001b[0m\u001b[0m_output\u001b[0m\u001b[0;34m.\u001b[0m\u001b[0mextend\u001b[0m\u001b[0;34m(\u001b[0m\u001b[0mjob\u001b[0m\u001b[0;34m.\u001b[0m\u001b[0mget\u001b[0m\u001b[0;34m(\u001b[0m\u001b[0mtimeout\u001b[0m\u001b[0;34m=\u001b[0m\u001b[0mself\u001b[0m\u001b[0;34m.\u001b[0m\u001b[0mtimeout\u001b[0m\u001b[0;34m)\u001b[0m\u001b[0;34m)\u001b[0m\u001b[0;34m\u001b[0m\u001b[0;34m\u001b[0m\u001b[0m\n\u001b[0m\u001b[1;32m    834\u001b[0m                 \u001b[0;32melse\u001b[0m\u001b[0;34m:\u001b[0m\u001b[0;34m\u001b[0m\u001b[0;34m\u001b[0m\u001b[0m\n\u001b[1;32m    835\u001b[0m                     \u001b[0mself\u001b[0m\u001b[0;34m.\u001b[0m\u001b[0m_output\u001b[0m\u001b[0;34m.\u001b[0m\u001b[0mextend\u001b[0m\u001b[0;34m(\u001b[0m\u001b[0mjob\u001b[0m\u001b[0;34m.\u001b[0m\u001b[0mget\u001b[0m\u001b[0;34m(\u001b[0m\u001b[0;34m)\u001b[0m\u001b[0;34m)\u001b[0m\u001b[0;34m\u001b[0m\u001b[0;34m\u001b[0m\u001b[0m\n",
      "\u001b[0;32m~/miniconda3/lib/python3.7/site-packages/sklearn/externals/joblib/_parallel_backends.py\u001b[0m in \u001b[0;36mwrap_future_result\u001b[0;34m(future, timeout)\u001b[0m\n\u001b[1;32m    519\u001b[0m         AsyncResults.get from multiprocessing.\"\"\"\n\u001b[1;32m    520\u001b[0m         \u001b[0;32mtry\u001b[0m\u001b[0;34m:\u001b[0m\u001b[0;34m\u001b[0m\u001b[0;34m\u001b[0m\u001b[0m\n\u001b[0;32m--> 521\u001b[0;31m             \u001b[0;32mreturn\u001b[0m \u001b[0mfuture\u001b[0m\u001b[0;34m.\u001b[0m\u001b[0mresult\u001b[0m\u001b[0;34m(\u001b[0m\u001b[0mtimeout\u001b[0m\u001b[0;34m=\u001b[0m\u001b[0mtimeout\u001b[0m\u001b[0;34m)\u001b[0m\u001b[0;34m\u001b[0m\u001b[0;34m\u001b[0m\u001b[0m\n\u001b[0m\u001b[1;32m    522\u001b[0m         \u001b[0;32mexcept\u001b[0m \u001b[0mLokyTimeoutError\u001b[0m\u001b[0;34m:\u001b[0m\u001b[0;34m\u001b[0m\u001b[0;34m\u001b[0m\u001b[0m\n\u001b[1;32m    523\u001b[0m             \u001b[0;32mraise\u001b[0m \u001b[0mTimeoutError\u001b[0m\u001b[0;34m(\u001b[0m\u001b[0;34m)\u001b[0m\u001b[0;34m\u001b[0m\u001b[0;34m\u001b[0m\u001b[0m\n",
      "\u001b[0;32m~/miniconda3/lib/python3.7/concurrent/futures/_base.py\u001b[0m in \u001b[0;36mresult\u001b[0;34m(self, timeout)\u001b[0m\n\u001b[1;32m    425\u001b[0m                 \u001b[0;32mreturn\u001b[0m \u001b[0mself\u001b[0m\u001b[0;34m.\u001b[0m\u001b[0m__get_result\u001b[0m\u001b[0;34m(\u001b[0m\u001b[0;34m)\u001b[0m\u001b[0;34m\u001b[0m\u001b[0;34m\u001b[0m\u001b[0m\n\u001b[1;32m    426\u001b[0m \u001b[0;34m\u001b[0m\u001b[0m\n\u001b[0;32m--> 427\u001b[0;31m             \u001b[0mself\u001b[0m\u001b[0;34m.\u001b[0m\u001b[0m_condition\u001b[0m\u001b[0;34m.\u001b[0m\u001b[0mwait\u001b[0m\u001b[0;34m(\u001b[0m\u001b[0mtimeout\u001b[0m\u001b[0;34m)\u001b[0m\u001b[0;34m\u001b[0m\u001b[0;34m\u001b[0m\u001b[0m\n\u001b[0m\u001b[1;32m    428\u001b[0m \u001b[0;34m\u001b[0m\u001b[0m\n\u001b[1;32m    429\u001b[0m             \u001b[0;32mif\u001b[0m \u001b[0mself\u001b[0m\u001b[0;34m.\u001b[0m\u001b[0m_state\u001b[0m \u001b[0;32min\u001b[0m \u001b[0;34m[\u001b[0m\u001b[0mCANCELLED\u001b[0m\u001b[0;34m,\u001b[0m \u001b[0mCANCELLED_AND_NOTIFIED\u001b[0m\u001b[0;34m]\u001b[0m\u001b[0;34m:\u001b[0m\u001b[0;34m\u001b[0m\u001b[0;34m\u001b[0m\u001b[0m\n",
      "\u001b[0;32m~/miniconda3/lib/python3.7/threading.py\u001b[0m in \u001b[0;36mwait\u001b[0;34m(self, timeout)\u001b[0m\n\u001b[1;32m    294\u001b[0m         \u001b[0;32mtry\u001b[0m\u001b[0;34m:\u001b[0m    \u001b[0;31m# restore state no matter what (e.g., KeyboardInterrupt)\u001b[0m\u001b[0;34m\u001b[0m\u001b[0;34m\u001b[0m\u001b[0m\n\u001b[1;32m    295\u001b[0m             \u001b[0;32mif\u001b[0m \u001b[0mtimeout\u001b[0m \u001b[0;32mis\u001b[0m \u001b[0;32mNone\u001b[0m\u001b[0;34m:\u001b[0m\u001b[0;34m\u001b[0m\u001b[0;34m\u001b[0m\u001b[0m\n\u001b[0;32m--> 296\u001b[0;31m                 \u001b[0mwaiter\u001b[0m\u001b[0;34m.\u001b[0m\u001b[0macquire\u001b[0m\u001b[0;34m(\u001b[0m\u001b[0;34m)\u001b[0m\u001b[0;34m\u001b[0m\u001b[0;34m\u001b[0m\u001b[0m\n\u001b[0m\u001b[1;32m    297\u001b[0m                 \u001b[0mgotit\u001b[0m \u001b[0;34m=\u001b[0m \u001b[0;32mTrue\u001b[0m\u001b[0;34m\u001b[0m\u001b[0;34m\u001b[0m\u001b[0m\n\u001b[1;32m    298\u001b[0m             \u001b[0;32melse\u001b[0m\u001b[0;34m:\u001b[0m\u001b[0;34m\u001b[0m\u001b[0;34m\u001b[0m\u001b[0m\n",
      "\u001b[0;31mKeyboardInterrupt\u001b[0m: "
     ]
    }
   ],
   "source": [
    "from sklearn import svm\n",
    "linear_svc = svm.SVC(kernel='linear')\n",
    "results = cross_validate(linear_svc, X_train, y_c_train, scoring='accuracy', cv=5, n_jobs=5)\n",
    "print(\"Average Testing Score: \" + str(np.mean(results['test_score'])))\n",
    "print(\"Average Training Score: \" + str(np.mean(results['train_score'])))"
   ]
  },
  {
   "cell_type": "code",
   "execution_count": 50,
   "metadata": {},
   "outputs": [
    {
     "name": "stdout",
     "output_type": "stream",
     "text": [
      "Average Testing Score: 0.2506593169209992\n",
      "Average Training Score: 0.25959806687388165\n"
     ]
    },
    {
     "name": "stderr",
     "output_type": "stream",
     "text": [
      "/home1/a/alecwang/miniconda3/lib/python3.7/site-packages/sklearn/utils/deprecation.py:125: FutureWarning: You are accessing a training score ('train_score'), which will not be available by default any more in 0.21. If you need training scores, please set return_train_score=True\n",
      "  warnings.warn(*warn_args, **warn_kwargs)\n"
     ]
    }
   ],
   "source": [
    "from sklearn import linear_model\n",
    "lr = linear_model.LogisticRegression()\n",
    "results = cross_validate(lr, X_train, y_c_train, scoring='accuracy', cv=5, n_jobs=5)\n",
    "print(\"Average Testing Score: \" + str(np.mean(results['test_score'])))\n",
    "print(\"Average Training Score: \" + str(np.mean(results['train_score'])))"
   ]
  },
  {
   "cell_type": "markdown",
   "metadata": {
    "collapsed": true
   },
   "source": [
    "# Principal Component Analysis"
   ]
  },
  {
   "cell_type": "markdown",
   "metadata": {},
   "source": [
    "## Setting up PCA"
   ]
  },
  {
   "cell_type": "code",
   "execution_count": null,
   "metadata": {},
   "outputs": [],
   "source": [
    "# Have to collapse rows to not have repeated names\n",
    "new_features_df = features_df.copy()\n",
    "#new_features_df.index = new_features_df.index.droplevel(2)\n",
    "new_features_df = new_features_df.reset_index()\n",
    "new_features_df.head()"
   ]
  },
  {
   "cell_type": "code",
   "execution_count": null,
   "metadata": {},
   "outputs": [],
   "source": [
    "from sklearn.preprocessing import StandardScaler\n",
    "\n",
    "if 'Pos' in features:\n",
    "    features.remove('Pos')\n",
    "\n",
    "# Separating out the features\n",
    "\n",
    "x = new_features_df.loc[:, features].values\n",
    "# Separating out the target\n",
    "y = new_features_df.loc[:,['next_season_salary_z']].values\n",
    "# Standardizing the features\n",
    "x = StandardScaler().fit_transform(x)"
   ]
  },
  {
   "cell_type": "code",
   "execution_count": null,
   "metadata": {},
   "outputs": [],
   "source": [
    "from sklearn.decomposition import PCA\n",
    "pca = PCA(n_components=2)\n",
    "principalComponents = pca.fit_transform(x)\n",
    "principalDf = pd.DataFrame(data = principalComponents\n",
    "             , columns = ['principal component 1', 'principal component 2'])\n",
    "principalDf.head()"
   ]
  },
  {
   "cell_type": "code",
   "execution_count": null,
   "metadata": {},
   "outputs": [],
   "source": [
    "finalDf = pd.concat([principalDf, new_features_df[['next_season_salary_z']]], axis = 1)\n",
    "finalDf.head()"
   ]
  },
  {
   "cell_type": "markdown",
   "metadata": {},
   "source": [
    "## Further PCA Experimentation"
   ]
  },
  {
   "cell_type": "code",
   "execution_count": null,
   "metadata": {},
   "outputs": [],
   "source": [
    "fig = plt.figure(figsize = (8,8))\n",
    "ax = fig.add_subplot(1,1,1) \n",
    "ax.set_xlabel('Principal Component 1', fontsize = 15)\n",
    "ax.set_ylabel('Principal Component 2', fontsize = 15)\n",
    "ax.set_title('2 component PCA', fontsize = 20)\n",
    "\n",
    "# TODO: 3-Plot of the 2 components and the salary"
   ]
  },
  {
   "cell_type": "code",
   "execution_count": null,
   "metadata": {},
   "outputs": [],
   "source": [
    "# Explained variance for each component\n",
    "pca.explained_variance_ratio_"
   ]
  },
  {
   "cell_type": "markdown",
   "metadata": {},
   "source": [
    "## Models using PCA"
   ]
  },
  {
   "cell_type": "code",
   "execution_count": null,
   "metadata": {},
   "outputs": [],
   "source": [
    "# TODO"
   ]
  },
  {
   "cell_type": "markdown",
   "metadata": {},
   "source": [
    "# KMeans Clustering"
   ]
  },
  {
   "cell_type": "code",
   "execution_count": 153,
   "metadata": {},
   "outputs": [],
   "source": [
    "from sklearn import cluster"
   ]
  },
  {
   "cell_type": "code",
   "execution_count": 154,
   "metadata": {},
   "outputs": [],
   "source": [
    "kmeans = cluster.KMeans(n_clusters=5).fit(X)"
   ]
  },
  {
   "cell_type": "code",
   "execution_count": 155,
   "metadata": {},
   "outputs": [],
   "source": [
    "clusters = pd.DataFrame(kmeans.cluster_centers_)"
   ]
  },
  {
   "cell_type": "code",
   "execution_count": 156,
   "metadata": {},
   "outputs": [],
   "source": [
    "clusters.columns = features"
   ]
  },
  {
   "cell_type": "code",
   "execution_count": 157,
   "metadata": {},
   "outputs": [
    {
     "data": {
      "text/html": [
       "<div>\n",
       "<style scoped>\n",
       "    .dataframe tbody tr th:only-of-type {\n",
       "        vertical-align: middle;\n",
       "    }\n",
       "\n",
       "    .dataframe tbody tr th {\n",
       "        vertical-align: top;\n",
       "    }\n",
       "\n",
       "    .dataframe thead th {\n",
       "        text-align: right;\n",
       "    }\n",
       "</style>\n",
       "<table border=\"1\" class=\"dataframe\">\n",
       "  <thead>\n",
       "    <tr style=\"text-align: right;\">\n",
       "      <th></th>\n",
       "      <th>Age</th>\n",
       "      <th>G</th>\n",
       "      <th>GS</th>\n",
       "      <th>MP</th>\n",
       "      <th>PER</th>\n",
       "      <th>TS%</th>\n",
       "      <th>3PAr</th>\n",
       "      <th>FTr</th>\n",
       "      <th>ORB%</th>\n",
       "      <th>DRB%</th>\n",
       "      <th>...</th>\n",
       "      <th>FTA_pg</th>\n",
       "      <th>ORB_pg</th>\n",
       "      <th>DRB_pg</th>\n",
       "      <th>TRB_pg</th>\n",
       "      <th>AST_pg</th>\n",
       "      <th>STL_pg</th>\n",
       "      <th>BLK_pg</th>\n",
       "      <th>TOV_pg</th>\n",
       "      <th>PF_pg</th>\n",
       "      <th>PTS_pg</th>\n",
       "    </tr>\n",
       "  </thead>\n",
       "  <tbody>\n",
       "    <tr>\n",
       "      <th>0</th>\n",
       "      <td>26.446429</td>\n",
       "      <td>74.839286</td>\n",
       "      <td>63.491071</td>\n",
       "      <td>2343.848214</td>\n",
       "      <td>17.021429</td>\n",
       "      <td>0.548411</td>\n",
       "      <td>0.273429</td>\n",
       "      <td>0.291795</td>\n",
       "      <td>4.565179</td>\n",
       "      <td>15.468750</td>\n",
       "      <td>...</td>\n",
       "      <td>3.602514</td>\n",
       "      <td>1.256668</td>\n",
       "      <td>4.343721</td>\n",
       "      <td>5.600389</td>\n",
       "      <td>3.282616</td>\n",
       "      <td>1.040062</td>\n",
       "      <td>0.589700</td>\n",
       "      <td>1.948998</td>\n",
       "      <td>2.273877</td>\n",
       "      <td>15.397862</td>\n",
       "    </tr>\n",
       "    <tr>\n",
       "      <th>1</th>\n",
       "      <td>26.885572</td>\n",
       "      <td>69.104478</td>\n",
       "      <td>32.995025</td>\n",
       "      <td>1633.283582</td>\n",
       "      <td>13.459204</td>\n",
       "      <td>0.545363</td>\n",
       "      <td>0.349871</td>\n",
       "      <td>0.242343</td>\n",
       "      <td>4.450746</td>\n",
       "      <td>14.746766</td>\n",
       "      <td>...</td>\n",
       "      <td>1.902681</td>\n",
       "      <td>0.931838</td>\n",
       "      <td>3.134255</td>\n",
       "      <td>4.066094</td>\n",
       "      <td>2.133977</td>\n",
       "      <td>0.762184</td>\n",
       "      <td>0.426320</td>\n",
       "      <td>1.231293</td>\n",
       "      <td>1.972927</td>\n",
       "      <td>9.473655</td>\n",
       "    </tr>\n",
       "    <tr>\n",
       "      <th>2</th>\n",
       "      <td>26.870229</td>\n",
       "      <td>50.664122</td>\n",
       "      <td>12.045802</td>\n",
       "      <td>919.877863</td>\n",
       "      <td>12.202290</td>\n",
       "      <td>0.520779</td>\n",
       "      <td>0.320847</td>\n",
       "      <td>0.261462</td>\n",
       "      <td>4.509924</td>\n",
       "      <td>14.191221</td>\n",
       "      <td>...</td>\n",
       "      <td>1.329544</td>\n",
       "      <td>0.676585</td>\n",
       "      <td>2.158936</td>\n",
       "      <td>2.835521</td>\n",
       "      <td>1.483664</td>\n",
       "      <td>0.546158</td>\n",
       "      <td>0.304437</td>\n",
       "      <td>0.910803</td>\n",
       "      <td>1.554899</td>\n",
       "      <td>6.212128</td>\n",
       "    </tr>\n",
       "    <tr>\n",
       "      <th>3</th>\n",
       "      <td>26.622517</td>\n",
       "      <td>31.145695</td>\n",
       "      <td>3.907285</td>\n",
       "      <td>413.185430</td>\n",
       "      <td>10.605298</td>\n",
       "      <td>0.507530</td>\n",
       "      <td>0.338993</td>\n",
       "      <td>0.282834</td>\n",
       "      <td>4.433113</td>\n",
       "      <td>13.578146</td>\n",
       "      <td>...</td>\n",
       "      <td>0.964306</td>\n",
       "      <td>0.499308</td>\n",
       "      <td>1.576878</td>\n",
       "      <td>2.076185</td>\n",
       "      <td>1.113385</td>\n",
       "      <td>0.388179</td>\n",
       "      <td>0.227064</td>\n",
       "      <td>0.673511</td>\n",
       "      <td>1.176315</td>\n",
       "      <td>4.370372</td>\n",
       "    </tr>\n",
       "    <tr>\n",
       "      <th>4</th>\n",
       "      <td>26.178571</td>\n",
       "      <td>76.250000</td>\n",
       "      <td>70.142857</td>\n",
       "      <td>2540.107143</td>\n",
       "      <td>20.101786</td>\n",
       "      <td>0.573125</td>\n",
       "      <td>0.280661</td>\n",
       "      <td>0.324429</td>\n",
       "      <td>4.621429</td>\n",
       "      <td>17.017857</td>\n",
       "      <td>...</td>\n",
       "      <td>4.908658</td>\n",
       "      <td>1.364292</td>\n",
       "      <td>5.083398</td>\n",
       "      <td>6.447690</td>\n",
       "      <td>3.990207</td>\n",
       "      <td>1.100846</td>\n",
       "      <td>0.714460</td>\n",
       "      <td>2.263305</td>\n",
       "      <td>2.343804</td>\n",
       "      <td>19.709922</td>\n",
       "    </tr>\n",
       "  </tbody>\n",
       "</table>\n",
       "<p>5 rows × 71 columns</p>\n",
       "</div>"
      ],
      "text/plain": [
       "         Age          G         GS           MP        PER       TS%  \\\n",
       "0  26.446429  74.839286  63.491071  2343.848214  17.021429  0.548411   \n",
       "1  26.885572  69.104478  32.995025  1633.283582  13.459204  0.545363   \n",
       "2  26.870229  50.664122  12.045802   919.877863  12.202290  0.520779   \n",
       "3  26.622517  31.145695   3.907285   413.185430  10.605298  0.507530   \n",
       "4  26.178571  76.250000  70.142857  2540.107143  20.101786  0.573125   \n",
       "\n",
       "       3PAr       FTr      ORB%       DRB%  ...    FTA_pg    ORB_pg    DRB_pg  \\\n",
       "0  0.273429  0.291795  4.565179  15.468750  ...  3.602514  1.256668  4.343721   \n",
       "1  0.349871  0.242343  4.450746  14.746766  ...  1.902681  0.931838  3.134255   \n",
       "2  0.320847  0.261462  4.509924  14.191221  ...  1.329544  0.676585  2.158936   \n",
       "3  0.338993  0.282834  4.433113  13.578146  ...  0.964306  0.499308  1.576878   \n",
       "4  0.280661  0.324429  4.621429  17.017857  ...  4.908658  1.364292  5.083398   \n",
       "\n",
       "     TRB_pg    AST_pg    STL_pg    BLK_pg    TOV_pg     PF_pg     PTS_pg  \n",
       "0  5.600389  3.282616  1.040062  0.589700  1.948998  2.273877  15.397862  \n",
       "1  4.066094  2.133977  0.762184  0.426320  1.231293  1.972927   9.473655  \n",
       "2  2.835521  1.483664  0.546158  0.304437  0.910803  1.554899   6.212128  \n",
       "3  2.076185  1.113385  0.388179  0.227064  0.673511  1.176315   4.370372  \n",
       "4  6.447690  3.990207  1.100846  0.714460  2.263305  2.343804  19.709922  \n",
       "\n",
       "[5 rows x 71 columns]"
      ]
     },
     "execution_count": 157,
     "metadata": {},
     "output_type": "execute_result"
    }
   ],
   "source": [
    "clusters"
   ]
  },
  {
   "cell_type": "code",
   "execution_count": 159,
   "metadata": {
    "scrolled": false
   },
   "outputs": [
    {
     "name": "stdout",
     "output_type": "stream",
     "text": [
      "0.9336822851044515\n",
      "0.2184339778461669\n"
     ]
    },
    {
     "data": {
      "image/png": "[encoded data removed]",
      "text/plain": [
       "<Figure size 432x288 with 1 Axes>"
      ]
     },
     "metadata": {
      "needs_background": "light"
     },
     "output_type": "display_data"
    },
    {
     "name": "stdout",
     "output_type": "stream",
     "text": [
      "-0.15665970219601455\n"
     ]
    },
    {
     "data": {
      "image/png": "[encoded data removed]",
      "text/plain": [
       "<Figure size 432x288 with 1 Axes>"
      ]
     },
     "metadata": {
      "needs_background": "light"
     },
     "output_type": "display_data"
    },
    {
     "name": "stdout",
     "output_type": "stream",
     "text": [
      "-0.5096515080512836\n"
     ]
    },
    {
     "data": {
      "image/png": "[encoded data removed]",
      "text/plain": [
       "<Figure size 432x288 with 1 Axes>"
      ]
     },
     "metadata": {
      "needs_background": "light"
     },
     "output_type": "display_data"
    },
    {
     "name": "stdout",
     "output_type": "stream",
     "text": [
      "1.2202505594890256\n"
     ]
    },
    {
     "data": {
      "image/png": "[encoded data removed]",
      "text/plain": [
       "<Figure size 432x288 with 1 Axes>"
      ]
     },
     "metadata": {
      "needs_background": "light"
     },
     "output_type": "display_data"
    },
    {
     "data": {
      "image/png": "[encoded data removed]",
      "text/plain": [
       "<Figure size 432x288 with 1 Axes>"
      ]
     },
     "metadata": {
      "needs_background": "light"
     },
     "output_type": "display_data"
    }
   ],
   "source": [
    "for i in range(5):\n",
    "    print(y_df[kmeans.labels_ == i].mean())\n",
    "    plt.show()\n",
    "    y_df[kmeans.labels_ == i].hist()\n",
    "\n",
    "    plt.ylabel('Num Players')\n",
    "    plt.xlabel('Salary z-score')\n",
    "    plt.xlim([-2.5,2.5])"
   ]
  },
  {
   "cell_type": "code",
   "execution_count": 160,
   "metadata": {},
   "outputs": [
    {
     "data": {
      "text/plain": [
       "player               season_end\n",
       "Quinn Cook           2017         -2.002691\n",
       "Beno Udrih           2017         -2.002691\n",
       "Briante Weber        2017         -1.888192\n",
       "Demetrius Jackson    2017         -1.760992\n",
       "Georges Niang        2017         -1.743932\n",
       "K.J. McDaniels       2017         -1.743932\n",
       "Isaiah Canaan        2017         -1.562176\n",
       "Jordan McRae         2017         -1.548395\n",
       "Marcus Georges-Hunt  2017         -1.510608\n",
       "Jordan Crawford      2017         -1.494145\n",
       "Alex Poythress       2017         -1.480220\n",
       "Reggie Williams      2017         -1.438363\n",
       "                     2017         -1.438363\n",
       "Jarrod Uthoff        2017         -1.438363\n",
       "C.J. Watson          2017         -1.398629\n",
       "Reggie Williams      2017         -1.376411\n",
       "                     2017         -1.376411\n",
       "Chris Andersen       2017         -1.355597\n",
       "Quinn Cook           2017         -1.350092\n",
       "Archie Goodwin       2017         -1.312569\n",
       "Lamar Patterson      2017         -1.302785\n",
       "Briante Weber        2017         -1.296497\n",
       "Ronnie Price         2017         -1.260043\n",
       "Josh McRoberts       2017         -1.253774\n",
       "Marcus Thornton      2017         -1.252701\n",
       "                     2017         -1.252701\n",
       "Michael Gbinije      2017         -1.247464\n",
       "Leandro Barbosa      2017         -1.247464\n",
       "James Jones          2017         -1.232893\n",
       "Lavoy Allen          2017         -1.187933\n",
       "                                     ...   \n",
       "Brandon Bass         2017          0.133224\n",
       "Alex Abrines         2017          0.251880\n",
       "Ramon Sessions       2017          0.263164\n",
       "Wesley Johnson       2017          0.276180\n",
       "Anthony Morrow       2017          0.280709\n",
       "Brandan Wright       2017          0.287614\n",
       "Mike Miller          2017          0.288989\n",
       "Alan Williams        2017          0.294359\n",
       "Spencer Hawes        2017          0.297576\n",
       "Joel Embiid          2017          0.309524\n",
       "Luis Scola           2017          0.315867\n",
       "Lance Thomas         2017          0.390603\n",
       "Derrick Williams     2017          0.394419\n",
       "Jarrett Jack         2017          0.407308\n",
       "Derrick Williams     2017          0.420540\n",
       "Darrell Arthur       2017          0.501141\n",
       "Jarrett Jack         2017          0.618042\n",
       "Gary Payton          2017          0.676110\n",
       "                     2017          0.676110\n",
       "Jerryd Bayless       2017          0.690524\n",
       "Alec Burks           2017          0.891550\n",
       "Jose Calderon        2017          0.989693\n",
       "Jeremy Lin           2017          1.005910\n",
       "Khris Middleton      2017          1.196395\n",
       "Gary Payton          2017          1.282491\n",
       "                     2017          1.282491\n",
       "Joakim Noah          2017          1.487789\n",
       "Kris Humphries       2017          1.499956\n",
       "Andrew Bogut         2017          1.664649\n",
       "Chandler Parsons     2017          1.848137\n",
       "Name: next_season_salary_z, Length: 164, dtype: float64"
      ]
     },
     "execution_count": 160,
     "metadata": {},
     "output_type": "execute_result"
    }
   ],
   "source": [
    "y_df[kmeans.labels_ == 3].sort_values()"
   ]
  },
  {
   "cell_type": "code",
   "execution_count": 161,
   "metadata": {},
   "outputs": [
    {
     "data": {
      "text/plain": [
       "player                 season_end\n",
       "Nikola Jokic           2017         -0.729686\n",
       "Devin Booker           2017         -0.448999\n",
       "Dario Saric            2017         -0.419850\n",
       "Marcus Morris          2017         -0.383321\n",
       "Myles Turner           2017         -0.379629\n",
       "Elfrid Payton          2017         -0.192957\n",
       "Julius Randle          2017         -0.022342\n",
       "Kristaps Porzingis     2017          0.044700\n",
       "Aaron Gordon           2017          0.216812\n",
       "Victor Oladipo         2017          0.290587\n",
       "Ersan Ilyasova         2017          0.294359\n",
       "Karl-Anthony Towns     2017          0.326948\n",
       "Isaiah Thomas          2017          0.333550\n",
       "Tim Hardaway           2017          0.336816\n",
       "                       2017          0.336816\n",
       "                       2017          0.336816\n",
       "                       2017          0.336816\n",
       "Lou Williams           2017          0.438702\n",
       "Trevor Ariza           2017          0.495345\n",
       "Andrew Wiggins         2017          0.515456\n",
       "Markieff Morris        2017          0.569875\n",
       "J.J. Redick            2017          0.731255\n",
       "Jordan Clarkson        2017          0.963474\n",
       "Kemba Walker           2017          1.005910\n",
       "Wilson Chandler        2017          1.007524\n",
       "Nikola Vucevic         2017          1.029698\n",
       "Marcin Gortat          2017          1.079318\n",
       "Eric Gordon            2017          1.093991\n",
       "Gorgui Dieng           2017          1.197458\n",
       "Dennis Schroder        2017          1.313074\n",
       "                                       ...   \n",
       "Jimmy Butler           2017          1.597971\n",
       "Paul George            2017          1.612428\n",
       "Serge Ibaka            2017          1.650376\n",
       "LaMarcus Aldridge      2017          1.743420\n",
       "Rudy Gobert            2017          1.776561\n",
       "Nicolas Batum          2017          1.805807\n",
       "Steven Adams           2017          1.808149\n",
       "Giannis Antetokounmpo  2017          1.808149\n",
       "Marc Gasol             2017          1.818870\n",
       "DeAndre Jordan         2017          1.818870\n",
       "Harrison Barnes        2017          1.848137\n",
       "Dwight Howard          2017          1.872018\n",
       "Andre Drummond         2017          1.888816\n",
       "Anthony Davis          2017          1.888816\n",
       "Bradley Beal           2017          1.888816\n",
       "C.J. McCollum          2017          1.900148\n",
       "Otto Porter            2017          1.948586\n",
       "Kevin Durant           2017          1.961944\n",
       "Jrue Holiday           2017          2.001912\n",
       "Damian Lillard         2017          2.028654\n",
       "Carmelo Anthony        2017          2.033818\n",
       "DeMar DeRozan          2017          2.117332\n",
       "James Harden           2017          2.147785\n",
       "Mike Conley            2017          2.160254\n",
       "Russell Westbrook      2017          2.160254\n",
       "Kyle Lowry             2017          2.169545\n",
       "Blake Griffin          2017          2.212491\n",
       "Paul Millsap           2017          2.303072\n",
       "LeBron James           2017          2.402979\n",
       "Stephen Curry          2017          2.469843\n",
       "Name: next_season_salary_z, Length: 70, dtype: float64"
      ]
     },
     "execution_count": 161,
     "metadata": {},
     "output_type": "execute_result"
    }
   ],
   "source": [
    "y_df[kmeans.labels_ == 4].sort_values()"
   ]
  },
  {
   "cell_type": "code",
   "execution_count": 162,
   "metadata": {},
   "outputs": [
    {
     "data": {
      "text/plain": [
       "Series([], Name: next_season_salary_z, dtype: float64)"
      ]
     },
     "execution_count": 162,
     "metadata": {},
     "output_type": "execute_result"
    }
   ],
   "source": [
    "y_df[kmeans.labels_ == 5].sort_values()"
   ]
  },
  {
   "cell_type": "code",
   "execution_count": null,
   "metadata": {},
   "outputs": [],
   "source": []
  },
  {
   "cell_type": "code",
   "execution_count": null,
   "metadata": {},
   "outputs": [],
   "source": []
  }
 ],
 "metadata": {
  "kernelspec": {
   "display_name": "Python 3",
   "language": "python",
   "name": "python3"
  },
  "language_info": {
   "codemirror_mode": {
    "name": "ipython",
    "version": 3
   },
   "file_extension": ".py",
   "mimetype": "text/x-python",
   "name": "python",
   "nbconvert_exporter": "python",
   "pygments_lexer": "ipython3",
   "version": "3.7.3"
  }
 },
 "nbformat": 4,
 "nbformat_minor": 2
}
