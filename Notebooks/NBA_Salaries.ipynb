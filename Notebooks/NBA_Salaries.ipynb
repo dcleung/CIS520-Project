{
 "cells": [
  {
   "cell_type": "markdown",
   "metadata": {},
   "source": [
    "## Importing Data"
   ]
  },
  {
   "cell_type": "code",
   "execution_count": 1,
   "metadata": {
    "collapsed": true
   },
   "outputs": [],
   "source": [
    "import pandas as pd\n",
    "import numpy as np\n",
    "import matplotlib.pyplot as plt "
   ]
  },
  {
   "cell_type": "code",
   "execution_count": 2,
   "metadata": {
    "collapsed": true
   },
   "outputs": [],
   "source": [
    "# Open up our CSV files located in the /Data subfolder\n",
    "salaries_df = pd.read_csv(\"../Data/nba_salaries_1990_to_2018.csv\")\n",
    "player_data_df = pd.read_csv(\"../Data/player_data.csv\")\n",
    "players_df = pd.read_csv(\"../Data/Players.csv\")\n",
    "seasons_stats_df = pd.read_csv(\"../Data/Seasons_Stats.csv\")\n",
    "salary_cap_df = pd.read_csv(\"../Data/salary_cap.csv\")"
   ]
  },
  {
   "cell_type": "code",
   "execution_count": 3,
   "metadata": {},
   "outputs": [
    {
     "data": {
      "text/html": [
       "<div>\n",
       "<style scoped>\n",
       "    .dataframe tbody tr th:only-of-type {\n",
       "        vertical-align: middle;\n",
       "    }\n",
       "\n",
       "    .dataframe tbody tr th {\n",
       "        vertical-align: top;\n",
       "    }\n",
       "\n",
       "    .dataframe thead th {\n",
       "        text-align: right;\n",
       "    }\n",
       "</style>\n",
       "<table border=\"1\" class=\"dataframe\">\n",
       "  <thead>\n",
       "    <tr style=\"text-align: right;\">\n",
       "      <th></th>\n",
       "      <th>player</th>\n",
       "      <th>salary</th>\n",
       "      <th>season_end</th>\n",
       "      <th>season_start</th>\n",
       "      <th>team</th>\n",
       "      <th>team_name</th>\n",
       "    </tr>\n",
       "  </thead>\n",
       "  <tbody>\n",
       "    <tr>\n",
       "      <th>0</th>\n",
       "      <td>Moses Malone</td>\n",
       "      <td>2406000</td>\n",
       "      <td>1991</td>\n",
       "      <td>1990</td>\n",
       "      <td>ATL</td>\n",
       "      <td>Atlanta Hawks</td>\n",
       "    </tr>\n",
       "    <tr>\n",
       "      <th>1</th>\n",
       "      <td>Dominique Wilkins</td>\n",
       "      <td>2065000</td>\n",
       "      <td>1991</td>\n",
       "      <td>1990</td>\n",
       "      <td>ATL</td>\n",
       "      <td>Atlanta Hawks</td>\n",
       "    </tr>\n",
       "    <tr>\n",
       "      <th>2</th>\n",
       "      <td>Jon Koncak</td>\n",
       "      <td>1550000</td>\n",
       "      <td>1991</td>\n",
       "      <td>1990</td>\n",
       "      <td>ATL</td>\n",
       "      <td>Atlanta Hawks</td>\n",
       "    </tr>\n",
       "    <tr>\n",
       "      <th>3</th>\n",
       "      <td>Doc Rivers</td>\n",
       "      <td>895000</td>\n",
       "      <td>1991</td>\n",
       "      <td>1990</td>\n",
       "      <td>ATL</td>\n",
       "      <td>Atlanta Hawks</td>\n",
       "    </tr>\n",
       "    <tr>\n",
       "      <th>4</th>\n",
       "      <td>Rumeal Robinson</td>\n",
       "      <td>800000</td>\n",
       "      <td>1991</td>\n",
       "      <td>1990</td>\n",
       "      <td>ATL</td>\n",
       "      <td>Atlanta Hawks</td>\n",
       "    </tr>\n",
       "  </tbody>\n",
       "</table>\n",
       "</div>"
      ],
      "text/plain": [
       "              player   salary  season_end  season_start team      team_name\n",
       "0       Moses Malone  2406000        1991          1990  ATL  Atlanta Hawks\n",
       "1  Dominique Wilkins  2065000        1991          1990  ATL  Atlanta Hawks\n",
       "2         Jon Koncak  1550000        1991          1990  ATL  Atlanta Hawks\n",
       "3         Doc Rivers   895000        1991          1990  ATL  Atlanta Hawks\n",
       "4    Rumeal Robinson   800000        1991          1990  ATL  Atlanta Hawks"
      ]
     },
     "execution_count": 3,
     "metadata": {},
     "output_type": "execute_result"
    }
   ],
   "source": [
    "# Glimpse of our data\n",
    "salaries_df.head()"
   ]
  },
  {
   "cell_type": "code",
   "execution_count": 4,
   "metadata": {},
   "outputs": [
    {
     "data": {
      "text/html": [
       "<div>\n",
       "<style scoped>\n",
       "    .dataframe tbody tr th:only-of-type {\n",
       "        vertical-align: middle;\n",
       "    }\n",
       "\n",
       "    .dataframe tbody tr th {\n",
       "        vertical-align: top;\n",
       "    }\n",
       "\n",
       "    .dataframe thead th {\n",
       "        text-align: right;\n",
       "    }\n",
       "</style>\n",
       "<table border=\"1\" class=\"dataframe\">\n",
       "  <thead>\n",
       "    <tr style=\"text-align: right;\">\n",
       "      <th></th>\n",
       "      <th>name</th>\n",
       "      <th>year_start</th>\n",
       "      <th>year_end</th>\n",
       "      <th>position</th>\n",
       "      <th>height</th>\n",
       "      <th>weight</th>\n",
       "      <th>birth_date</th>\n",
       "      <th>college</th>\n",
       "    </tr>\n",
       "  </thead>\n",
       "  <tbody>\n",
       "    <tr>\n",
       "      <th>0</th>\n",
       "      <td>Alaa Abdelnaby</td>\n",
       "      <td>1991</td>\n",
       "      <td>1995</td>\n",
       "      <td>F-C</td>\n",
       "      <td>6-10</td>\n",
       "      <td>240.0</td>\n",
       "      <td>June 24, 1968</td>\n",
       "      <td>Duke University</td>\n",
       "    </tr>\n",
       "    <tr>\n",
       "      <th>1</th>\n",
       "      <td>Zaid Abdul-Aziz</td>\n",
       "      <td>1969</td>\n",
       "      <td>1978</td>\n",
       "      <td>C-F</td>\n",
       "      <td>6-9</td>\n",
       "      <td>235.0</td>\n",
       "      <td>April 7, 1946</td>\n",
       "      <td>Iowa State University</td>\n",
       "    </tr>\n",
       "    <tr>\n",
       "      <th>2</th>\n",
       "      <td>Kareem Abdul-Jabbar</td>\n",
       "      <td>1970</td>\n",
       "      <td>1989</td>\n",
       "      <td>C</td>\n",
       "      <td>7-2</td>\n",
       "      <td>225.0</td>\n",
       "      <td>April 16, 1947</td>\n",
       "      <td>University of California, Los Angeles</td>\n",
       "    </tr>\n",
       "    <tr>\n",
       "      <th>3</th>\n",
       "      <td>Mahmoud Abdul-Rauf</td>\n",
       "      <td>1991</td>\n",
       "      <td>2001</td>\n",
       "      <td>G</td>\n",
       "      <td>6-1</td>\n",
       "      <td>162.0</td>\n",
       "      <td>March 9, 1969</td>\n",
       "      <td>Louisiana State University</td>\n",
       "    </tr>\n",
       "    <tr>\n",
       "      <th>4</th>\n",
       "      <td>Tariq Abdul-Wahad</td>\n",
       "      <td>1998</td>\n",
       "      <td>2003</td>\n",
       "      <td>F</td>\n",
       "      <td>6-6</td>\n",
       "      <td>223.0</td>\n",
       "      <td>November 3, 1974</td>\n",
       "      <td>San Jose State University</td>\n",
       "    </tr>\n",
       "  </tbody>\n",
       "</table>\n",
       "</div>"
      ],
      "text/plain": [
       "                  name  year_start  year_end position height  weight  \\\n",
       "0       Alaa Abdelnaby        1991      1995      F-C   6-10   240.0   \n",
       "1      Zaid Abdul-Aziz        1969      1978      C-F    6-9   235.0   \n",
       "2  Kareem Abdul-Jabbar        1970      1989        C    7-2   225.0   \n",
       "3   Mahmoud Abdul-Rauf        1991      2001        G    6-1   162.0   \n",
       "4    Tariq Abdul-Wahad        1998      2003        F    6-6   223.0   \n",
       "\n",
       "         birth_date                                college  \n",
       "0     June 24, 1968                        Duke University  \n",
       "1     April 7, 1946                  Iowa State University  \n",
       "2    April 16, 1947  University of California, Los Angeles  \n",
       "3     March 9, 1969             Louisiana State University  \n",
       "4  November 3, 1974              San Jose State University  "
      ]
     },
     "execution_count": 4,
     "metadata": {},
     "output_type": "execute_result"
    }
   ],
   "source": [
    "player_data_df.head()"
   ]
  },
  {
   "cell_type": "code",
   "execution_count": 5,
   "metadata": {},
   "outputs": [
    {
     "data": {
      "text/html": [
       "<div>\n",
       "<style scoped>\n",
       "    .dataframe tbody tr th:only-of-type {\n",
       "        vertical-align: middle;\n",
       "    }\n",
       "\n",
       "    .dataframe tbody tr th {\n",
       "        vertical-align: top;\n",
       "    }\n",
       "\n",
       "    .dataframe thead th {\n",
       "        text-align: right;\n",
       "    }\n",
       "</style>\n",
       "<table border=\"1\" class=\"dataframe\">\n",
       "  <thead>\n",
       "    <tr style=\"text-align: right;\">\n",
       "      <th></th>\n",
       "      <th>Unnamed: 0</th>\n",
       "      <th>Player</th>\n",
       "      <th>height</th>\n",
       "      <th>weight</th>\n",
       "      <th>collage</th>\n",
       "      <th>born</th>\n",
       "      <th>birth_city</th>\n",
       "      <th>birth_state</th>\n",
       "    </tr>\n",
       "  </thead>\n",
       "  <tbody>\n",
       "    <tr>\n",
       "      <th>0</th>\n",
       "      <td>0</td>\n",
       "      <td>Curly Armstrong</td>\n",
       "      <td>180.0</td>\n",
       "      <td>77.0</td>\n",
       "      <td>Indiana University</td>\n",
       "      <td>1918.0</td>\n",
       "      <td>NaN</td>\n",
       "      <td>NaN</td>\n",
       "    </tr>\n",
       "    <tr>\n",
       "      <th>1</th>\n",
       "      <td>1</td>\n",
       "      <td>Cliff Barker</td>\n",
       "      <td>188.0</td>\n",
       "      <td>83.0</td>\n",
       "      <td>University of Kentucky</td>\n",
       "      <td>1921.0</td>\n",
       "      <td>Yorktown</td>\n",
       "      <td>Indiana</td>\n",
       "    </tr>\n",
       "    <tr>\n",
       "      <th>2</th>\n",
       "      <td>2</td>\n",
       "      <td>Leo Barnhorst</td>\n",
       "      <td>193.0</td>\n",
       "      <td>86.0</td>\n",
       "      <td>University of Notre Dame</td>\n",
       "      <td>1924.0</td>\n",
       "      <td>NaN</td>\n",
       "      <td>NaN</td>\n",
       "    </tr>\n",
       "    <tr>\n",
       "      <th>3</th>\n",
       "      <td>3</td>\n",
       "      <td>Ed Bartels</td>\n",
       "      <td>196.0</td>\n",
       "      <td>88.0</td>\n",
       "      <td>North Carolina State University</td>\n",
       "      <td>1925.0</td>\n",
       "      <td>NaN</td>\n",
       "      <td>NaN</td>\n",
       "    </tr>\n",
       "    <tr>\n",
       "      <th>4</th>\n",
       "      <td>4</td>\n",
       "      <td>Ralph Beard</td>\n",
       "      <td>178.0</td>\n",
       "      <td>79.0</td>\n",
       "      <td>University of Kentucky</td>\n",
       "      <td>1927.0</td>\n",
       "      <td>Hardinsburg</td>\n",
       "      <td>Kentucky</td>\n",
       "    </tr>\n",
       "  </tbody>\n",
       "</table>\n",
       "</div>"
      ],
      "text/plain": [
       "   Unnamed: 0           Player  height  weight  \\\n",
       "0           0  Curly Armstrong   180.0    77.0   \n",
       "1           1     Cliff Barker   188.0    83.0   \n",
       "2           2    Leo Barnhorst   193.0    86.0   \n",
       "3           3       Ed Bartels   196.0    88.0   \n",
       "4           4      Ralph Beard   178.0    79.0   \n",
       "\n",
       "                           collage    born   birth_city birth_state  \n",
       "0               Indiana University  1918.0          NaN         NaN  \n",
       "1           University of Kentucky  1921.0     Yorktown     Indiana  \n",
       "2         University of Notre Dame  1924.0          NaN         NaN  \n",
       "3  North Carolina State University  1925.0          NaN         NaN  \n",
       "4           University of Kentucky  1927.0  Hardinsburg    Kentucky  "
      ]
     },
     "execution_count": 5,
     "metadata": {},
     "output_type": "execute_result"
    }
   ],
   "source": [
    "players_df.head()"
   ]
  },
  {
   "cell_type": "code",
   "execution_count": 6,
   "metadata": {},
   "outputs": [
    {
     "name": "stdout",
     "output_type": "stream",
     "text": [
      "Index(['Unnamed: 0', 'Year', 'Player', 'Pos', 'Age', 'Tm', 'G', 'GS', 'MP',\n",
      "       'PER', 'TS%', '3PAr', 'FTr', 'ORB%', 'DRB%', 'TRB%', 'AST%', 'STL%',\n",
      "       'BLK%', 'TOV%', 'USG%', 'blanl', 'OWS', 'DWS', 'WS', 'WS/48', 'blank2',\n",
      "       'OBPM', 'DBPM', 'BPM', 'VORP', 'FG', 'FGA', 'FG%', '3P', '3PA', '3P%',\n",
      "       '2P', '2PA', '2P%', 'eFG%', 'FT', 'FTA', 'FT%', 'ORB', 'DRB', 'TRB',\n",
      "       'AST', 'STL', 'BLK', 'TOV', 'PF', 'PTS'],\n",
      "      dtype='object')\n"
     ]
    },
    {
     "data": {
      "text/html": [
       "<div>\n",
       "<style scoped>\n",
       "    .dataframe tbody tr th:only-of-type {\n",
       "        vertical-align: middle;\n",
       "    }\n",
       "\n",
       "    .dataframe tbody tr th {\n",
       "        vertical-align: top;\n",
       "    }\n",
       "\n",
       "    .dataframe thead th {\n",
       "        text-align: right;\n",
       "    }\n",
       "</style>\n",
       "<table border=\"1\" class=\"dataframe\">\n",
       "  <thead>\n",
       "    <tr style=\"text-align: right;\">\n",
       "      <th></th>\n",
       "      <th>Unnamed: 0</th>\n",
       "      <th>Year</th>\n",
       "      <th>Player</th>\n",
       "      <th>Pos</th>\n",
       "      <th>Age</th>\n",
       "      <th>Tm</th>\n",
       "      <th>G</th>\n",
       "      <th>GS</th>\n",
       "      <th>MP</th>\n",
       "      <th>PER</th>\n",
       "      <th>...</th>\n",
       "      <th>FT%</th>\n",
       "      <th>ORB</th>\n",
       "      <th>DRB</th>\n",
       "      <th>TRB</th>\n",
       "      <th>AST</th>\n",
       "      <th>STL</th>\n",
       "      <th>BLK</th>\n",
       "      <th>TOV</th>\n",
       "      <th>PF</th>\n",
       "      <th>PTS</th>\n",
       "    </tr>\n",
       "  </thead>\n",
       "  <tbody>\n",
       "    <tr>\n",
       "      <th>0</th>\n",
       "      <td>0</td>\n",
       "      <td>1950.0</td>\n",
       "      <td>Curly Armstrong</td>\n",
       "      <td>G-F</td>\n",
       "      <td>31.0</td>\n",
       "      <td>FTW</td>\n",
       "      <td>63.0</td>\n",
       "      <td>NaN</td>\n",
       "      <td>NaN</td>\n",
       "      <td>NaN</td>\n",
       "      <td>...</td>\n",
       "      <td>0.705</td>\n",
       "      <td>NaN</td>\n",
       "      <td>NaN</td>\n",
       "      <td>NaN</td>\n",
       "      <td>176.0</td>\n",
       "      <td>NaN</td>\n",
       "      <td>NaN</td>\n",
       "      <td>NaN</td>\n",
       "      <td>217.0</td>\n",
       "      <td>458.0</td>\n",
       "    </tr>\n",
       "    <tr>\n",
       "      <th>1</th>\n",
       "      <td>1</td>\n",
       "      <td>1950.0</td>\n",
       "      <td>Cliff Barker</td>\n",
       "      <td>SG</td>\n",
       "      <td>29.0</td>\n",
       "      <td>INO</td>\n",
       "      <td>49.0</td>\n",
       "      <td>NaN</td>\n",
       "      <td>NaN</td>\n",
       "      <td>NaN</td>\n",
       "      <td>...</td>\n",
       "      <td>0.708</td>\n",
       "      <td>NaN</td>\n",
       "      <td>NaN</td>\n",
       "      <td>NaN</td>\n",
       "      <td>109.0</td>\n",
       "      <td>NaN</td>\n",
       "      <td>NaN</td>\n",
       "      <td>NaN</td>\n",
       "      <td>99.0</td>\n",
       "      <td>279.0</td>\n",
       "    </tr>\n",
       "    <tr>\n",
       "      <th>2</th>\n",
       "      <td>2</td>\n",
       "      <td>1950.0</td>\n",
       "      <td>Leo Barnhorst</td>\n",
       "      <td>SF</td>\n",
       "      <td>25.0</td>\n",
       "      <td>CHS</td>\n",
       "      <td>67.0</td>\n",
       "      <td>NaN</td>\n",
       "      <td>NaN</td>\n",
       "      <td>NaN</td>\n",
       "      <td>...</td>\n",
       "      <td>0.698</td>\n",
       "      <td>NaN</td>\n",
       "      <td>NaN</td>\n",
       "      <td>NaN</td>\n",
       "      <td>140.0</td>\n",
       "      <td>NaN</td>\n",
       "      <td>NaN</td>\n",
       "      <td>NaN</td>\n",
       "      <td>192.0</td>\n",
       "      <td>438.0</td>\n",
       "    </tr>\n",
       "    <tr>\n",
       "      <th>3</th>\n",
       "      <td>3</td>\n",
       "      <td>1950.0</td>\n",
       "      <td>Ed Bartels</td>\n",
       "      <td>F</td>\n",
       "      <td>24.0</td>\n",
       "      <td>TOT</td>\n",
       "      <td>15.0</td>\n",
       "      <td>NaN</td>\n",
       "      <td>NaN</td>\n",
       "      <td>NaN</td>\n",
       "      <td>...</td>\n",
       "      <td>0.559</td>\n",
       "      <td>NaN</td>\n",
       "      <td>NaN</td>\n",
       "      <td>NaN</td>\n",
       "      <td>20.0</td>\n",
       "      <td>NaN</td>\n",
       "      <td>NaN</td>\n",
       "      <td>NaN</td>\n",
       "      <td>29.0</td>\n",
       "      <td>63.0</td>\n",
       "    </tr>\n",
       "    <tr>\n",
       "      <th>4</th>\n",
       "      <td>4</td>\n",
       "      <td>1950.0</td>\n",
       "      <td>Ed Bartels</td>\n",
       "      <td>F</td>\n",
       "      <td>24.0</td>\n",
       "      <td>DNN</td>\n",
       "      <td>13.0</td>\n",
       "      <td>NaN</td>\n",
       "      <td>NaN</td>\n",
       "      <td>NaN</td>\n",
       "      <td>...</td>\n",
       "      <td>0.548</td>\n",
       "      <td>NaN</td>\n",
       "      <td>NaN</td>\n",
       "      <td>NaN</td>\n",
       "      <td>20.0</td>\n",
       "      <td>NaN</td>\n",
       "      <td>NaN</td>\n",
       "      <td>NaN</td>\n",
       "      <td>27.0</td>\n",
       "      <td>59.0</td>\n",
       "    </tr>\n",
       "  </tbody>\n",
       "</table>\n",
       "<p>5 rows × 53 columns</p>\n",
       "</div>"
      ],
      "text/plain": [
       "   Unnamed: 0    Year           Player  Pos   Age   Tm     G  GS  MP  PER  \\\n",
       "0           0  1950.0  Curly Armstrong  G-F  31.0  FTW  63.0 NaN NaN  NaN   \n",
       "1           1  1950.0     Cliff Barker   SG  29.0  INO  49.0 NaN NaN  NaN   \n",
       "2           2  1950.0    Leo Barnhorst   SF  25.0  CHS  67.0 NaN NaN  NaN   \n",
       "3           3  1950.0       Ed Bartels    F  24.0  TOT  15.0 NaN NaN  NaN   \n",
       "4           4  1950.0       Ed Bartels    F  24.0  DNN  13.0 NaN NaN  NaN   \n",
       "\n",
       "   ...    FT%  ORB  DRB  TRB    AST  STL  BLK  TOV     PF    PTS  \n",
       "0  ...  0.705  NaN  NaN  NaN  176.0  NaN  NaN  NaN  217.0  458.0  \n",
       "1  ...  0.708  NaN  NaN  NaN  109.0  NaN  NaN  NaN   99.0  279.0  \n",
       "2  ...  0.698  NaN  NaN  NaN  140.0  NaN  NaN  NaN  192.0  438.0  \n",
       "3  ...  0.559  NaN  NaN  NaN   20.0  NaN  NaN  NaN   29.0   63.0  \n",
       "4  ...  0.548  NaN  NaN  NaN   20.0  NaN  NaN  NaN   27.0   59.0  \n",
       "\n",
       "[5 rows x 53 columns]"
      ]
     },
     "execution_count": 6,
     "metadata": {},
     "output_type": "execute_result"
    }
   ],
   "source": [
    "print(seasons_stats_df.columns)\n",
    "seasons_stats_df.head()"
   ]
  },
  {
   "cell_type": "code",
   "execution_count": 7,
   "metadata": {},
   "outputs": [
    {
     "data": {
      "text/html": [
       "<div>\n",
       "<style scoped>\n",
       "    .dataframe tbody tr th:only-of-type {\n",
       "        vertical-align: middle;\n",
       "    }\n",
       "\n",
       "    .dataframe tbody tr th {\n",
       "        vertical-align: top;\n",
       "    }\n",
       "\n",
       "    .dataframe thead th {\n",
       "        text-align: right;\n",
       "    }\n",
       "</style>\n",
       "<table border=\"1\" class=\"dataframe\">\n",
       "  <thead>\n",
       "    <tr style=\"text-align: right;\">\n",
       "      <th></th>\n",
       "      <th>Season</th>\n",
       "      <th>Nominal</th>\n",
       "      <th>Real</th>\n",
       "    </tr>\n",
       "  </thead>\n",
       "  <tbody>\n",
       "    <tr>\n",
       "      <th>0</th>\n",
       "      <td>1984-85</td>\n",
       "      <td>$3,600,000</td>\n",
       "      <td>$7,934,034</td>\n",
       "    </tr>\n",
       "    <tr>\n",
       "      <th>1</th>\n",
       "      <td>1985-86</td>\n",
       "      <td>$4,233,000</td>\n",
       "      <td>$9,153,509</td>\n",
       "    </tr>\n",
       "    <tr>\n",
       "      <th>2</th>\n",
       "      <td>1986-87</td>\n",
       "      <td>$4,945,000</td>\n",
       "      <td>$10,317,292</td>\n",
       "    </tr>\n",
       "    <tr>\n",
       "      <th>3</th>\n",
       "      <td>1987-88</td>\n",
       "      <td>$6,164,000</td>\n",
       "      <td>$12,354,015</td>\n",
       "    </tr>\n",
       "    <tr>\n",
       "      <th>4</th>\n",
       "      <td>1988-89</td>\n",
       "      <td>$7,232,000</td>\n",
       "      <td>$13,829,137</td>\n",
       "    </tr>\n",
       "    <tr>\n",
       "      <th>5</th>\n",
       "      <td>1989-90</td>\n",
       "      <td>$9,802,000</td>\n",
       "      <td>$17,783,913</td>\n",
       "    </tr>\n",
       "    <tr>\n",
       "      <th>6</th>\n",
       "      <td>1990-91</td>\n",
       "      <td>$11,871,000</td>\n",
       "      <td>$20,658,962</td>\n",
       "    </tr>\n",
       "    <tr>\n",
       "      <th>7</th>\n",
       "      <td>1991-92</td>\n",
       "      <td>$12,500,000</td>\n",
       "      <td>$21,113,943</td>\n",
       "    </tr>\n",
       "    <tr>\n",
       "      <th>8</th>\n",
       "      <td>1992-93</td>\n",
       "      <td>$14,000,000</td>\n",
       "      <td>$22,972,126</td>\n",
       "    </tr>\n",
       "    <tr>\n",
       "      <th>9</th>\n",
       "      <td>1993-94</td>\n",
       "      <td>$15,175,000</td>\n",
       "      <td>$24,268,416</td>\n",
       "    </tr>\n",
       "    <tr>\n",
       "      <th>10</th>\n",
       "      <td>1994-95</td>\n",
       "      <td>$15,964,000</td>\n",
       "      <td>$24,833,276</td>\n",
       "    </tr>\n",
       "    <tr>\n",
       "      <th>11</th>\n",
       "      <td>1995-96</td>\n",
       "      <td>$23,000,000</td>\n",
       "      <td>$34,761,086</td>\n",
       "    </tr>\n",
       "    <tr>\n",
       "      <th>12</th>\n",
       "      <td>1996-97</td>\n",
       "      <td>$24,363,000</td>\n",
       "      <td>$35,973,807</td>\n",
       "    </tr>\n",
       "    <tr>\n",
       "      <th>13</th>\n",
       "      <td>1997-98</td>\n",
       "      <td>$26,900,000</td>\n",
       "      <td>$39,119,783</td>\n",
       "    </tr>\n",
       "    <tr>\n",
       "      <th>14</th>\n",
       "      <td>1998-99</td>\n",
       "      <td>$30,000,000</td>\n",
       "      <td>$42,686,775</td>\n",
       "    </tr>\n",
       "    <tr>\n",
       "      <th>15</th>\n",
       "      <td>1999-00</td>\n",
       "      <td>$34,000,000</td>\n",
       "      <td>$46,798,454</td>\n",
       "    </tr>\n",
       "    <tr>\n",
       "      <th>16</th>\n",
       "      <td>2000-01</td>\n",
       "      <td>$35,500,000</td>\n",
       "      <td>$47,522,364</td>\n",
       "    </tr>\n",
       "    <tr>\n",
       "      <th>17</th>\n",
       "      <td>2001-02</td>\n",
       "      <td>$42,500,000</td>\n",
       "      <td>$56,008,788</td>\n",
       "    </tr>\n",
       "    <tr>\n",
       "      <th>18</th>\n",
       "      <td>2002-03</td>\n",
       "      <td>$40,271,000</td>\n",
       "      <td>$51,890,436</td>\n",
       "    </tr>\n",
       "    <tr>\n",
       "      <th>19</th>\n",
       "      <td>2003-04</td>\n",
       "      <td>$43,840,000</td>\n",
       "      <td>$55,016,264</td>\n",
       "    </tr>\n",
       "    <tr>\n",
       "      <th>20</th>\n",
       "      <td>2004-05</td>\n",
       "      <td>$43,870,000</td>\n",
       "      <td>$53,243,484</td>\n",
       "    </tr>\n",
       "    <tr>\n",
       "      <th>21</th>\n",
       "      <td>2005-06</td>\n",
       "      <td>$49,500,000</td>\n",
       "      <td>$58,202,129</td>\n",
       "    </tr>\n",
       "    <tr>\n",
       "      <th>22</th>\n",
       "      <td>2006-07</td>\n",
       "      <td>$53,135,000</td>\n",
       "      <td>$60,741,551</td>\n",
       "    </tr>\n",
       "    <tr>\n",
       "      <th>23</th>\n",
       "      <td>2007-08</td>\n",
       "      <td>$55,630,000</td>\n",
       "      <td>$61,244,588</td>\n",
       "    </tr>\n",
       "    <tr>\n",
       "      <th>24</th>\n",
       "      <td>2008-09</td>\n",
       "      <td>$58,680,000</td>\n",
       "      <td>$64,832,889</td>\n",
       "    </tr>\n",
       "    <tr>\n",
       "      <th>25</th>\n",
       "      <td>2009-10</td>\n",
       "      <td>$57,700,000</td>\n",
       "      <td>$62,718,922</td>\n",
       "    </tr>\n",
       "    <tr>\n",
       "      <th>26</th>\n",
       "      <td>2010-11</td>\n",
       "      <td>$58,044,000</td>\n",
       "      <td>$61,160,859</td>\n",
       "    </tr>\n",
       "    <tr>\n",
       "      <th>27</th>\n",
       "      <td>2011-12</td>\n",
       "      <td>$58,044,000</td>\n",
       "      <td>$59,928,600</td>\n",
       "    </tr>\n",
       "    <tr>\n",
       "      <th>28</th>\n",
       "      <td>2012-13</td>\n",
       "      <td>$58,044,000</td>\n",
       "      <td>$59,063,916</td>\n",
       "    </tr>\n",
       "    <tr>\n",
       "      <th>29</th>\n",
       "      <td>2013-14</td>\n",
       "      <td>$58,679,000</td>\n",
       "      <td>$58,753,235</td>\n",
       "    </tr>\n",
       "    <tr>\n",
       "      <th>30</th>\n",
       "      <td>2014-15</td>\n",
       "      <td>$63,065,000</td>\n",
       "      <td>$63,065,000</td>\n",
       "    </tr>\n",
       "    <tr>\n",
       "      <th>31</th>\n",
       "      <td>2015-16</td>\n",
       "      <td>$70,000,000</td>\n",
       "      <td>$69,126,577</td>\n",
       "    </tr>\n",
       "    <tr>\n",
       "      <th>32</th>\n",
       "      <td>2016-17</td>\n",
       "      <td>$94,143,000</td>\n",
       "      <td>$91,334,866</td>\n",
       "    </tr>\n",
       "    <tr>\n",
       "      <th>33</th>\n",
       "      <td>2017-18</td>\n",
       "      <td>$99,093,000</td>\n",
       "      <td>$93,532,801</td>\n",
       "    </tr>\n",
       "  </tbody>\n",
       "</table>\n",
       "</div>"
      ],
      "text/plain": [
       "     Season       Nominal          Real\n",
       "0   1984-85   $3,600,000    $7,934,034 \n",
       "1   1985-86   $4,233,000    $9,153,509 \n",
       "2   1986-87   $4,945,000   $10,317,292 \n",
       "3   1987-88   $6,164,000   $12,354,015 \n",
       "4   1988-89   $7,232,000   $13,829,137 \n",
       "5   1989-90   $9,802,000   $17,783,913 \n",
       "6   1990-91  $11,871,000   $20,658,962 \n",
       "7   1991-92  $12,500,000   $21,113,943 \n",
       "8   1992-93  $14,000,000   $22,972,126 \n",
       "9   1993-94  $15,175,000   $24,268,416 \n",
       "10  1994-95  $15,964,000   $24,833,276 \n",
       "11  1995-96  $23,000,000   $34,761,086 \n",
       "12  1996-97  $24,363,000   $35,973,807 \n",
       "13  1997-98  $26,900,000   $39,119,783 \n",
       "14  1998-99  $30,000,000   $42,686,775 \n",
       "15  1999-00  $34,000,000   $46,798,454 \n",
       "16  2000-01  $35,500,000   $47,522,364 \n",
       "17  2001-02  $42,500,000   $56,008,788 \n",
       "18  2002-03  $40,271,000   $51,890,436 \n",
       "19  2003-04  $43,840,000   $55,016,264 \n",
       "20  2004-05  $43,870,000   $53,243,484 \n",
       "21  2005-06  $49,500,000   $58,202,129 \n",
       "22  2006-07  $53,135,000   $60,741,551 \n",
       "23  2007-08  $55,630,000   $61,244,588 \n",
       "24  2008-09  $58,680,000   $64,832,889 \n",
       "25  2009-10  $57,700,000   $62,718,922 \n",
       "26  2010-11  $58,044,000   $61,160,859 \n",
       "27  2011-12  $58,044,000   $59,928,600 \n",
       "28  2012-13  $58,044,000   $59,063,916 \n",
       "29  2013-14  $58,679,000   $58,753,235 \n",
       "30  2014-15  $63,065,000   $63,065,000 \n",
       "31  2015-16  $70,000,000   $69,126,577 \n",
       "32  2016-17  $94,143,000   $91,334,866 \n",
       "33  2017-18  $99,093,000   $93,532,801 "
      ]
     },
     "execution_count": 7,
     "metadata": {},
     "output_type": "execute_result"
    }
   ],
   "source": [
    "salary_cap_df"
   ]
  },
  {
   "cell_type": "markdown",
   "metadata": {},
   "source": [
    "# Clean data"
   ]
  },
  {
   "cell_type": "code",
   "execution_count": 8,
   "metadata": {
    "collapsed": true
   },
   "outputs": [],
   "source": [
    "# We only have salary information from 1990 onwards\n",
    "clean_player_data_df = player_data_df[player_data_df['year_end'] >= 1990]"
   ]
  },
  {
   "cell_type": "code",
   "execution_count": 9,
   "metadata": {
    "collapsed": true
   },
   "outputs": [],
   "source": [
    "clean_seasons_stats_df = seasons_stats_df[seasons_stats_df['Year'] >= 1990].drop(['Unnamed: 0', 'blanl', 'blank2'], 'columns')\n",
    "clean_seasons_stats_df = clean_seasons_stats_df.groupby('Player').apply(lambda x: x.drop_duplicates(subset=['Year'])).reset_index(drop=True)"
   ]
  },
  {
   "cell_type": "code",
   "execution_count": 10,
   "metadata": {
    "collapsed": true
   },
   "outputs": [],
   "source": [
    "clean_body_stats_df = players_df[['Player', 'height', 'weight']]"
   ]
  },
  {
   "cell_type": "code",
   "execution_count": 11,
   "metadata": {
    "collapsed": true
   },
   "outputs": [],
   "source": [
    "clean_salaries_df = salaries_df.drop(['team', 'team_name'], 'columns')"
   ]
  },
  {
   "cell_type": "code",
   "execution_count": 12,
   "metadata": {},
   "outputs": [
    {
     "data": {
      "text/html": [
       "<div>\n",
       "<style scoped>\n",
       "    .dataframe tbody tr th:only-of-type {\n",
       "        vertical-align: middle;\n",
       "    }\n",
       "\n",
       "    .dataframe tbody tr th {\n",
       "        vertical-align: top;\n",
       "    }\n",
       "\n",
       "    .dataframe thead th {\n",
       "        text-align: right;\n",
       "    }\n",
       "</style>\n",
       "<table border=\"1\" class=\"dataframe\">\n",
       "  <thead>\n",
       "    <tr style=\"text-align: right;\">\n",
       "      <th></th>\n",
       "      <th>Nominal</th>\n",
       "      <th>Real</th>\n",
       "    </tr>\n",
       "    <tr>\n",
       "      <th>Season</th>\n",
       "      <th></th>\n",
       "      <th></th>\n",
       "    </tr>\n",
       "  </thead>\n",
       "  <tbody>\n",
       "    <tr>\n",
       "      <th>1984</th>\n",
       "      <td>3600000.0</td>\n",
       "      <td>7934034.0</td>\n",
       "    </tr>\n",
       "    <tr>\n",
       "      <th>1985</th>\n",
       "      <td>4233000.0</td>\n",
       "      <td>9153509.0</td>\n",
       "    </tr>\n",
       "    <tr>\n",
       "      <th>1986</th>\n",
       "      <td>4945000.0</td>\n",
       "      <td>10317292.0</td>\n",
       "    </tr>\n",
       "    <tr>\n",
       "      <th>1987</th>\n",
       "      <td>6164000.0</td>\n",
       "      <td>12354015.0</td>\n",
       "    </tr>\n",
       "    <tr>\n",
       "      <th>1988</th>\n",
       "      <td>7232000.0</td>\n",
       "      <td>13829137.0</td>\n",
       "    </tr>\n",
       "  </tbody>\n",
       "</table>\n",
       "</div>"
      ],
      "text/plain": [
       "          Nominal        Real\n",
       "Season                       \n",
       "1984    3600000.0   7934034.0\n",
       "1985    4233000.0   9153509.0\n",
       "1986    4945000.0  10317292.0\n",
       "1987    6164000.0  12354015.0\n",
       "1988    7232000.0  13829137.0"
      ]
     },
     "execution_count": 12,
     "metadata": {},
     "output_type": "execute_result"
    }
   ],
   "source": [
    "salary_cap_df['Season'] = salary_cap_df['Season'].str.split(\"-\").str[0].astype(int)\n",
    "salary_cap_df = salary_cap_df.set_index('Season')\n",
    "salary_cap_df = salary_cap_df[salary_cap_df.columns[0:]].replace('[\\$,]', '', regex=True).astype(float)\n",
    "salary_cap_df = salary_cap_df.dropna()\n",
    "salary_cap_df.head()"
   ]
  },
  {
   "cell_type": "markdown",
   "metadata": {},
   "source": [
    "# Analyzing raw data"
   ]
  },
  {
   "cell_type": "markdown",
   "metadata": {},
   "source": [
    "### Examining Salary Inflation"
   ]
  },
  {
   "cell_type": "code",
   "execution_count": 13,
   "metadata": {},
   "outputs": [
    {
     "data": {
      "text/html": [
       "<div>\n",
       "<style scoped>\n",
       "    .dataframe tbody tr th:only-of-type {\n",
       "        vertical-align: middle;\n",
       "    }\n",
       "\n",
       "    .dataframe tbody tr th {\n",
       "        vertical-align: top;\n",
       "    }\n",
       "\n",
       "    .dataframe thead th {\n",
       "        text-align: right;\n",
       "    }\n",
       "</style>\n",
       "<table border=\"1\" class=\"dataframe\">\n",
       "  <thead>\n",
       "    <tr style=\"text-align: right;\">\n",
       "      <th></th>\n",
       "      <th>Nominal</th>\n",
       "      <th>Real</th>\n",
       "    </tr>\n",
       "    <tr>\n",
       "      <th>Season</th>\n",
       "      <th></th>\n",
       "      <th></th>\n",
       "    </tr>\n",
       "  </thead>\n",
       "  <tbody>\n",
       "    <tr>\n",
       "      <th>1984</th>\n",
       "      <td>3600000.0</td>\n",
       "      <td>7934034.0</td>\n",
       "    </tr>\n",
       "    <tr>\n",
       "      <th>1985</th>\n",
       "      <td>4233000.0</td>\n",
       "      <td>9153509.0</td>\n",
       "    </tr>\n",
       "    <tr>\n",
       "      <th>1986</th>\n",
       "      <td>4945000.0</td>\n",
       "      <td>10317292.0</td>\n",
       "    </tr>\n",
       "    <tr>\n",
       "      <th>1987</th>\n",
       "      <td>6164000.0</td>\n",
       "      <td>12354015.0</td>\n",
       "    </tr>\n",
       "    <tr>\n",
       "      <th>1988</th>\n",
       "      <td>7232000.0</td>\n",
       "      <td>13829137.0</td>\n",
       "    </tr>\n",
       "  </tbody>\n",
       "</table>\n",
       "</div>"
      ],
      "text/plain": [
       "          Nominal        Real\n",
       "Season                       \n",
       "1984    3600000.0   7934034.0\n",
       "1985    4233000.0   9153509.0\n",
       "1986    4945000.0  10317292.0\n",
       "1987    6164000.0  12354015.0\n",
       "1988    7232000.0  13829137.0"
      ]
     },
     "execution_count": 13,
     "metadata": {},
     "output_type": "execute_result"
    }
   ],
   "source": [
    "salary_cap_df.head()"
   ]
  },
  {
   "cell_type": "code",
   "execution_count": 14,
   "metadata": {},
   "outputs": [
    {
     "data": {
      "image/png": "[encoded data removed]",
      "text/plain": [
       "<Figure size 432x288 with 1 Axes>"
      ]
     },
     "metadata": {
      "needs_background": "light"
     },
     "output_type": "display_data"
    }
   ],
   "source": [
    "# Looking at the salary cap inflation over time\n",
    "lines = salary_cap_df.plot.line()\n",
    "plt.ylabel('Salary')\n",
    "plt.show()"
   ]
  },
  {
   "cell_type": "code",
   "execution_count": 15,
   "metadata": {},
   "outputs": [
    {
     "data": {
      "image/png": "[encoded data removed]",
      "text/plain": [
       "<Figure size 432x288 with 1 Axes>"
      ]
     },
     "metadata": {
      "needs_background": "light"
     },
     "output_type": "display_data"
    }
   ],
   "source": [
    "# Get the average salary over the years 1990-2018\n",
    "avg_salaries = salaries_df.groupby('season_end')['salary', 'season_end'].transform('mean').drop_duplicates()\n",
    "avg_salaries.columns = ['Average Salary', 'Season']\n",
    "avg_salaries = avg_salaries.set_index('Season')\n",
    "avg_salaries.plot.line()\n",
    "plt.ylabel('Average Salary')\n",
    "plt.show()"
   ]
  },
  {
   "cell_type": "code",
   "execution_count": 16,
   "metadata": {},
   "outputs": [
    {
     "data": {
      "text/html": [
       "<div>\n",
       "<style scoped>\n",
       "    .dataframe tbody tr th:only-of-type {\n",
       "        vertical-align: middle;\n",
       "    }\n",
       "\n",
       "    .dataframe tbody tr th {\n",
       "        vertical-align: top;\n",
       "    }\n",
       "\n",
       "    .dataframe thead th {\n",
       "        text-align: right;\n",
       "    }\n",
       "</style>\n",
       "<table border=\"1\" class=\"dataframe\">\n",
       "  <thead>\n",
       "    <tr style=\"text-align: right;\">\n",
       "      <th></th>\n",
       "      <th>Nominal</th>\n",
       "      <th>Real</th>\n",
       "      <th>Average Salary</th>\n",
       "    </tr>\n",
       "    <tr>\n",
       "      <th>Season</th>\n",
       "      <th></th>\n",
       "      <th></th>\n",
       "      <th></th>\n",
       "    </tr>\n",
       "  </thead>\n",
       "  <tbody>\n",
       "    <tr>\n",
       "      <th>1984</th>\n",
       "      <td>3600000.0</td>\n",
       "      <td>7934034.0</td>\n",
       "      <td>NaN</td>\n",
       "    </tr>\n",
       "    <tr>\n",
       "      <th>1985</th>\n",
       "      <td>4233000.0</td>\n",
       "      <td>9153509.0</td>\n",
       "      <td>NaN</td>\n",
       "    </tr>\n",
       "    <tr>\n",
       "      <th>1986</th>\n",
       "      <td>4945000.0</td>\n",
       "      <td>10317292.0</td>\n",
       "      <td>NaN</td>\n",
       "    </tr>\n",
       "    <tr>\n",
       "      <th>1987</th>\n",
       "      <td>6164000.0</td>\n",
       "      <td>12354015.0</td>\n",
       "      <td>NaN</td>\n",
       "    </tr>\n",
       "    <tr>\n",
       "      <th>1988</th>\n",
       "      <td>7232000.0</td>\n",
       "      <td>13829137.0</td>\n",
       "      <td>NaN</td>\n",
       "    </tr>\n",
       "  </tbody>\n",
       "</table>\n",
       "</div>"
      ],
      "text/plain": [
       "          Nominal        Real  Average Salary\n",
       "Season                                       \n",
       "1984    3600000.0   7934034.0             NaN\n",
       "1985    4233000.0   9153509.0             NaN\n",
       "1986    4945000.0  10317292.0             NaN\n",
       "1987    6164000.0  12354015.0             NaN\n",
       "1988    7232000.0  13829137.0             NaN"
      ]
     },
     "execution_count": 16,
     "metadata": {},
     "output_type": "execute_result"
    }
   ],
   "source": [
    "salary_cap_df = pd.concat([salary_cap_df, avg_salaries], axis=1, join_axes=[salary_cap_df.index])\n",
    "salary_cap_df.head()"
   ]
  },
  {
   "cell_type": "code",
   "execution_count": 17,
   "metadata": {},
   "outputs": [
    {
     "data": {
      "image/png": "[encoded data removed]",
      "text/plain": [
       "<Figure size 432x288 with 1 Axes>"
      ]
     },
     "metadata": {
      "needs_background": "light"
     },
     "output_type": "display_data"
    }
   ],
   "source": [
    "lines = salary_cap_df.plot.line()\n",
    "plt.ylabel('Salary')\n",
    "plt.show()"
   ]
  },
  {
   "cell_type": "markdown",
   "metadata": {},
   "source": [
    "We see that the average salary is much below the salary cap.  This is because the salary cap is the absolute maximum a NBA team can pay their entire roster (before entering the luxury tax), whereas the average salary is for just a single NBA player.  A better comparison would be to compare the relationship between the salary cap inflation and the average salary inflation (and maybe compare to the US inflation)."
   ]
  },
  {
   "cell_type": "code",
   "execution_count": 18,
   "metadata": {},
   "outputs": [
    {
     "data": {
      "image/png": "[encoded data removed]",
      "text/plain": [
       "<Figure size 432x288 with 1 Axes>"
      ]
     },
     "metadata": {
      "needs_background": "light"
     },
     "output_type": "display_data"
    }
   ],
   "source": [
    "salary_inflation = salary_cap_df.pct_change()\n",
    "lines = salary_inflation.plot.line()\n",
    "plt.ylabel('Inflation')\n",
    "plt.show()"
   ]
  },
  {
   "cell_type": "markdown",
   "metadata": {},
   "source": [
    "We see that there isn't too strong of a correlation between the inflation in the salary cap and the inflation in player salaries.  In building our models, we will again test if including the particular season's salary cap (instead of just the year) improves our performance.  Our examination of the salary cap and salaries inflation indicates that it may to some extent."
   ]
  },
  {
   "cell_type": "markdown",
   "metadata": {},
   "source": [
    "### Examining salary distribution"
   ]
  },
  {
   "cell_type": "markdown",
   "metadata": {},
   "source": [
    "In this section, we want to examine the distribution of player salaries."
   ]
  },
  {
   "cell_type": "code",
   "execution_count": 19,
   "metadata": {},
   "outputs": [
    {
     "data": {
      "image/png": "[encoded data removed]",
      "text/plain": [
       "<Figure size 432x288 with 1 Axes>"
      ]
     },
     "metadata": {
      "needs_background": "light"
     },
     "output_type": "display_data"
    },
    {
     "data": {
      "image/png": "[encoded data removed]",
      "text/plain": [
       "<Figure size 432x288 with 1 Axes>"
      ]
     },
     "metadata": {
      "needs_background": "light"
     },
     "output_type": "display_data"
    },
    {
     "data": {
      "image/png": "[encoded data removed]",
      "text/plain": [
       "<Figure size 432x288 with 1 Axes>"
      ]
     },
     "metadata": {
      "needs_background": "light"
     },
     "output_type": "display_data"
    },
    {
     "data": {
      "image/png": "[encoded data removed]",
      "text/plain": [
       "<Figure size 432x288 with 1 Axes>"
      ]
     },
     "metadata": {
      "needs_background": "light"
     },
     "output_type": "display_data"
    }
   ],
   "source": [
    "sample_years = [2018,2010,2002,1994]\n",
    "for year in sample_years:\n",
    "    salaries = clean_salaries_df[clean_salaries_df['season_end'] == year]['salary']\n",
    "    plt.hist(salaries)\n",
    "    plt.xlabel('Salary')\n",
    "    plt.title(year)\n",
    "    plt.show()"
   ]
  },
  {
   "cell_type": "markdown",
   "metadata": {},
   "source": [
    "As we would expect, salaries are quite right-skewed distributions and are becoming increasingly so. We try to make the distribution a bit more \"normal\":"
   ]
  },
  {
   "cell_type": "code",
   "execution_count": 20,
   "metadata": {},
   "outputs": [
    {
     "data": {
      "image/png": "[encoded data removed]",
      "text/plain": [
       "<Figure size 432x288 with 1 Axes>"
      ]
     },
     "metadata": {
      "needs_background": "light"
     },
     "output_type": "display_data"
    },
    {
     "data": {
      "image/png": "[encoded data removed]",
      "text/plain": [
       "<Figure size 432x288 with 1 Axes>"
      ]
     },
     "metadata": {
      "needs_background": "light"
     },
     "output_type": "display_data"
    },
    {
     "data": {
      "image/png": "[encoded data removed]",
      "text/plain": [
       "<Figure size 432x288 with 1 Axes>"
      ]
     },
     "metadata": {
      "needs_background": "light"
     },
     "output_type": "display_data"
    }
   ],
   "source": [
    "import math\n",
    "salaries_2006 = clean_salaries_df[clean_salaries_df['season_end'] == 2006]['salary']\n",
    "plt.hist(salaries.map(math.log))\n",
    "plt.xlabel('Salary')\n",
    "plt.title('Log Transform')\n",
    "plt.show()\n",
    "plt.hist(salaries.map(math.sqrt))\n",
    "plt.xlabel('Salary')\n",
    "plt.title('Square Root Transform')\n",
    "plt.show()\n",
    "plt.hist(salaries.map(lambda x: math.pow(x, 1/3)))\n",
    "plt.xlabel('Salary')\n",
    "plt.title('Cube Root Transform')\n",
    "plt.show()"
   ]
  },
  {
   "cell_type": "markdown",
   "metadata": {
    "collapsed": true
   },
   "source": [
    "# Transform data"
   ]
  },
  {
   "cell_type": "code",
   "execution_count": 21,
   "metadata": {
    "collapsed": true
   },
   "outputs": [],
   "source": [
    "from scipy import stats"
   ]
  },
  {
   "cell_type": "code",
   "execution_count": 22,
   "metadata": {
    "collapsed": true
   },
   "outputs": [],
   "source": [
    "features_seasons_stats_df = clean_seasons_stats_df.copy()"
   ]
  },
  {
   "cell_type": "code",
   "execution_count": 23,
   "metadata": {
    "collapsed": true
   },
   "outputs": [],
   "source": [
    "features_body_stats_df = clean_body_stats_df.copy()"
   ]
  },
  {
   "cell_type": "markdown",
   "metadata": {},
   "source": [
    "# Join data"
   ]
  },
  {
   "cell_type": "code",
   "execution_count": 24,
   "metadata": {},
   "outputs": [
    {
     "data": {
      "text/html": [
       "<div>\n",
       "<style scoped>\n",
       "    .dataframe tbody tr th:only-of-type {\n",
       "        vertical-align: middle;\n",
       "    }\n",
       "\n",
       "    .dataframe tbody tr th {\n",
       "        vertical-align: top;\n",
       "    }\n",
       "\n",
       "    .dataframe thead th {\n",
       "        text-align: right;\n",
       "    }\n",
       "</style>\n",
       "<table border=\"1\" class=\"dataframe\">\n",
       "  <thead>\n",
       "    <tr style=\"text-align: right;\">\n",
       "      <th></th>\n",
       "      <th>player</th>\n",
       "      <th>salary</th>\n",
       "      <th>season_end</th>\n",
       "      <th>season_start</th>\n",
       "      <th>cube_root_salary</th>\n",
       "      <th>season_salary_z</th>\n",
       "      <th>next_season_salary_z</th>\n",
       "    </tr>\n",
       "  </thead>\n",
       "  <tbody>\n",
       "    <tr>\n",
       "      <th>0</th>\n",
       "      <td>Moses Malone</td>\n",
       "      <td>2406000</td>\n",
       "      <td>1991</td>\n",
       "      <td>1990</td>\n",
       "      <td>133.998069</td>\n",
       "      <td>1.895577</td>\n",
       "      <td>0.990715</td>\n",
       "    </tr>\n",
       "    <tr>\n",
       "      <th>1</th>\n",
       "      <td>Dominique Wilkins</td>\n",
       "      <td>2065000</td>\n",
       "      <td>1991</td>\n",
       "      <td>1990</td>\n",
       "      <td>127.342494</td>\n",
       "      <td>1.623581</td>\n",
       "      <td>2.102462</td>\n",
       "    </tr>\n",
       "    <tr>\n",
       "      <th>2</th>\n",
       "      <td>Jon Koncak</td>\n",
       "      <td>1550000</td>\n",
       "      <td>1991</td>\n",
       "      <td>1990</td>\n",
       "      <td>115.729453</td>\n",
       "      <td>1.148985</td>\n",
       "      <td>1.338753</td>\n",
       "    </tr>\n",
       "    <tr>\n",
       "      <th>3</th>\n",
       "      <td>Doc Rivers</td>\n",
       "      <td>895000</td>\n",
       "      <td>1991</td>\n",
       "      <td>1990</td>\n",
       "      <td>96.369812</td>\n",
       "      <td>0.357806</td>\n",
       "      <td>0.572878</td>\n",
       "    </tr>\n",
       "    <tr>\n",
       "      <th>4</th>\n",
       "      <td>Rumeal Robinson</td>\n",
       "      <td>800000</td>\n",
       "      <td>1991</td>\n",
       "      <td>1990</td>\n",
       "      <td>92.831777</td>\n",
       "      <td>0.213215</td>\n",
       "      <td>0.368960</td>\n",
       "    </tr>\n",
       "  </tbody>\n",
       "</table>\n",
       "</div>"
      ],
      "text/plain": [
       "              player   salary  season_end  season_start  cube_root_salary  \\\n",
       "0       Moses Malone  2406000        1991          1990        133.998069   \n",
       "1  Dominique Wilkins  2065000        1991          1990        127.342494   \n",
       "2         Jon Koncak  1550000        1991          1990        115.729453   \n",
       "3         Doc Rivers   895000        1991          1990         96.369812   \n",
       "4    Rumeal Robinson   800000        1991          1990         92.831777   \n",
       "\n",
       "   season_salary_z  next_season_salary_z  \n",
       "0         1.895577              0.990715  \n",
       "1         1.623581              2.102462  \n",
       "2         1.148985              1.338753  \n",
       "3         0.357806              0.572878  \n",
       "4         0.213215              0.368960  "
      ]
     },
     "execution_count": 24,
     "metadata": {},
     "output_type": "execute_result"
    }
   ],
   "source": [
    "features_salaries_df = clean_salaries_df.copy()\n",
    "features_salaries_df['cube_root_salary'] = np.cbrt(features_salaries_df['salary']) #.map(lambda x: math.pow(x, 1/3))\n",
    "features_salaries_df['season_salary_z'] = features_salaries_df.groupby('season_end')['cube_root_salary'].transform(stats.zscore)\n",
    "features_salaries_df['next_season_salary_z'] = features_salaries_df.groupby('player')['season_salary_z'].shift(-1)\n",
    "features_salaries_df = features_salaries_df.dropna(subset=['next_season_salary_z'])\n",
    "features_salaries_df.head()"
   ]
  },
  {
   "cell_type": "code",
   "execution_count": 100,
   "metadata": {},
   "outputs": [
    {
     "data": {
      "text/html": [
       "<div>\n",
       "<style scoped>\n",
       "    .dataframe tbody tr th:only-of-type {\n",
       "        vertical-align: middle;\n",
       "    }\n",
       "\n",
       "    .dataframe tbody tr th {\n",
       "        vertical-align: top;\n",
       "    }\n",
       "\n",
       "    .dataframe thead th {\n",
       "        text-align: right;\n",
       "    }\n",
       "</style>\n",
       "<table border=\"1\" class=\"dataframe\">\n",
       "  <thead>\n",
       "    <tr style=\"text-align: right;\">\n",
       "      <th></th>\n",
       "      <th></th>\n",
       "      <th>Pos</th>\n",
       "      <th>Age</th>\n",
       "      <th>Tm</th>\n",
       "      <th>G</th>\n",
       "      <th>GS</th>\n",
       "      <th>MP</th>\n",
       "      <th>PER</th>\n",
       "      <th>TS%</th>\n",
       "      <th>3PAr</th>\n",
       "      <th>FTr</th>\n",
       "      <th>...</th>\n",
       "      <th>TOV</th>\n",
       "      <th>PF</th>\n",
       "      <th>PTS</th>\n",
       "      <th>height</th>\n",
       "      <th>weight</th>\n",
       "      <th>salary</th>\n",
       "      <th>season_start</th>\n",
       "      <th>cube_root_salary</th>\n",
       "      <th>season_salary_z</th>\n",
       "      <th>next_season_salary_z</th>\n",
       "    </tr>\n",
       "    <tr>\n",
       "      <th>player</th>\n",
       "      <th>season_end</th>\n",
       "      <th></th>\n",
       "      <th></th>\n",
       "      <th></th>\n",
       "      <th></th>\n",
       "      <th></th>\n",
       "      <th></th>\n",
       "      <th></th>\n",
       "      <th></th>\n",
       "      <th></th>\n",
       "      <th></th>\n",
       "      <th></th>\n",
       "      <th></th>\n",
       "      <th></th>\n",
       "      <th></th>\n",
       "      <th></th>\n",
       "      <th></th>\n",
       "      <th></th>\n",
       "      <th></th>\n",
       "      <th></th>\n",
       "      <th></th>\n",
       "      <th></th>\n",
       "    </tr>\n",
       "  </thead>\n",
       "  <tbody>\n",
       "    <tr>\n",
       "      <th rowspan=\"5\" valign=\"top\">A.C. Green</th>\n",
       "      <th>1991</th>\n",
       "      <td>PF</td>\n",
       "      <td>27.0</td>\n",
       "      <td>LAL</td>\n",
       "      <td>82.0</td>\n",
       "      <td>21.0</td>\n",
       "      <td>2164.0</td>\n",
       "      <td>13.8</td>\n",
       "      <td>0.556</td>\n",
       "      <td>0.101</td>\n",
       "      <td>0.557</td>\n",
       "      <td>...</td>\n",
       "      <td>99.0</td>\n",
       "      <td>117.0</td>\n",
       "      <td>750.0</td>\n",
       "      <td>203.0</td>\n",
       "      <td>106.0</td>\n",
       "      <td>1750000</td>\n",
       "      <td>1990</td>\n",
       "      <td>120.507113</td>\n",
       "      <td>1.344236</td>\n",
       "      <td>1.127381</td>\n",
       "    </tr>\n",
       "    <tr>\n",
       "      <th>1992</th>\n",
       "      <td>PF</td>\n",
       "      <td>28.0</td>\n",
       "      <td>LAL</td>\n",
       "      <td>82.0</td>\n",
       "      <td>53.0</td>\n",
       "      <td>2902.0</td>\n",
       "      <td>16.7</td>\n",
       "      <td>0.556</td>\n",
       "      <td>0.070</td>\n",
       "      <td>0.569</td>\n",
       "      <td>...</td>\n",
       "      <td>111.0</td>\n",
       "      <td>141.0</td>\n",
       "      <td>1116.0</td>\n",
       "      <td>203.0</td>\n",
       "      <td>106.0</td>\n",
       "      <td>1750000</td>\n",
       "      <td>1991</td>\n",
       "      <td>120.507113</td>\n",
       "      <td>1.127381</td>\n",
       "      <td>0.913002</td>\n",
       "    </tr>\n",
       "    <tr>\n",
       "      <th>1993</th>\n",
       "      <td>PF</td>\n",
       "      <td>29.0</td>\n",
       "      <td>LAL</td>\n",
       "      <td>82.0</td>\n",
       "      <td>55.0</td>\n",
       "      <td>2819.0</td>\n",
       "      <td>16.3</td>\n",
       "      <td>0.603</td>\n",
       "      <td>0.065</td>\n",
       "      <td>0.531</td>\n",
       "      <td>...</td>\n",
       "      <td>116.0</td>\n",
       "      <td>149.0</td>\n",
       "      <td>1051.0</td>\n",
       "      <td>203.0</td>\n",
       "      <td>106.0</td>\n",
       "      <td>1750000</td>\n",
       "      <td>1992</td>\n",
       "      <td>120.507113</td>\n",
       "      <td>0.913002</td>\n",
       "      <td>0.087104</td>\n",
       "    </tr>\n",
       "    <tr>\n",
       "      <th>1994</th>\n",
       "      <td>PF</td>\n",
       "      <td>30.0</td>\n",
       "      <td>PHO</td>\n",
       "      <td>82.0</td>\n",
       "      <td>55.0</td>\n",
       "      <td>2825.0</td>\n",
       "      <td>17.0</td>\n",
       "      <td>0.555</td>\n",
       "      <td>0.038</td>\n",
       "      <td>0.391</td>\n",
       "      <td>...</td>\n",
       "      <td>100.0</td>\n",
       "      <td>142.0</td>\n",
       "      <td>1204.0</td>\n",
       "      <td>203.0</td>\n",
       "      <td>106.0</td>\n",
       "      <td>1885000</td>\n",
       "      <td>1993</td>\n",
       "      <td>123.529434</td>\n",
       "      <td>0.788382</td>\n",
       "      <td>2.509463</td>\n",
       "    </tr>\n",
       "    <tr>\n",
       "      <th>1995</th>\n",
       "      <td>SF</td>\n",
       "      <td>31.0</td>\n",
       "      <td>PHO</td>\n",
       "      <td>82.0</td>\n",
       "      <td>52.0</td>\n",
       "      <td>2687.0</td>\n",
       "      <td>14.2</td>\n",
       "      <td>0.596</td>\n",
       "      <td>0.206</td>\n",
       "      <td>0.556</td>\n",
       "      <td>...</td>\n",
       "      <td>114.0</td>\n",
       "      <td>146.0</td>\n",
       "      <td>916.0</td>\n",
       "      <td>203.0</td>\n",
       "      <td>106.0</td>\n",
       "      <td>6472600</td>\n",
       "      <td>1994</td>\n",
       "      <td>186.362956</td>\n",
       "      <td>2.509463</td>\n",
       "      <td>2.239567</td>\n",
       "    </tr>\n",
       "  </tbody>\n",
       "</table>\n",
       "<p>5 rows × 55 columns</p>\n",
       "</div>"
      ],
      "text/plain": [
       "                      Pos   Age   Tm     G    GS      MP   PER    TS%   3PAr  \\\n",
       "player     season_end                                                          \n",
       "A.C. Green 1991        PF  27.0  LAL  82.0  21.0  2164.0  13.8  0.556  0.101   \n",
       "           1992        PF  28.0  LAL  82.0  53.0  2902.0  16.7  0.556  0.070   \n",
       "           1993        PF  29.0  LAL  82.0  55.0  2819.0  16.3  0.603  0.065   \n",
       "           1994        PF  30.0  PHO  82.0  55.0  2825.0  17.0  0.555  0.038   \n",
       "           1995        SF  31.0  PHO  82.0  52.0  2687.0  14.2  0.596  0.206   \n",
       "\n",
       "                         FTr  ...    TOV     PF     PTS  height  weight  \\\n",
       "player     season_end         ...                                         \n",
       "A.C. Green 1991        0.557  ...   99.0  117.0   750.0   203.0   106.0   \n",
       "           1992        0.569  ...  111.0  141.0  1116.0   203.0   106.0   \n",
       "           1993        0.531  ...  116.0  149.0  1051.0   203.0   106.0   \n",
       "           1994        0.391  ...  100.0  142.0  1204.0   203.0   106.0   \n",
       "           1995        0.556  ...  114.0  146.0   916.0   203.0   106.0   \n",
       "\n",
       "                        salary  season_start  cube_root_salary  \\\n",
       "player     season_end                                            \n",
       "A.C. Green 1991        1750000          1990        120.507113   \n",
       "           1992        1750000          1991        120.507113   \n",
       "           1993        1750000          1992        120.507113   \n",
       "           1994        1885000          1993        123.529434   \n",
       "           1995        6472600          1994        186.362956   \n",
       "\n",
       "                       season_salary_z  next_season_salary_z  \n",
       "player     season_end                                         \n",
       "A.C. Green 1991               1.344236              1.127381  \n",
       "           1992               1.127381              0.913002  \n",
       "           1993               0.913002              0.087104  \n",
       "           1994               0.788382              2.509463  \n",
       "           1995               2.509463              2.239567  \n",
       "\n",
       "[5 rows x 55 columns]"
      ]
     },
     "execution_count": 100,
     "metadata": {},
     "output_type": "execute_result"
    }
   ],
   "source": [
    "features_df = features_seasons_stats_df.merge(features_body_stats_df, how='inner', on='Player')\n",
    "features_df = features_df.merge(features_salaries_df, how='inner', left_on=['Player', 'Year'], right_on=['player', 'season_end'])\n",
    "features_df = features_df.drop(['Year', 'Player'], 'columns').set_index(['player', 'season_end'])\n",
    "features_df.head()"
   ]
  },
  {
   "cell_type": "code",
   "execution_count": 117,
   "metadata": {},
   "outputs": [
    {
     "data": {
      "text/plain": [
       "['Pos',\n",
       " 'Age',\n",
       " 'Tm',\n",
       " 'G',\n",
       " 'GS',\n",
       " 'MP',\n",
       " 'PER',\n",
       " 'TS%',\n",
       " '3PAr',\n",
       " 'FTr',\n",
       " 'ORB%',\n",
       " 'DRB%',\n",
       " 'TRB%',\n",
       " 'AST%',\n",
       " 'STL%',\n",
       " 'BLK%',\n",
       " 'TOV%',\n",
       " 'USG%',\n",
       " 'OWS',\n",
       " 'DWS',\n",
       " 'WS',\n",
       " 'WS/48',\n",
       " 'OBPM',\n",
       " 'DBPM',\n",
       " 'BPM',\n",
       " 'VORP',\n",
       " 'FG',\n",
       " 'FGA',\n",
       " 'FG%',\n",
       " '3P',\n",
       " '3PA',\n",
       " '3P%',\n",
       " '2P',\n",
       " '2PA',\n",
       " '2P%',\n",
       " 'eFG%',\n",
       " 'FT',\n",
       " 'FTA',\n",
       " 'FT%',\n",
       " 'ORB',\n",
       " 'DRB',\n",
       " 'TRB',\n",
       " 'AST',\n",
       " 'STL',\n",
       " 'BLK',\n",
       " 'TOV',\n",
       " 'PF',\n",
       " 'PTS',\n",
       " 'height',\n",
       " 'weight',\n",
       " 'salary',\n",
       " 'season_start',\n",
       " 'cube_root_salary',\n",
       " 'season_salary_z',\n",
       " 'next_season_salary_z']"
      ]
     },
     "execution_count": 117,
     "metadata": {},
     "output_type": "execute_result"
    }
   ],
   "source": [
    "features_df.columns.tolist()"
   ]
  },
  {
   "cell_type": "markdown",
   "metadata": {},
   "source": [
    "# Feature selection"
   ]
  },
  {
   "cell_type": "code",
   "execution_count": 118,
   "metadata": {
    "collapsed": true
   },
   "outputs": [],
   "source": [
    "# [G, GS, MP, PER, TS%, 3PAr, FTr, ORB%, DRB%, TRB%, AST%, STL%, BLK%, TOV%, USG%, blanl, OWS, DWS, WS, WS/48, blank2, OBPM, DBPM, BPM, VORP, FG, FGA, FG%, 3P, 3PA, 3P%, 2P, 2PA, 2P%, eFG%, FT, FTA, FT%, ORB, DRB, TRB, AST, STL, BLK, TOV, PF, PTS]\n",
    "features = ['Pos',\n",
    " 'Age',\n",
    " #'Tm',\n",
    " 'G',\n",
    " 'GS',\n",
    " 'MP',\n",
    " 'PER',\n",
    " 'TS%',\n",
    " '3PAr',\n",
    " 'FTr',\n",
    " 'ORB%',\n",
    " 'DRB%',\n",
    " 'TRB%',\n",
    " 'AST%',\n",
    " 'STL%',\n",
    " 'BLK%',\n",
    " 'TOV%',\n",
    " 'USG%',\n",
    " 'OWS',\n",
    " 'DWS',\n",
    " 'WS',\n",
    " 'WS/48',\n",
    " 'OBPM',\n",
    " 'DBPM',\n",
    " 'BPM',\n",
    " 'VORP',\n",
    " 'FG',\n",
    " 'FGA',\n",
    " 'FG%',\n",
    " '3P',\n",
    " '3PA',\n",
    " '3P%',\n",
    " '2P',\n",
    " '2PA',\n",
    " '2P%',\n",
    " 'eFG%',\n",
    " 'FT',\n",
    " 'FTA',\n",
    " 'FT%',\n",
    " 'ORB',\n",
    " 'DRB',\n",
    " 'TRB',\n",
    " 'AST',\n",
    " 'STL',\n",
    " 'BLK',\n",
    " 'TOV',\n",
    " 'PF',\n",
    " 'PTS',\n",
    " 'height',\n",
    " 'weight',\n",
    " #'salary',\n",
    " 'season_start',\n",
    " 'season_salary_z']"
   ]
  },
  {
   "cell_type": "code",
   "execution_count": null,
   "metadata": {},
   "outputs": [],
   "source": []
  },
  {
   "cell_type": "code",
   "execution_count": 119,
   "metadata": {},
   "outputs": [
    {
     "data": {
      "text/html": [
       "<div>\n",
       "<style scoped>\n",
       "    .dataframe tbody tr th:only-of-type {\n",
       "        vertical-align: middle;\n",
       "    }\n",
       "\n",
       "    .dataframe tbody tr th {\n",
       "        vertical-align: top;\n",
       "    }\n",
       "\n",
       "    .dataframe thead th {\n",
       "        text-align: right;\n",
       "    }\n",
       "</style>\n",
       "<table border=\"1\" class=\"dataframe\">\n",
       "  <thead>\n",
       "    <tr style=\"text-align: right;\">\n",
       "      <th></th>\n",
       "      <th></th>\n",
       "      <th>Age</th>\n",
       "      <th>G</th>\n",
       "      <th>GS</th>\n",
       "      <th>MP</th>\n",
       "      <th>PER</th>\n",
       "      <th>TS%</th>\n",
       "      <th>3PAr</th>\n",
       "      <th>FTr</th>\n",
       "      <th>ORB%</th>\n",
       "      <th>DRB%</th>\n",
       "      <th>...</th>\n",
       "      <th>Pos_PG</th>\n",
       "      <th>Pos_PG-SF</th>\n",
       "      <th>Pos_PG-SG</th>\n",
       "      <th>Pos_SF</th>\n",
       "      <th>Pos_SF-PF</th>\n",
       "      <th>Pos_SF-SG</th>\n",
       "      <th>Pos_SG</th>\n",
       "      <th>Pos_SG-PF</th>\n",
       "      <th>Pos_SG-PG</th>\n",
       "      <th>Pos_SG-SF</th>\n",
       "    </tr>\n",
       "    <tr>\n",
       "      <th>player</th>\n",
       "      <th>season_end</th>\n",
       "      <th></th>\n",
       "      <th></th>\n",
       "      <th></th>\n",
       "      <th></th>\n",
       "      <th></th>\n",
       "      <th></th>\n",
       "      <th></th>\n",
       "      <th></th>\n",
       "      <th></th>\n",
       "      <th></th>\n",
       "      <th></th>\n",
       "      <th></th>\n",
       "      <th></th>\n",
       "      <th></th>\n",
       "      <th></th>\n",
       "      <th></th>\n",
       "      <th></th>\n",
       "      <th></th>\n",
       "      <th></th>\n",
       "      <th></th>\n",
       "      <th></th>\n",
       "    </tr>\n",
       "  </thead>\n",
       "  <tbody>\n",
       "    <tr>\n",
       "      <th rowspan=\"5\" valign=\"top\">A.C. Green</th>\n",
       "      <th>1991</th>\n",
       "      <td>27.0</td>\n",
       "      <td>82.0</td>\n",
       "      <td>21.0</td>\n",
       "      <td>2164.0</td>\n",
       "      <td>13.8</td>\n",
       "      <td>0.556</td>\n",
       "      <td>0.101</td>\n",
       "      <td>0.557</td>\n",
       "      <td>11.3</td>\n",
       "      <td>16.2</td>\n",
       "      <td>...</td>\n",
       "      <td>0</td>\n",
       "      <td>0</td>\n",
       "      <td>0</td>\n",
       "      <td>0</td>\n",
       "      <td>0</td>\n",
       "      <td>0</td>\n",
       "      <td>0</td>\n",
       "      <td>0</td>\n",
       "      <td>0</td>\n",
       "      <td>0</td>\n",
       "    </tr>\n",
       "    <tr>\n",
       "      <th>1992</th>\n",
       "      <td>28.0</td>\n",
       "      <td>82.0</td>\n",
       "      <td>53.0</td>\n",
       "      <td>2902.0</td>\n",
       "      <td>16.7</td>\n",
       "      <td>0.556</td>\n",
       "      <td>0.070</td>\n",
       "      <td>0.569</td>\n",
       "      <td>11.8</td>\n",
       "      <td>18.2</td>\n",
       "      <td>...</td>\n",
       "      <td>0</td>\n",
       "      <td>0</td>\n",
       "      <td>0</td>\n",
       "      <td>0</td>\n",
       "      <td>0</td>\n",
       "      <td>0</td>\n",
       "      <td>0</td>\n",
       "      <td>0</td>\n",
       "      <td>0</td>\n",
       "      <td>0</td>\n",
       "    </tr>\n",
       "    <tr>\n",
       "      <th>1993</th>\n",
       "      <td>29.0</td>\n",
       "      <td>82.0</td>\n",
       "      <td>55.0</td>\n",
       "      <td>2819.0</td>\n",
       "      <td>16.3</td>\n",
       "      <td>0.603</td>\n",
       "      <td>0.065</td>\n",
       "      <td>0.531</td>\n",
       "      <td>11.5</td>\n",
       "      <td>17.3</td>\n",
       "      <td>...</td>\n",
       "      <td>0</td>\n",
       "      <td>0</td>\n",
       "      <td>0</td>\n",
       "      <td>0</td>\n",
       "      <td>0</td>\n",
       "      <td>0</td>\n",
       "      <td>0</td>\n",
       "      <td>0</td>\n",
       "      <td>0</td>\n",
       "      <td>0</td>\n",
       "    </tr>\n",
       "    <tr>\n",
       "      <th>1994</th>\n",
       "      <td>30.0</td>\n",
       "      <td>82.0</td>\n",
       "      <td>55.0</td>\n",
       "      <td>2825.0</td>\n",
       "      <td>17.0</td>\n",
       "      <td>0.555</td>\n",
       "      <td>0.038</td>\n",
       "      <td>0.391</td>\n",
       "      <td>11.1</td>\n",
       "      <td>18.8</td>\n",
       "      <td>...</td>\n",
       "      <td>0</td>\n",
       "      <td>0</td>\n",
       "      <td>0</td>\n",
       "      <td>0</td>\n",
       "      <td>0</td>\n",
       "      <td>0</td>\n",
       "      <td>0</td>\n",
       "      <td>0</td>\n",
       "      <td>0</td>\n",
       "      <td>0</td>\n",
       "    </tr>\n",
       "    <tr>\n",
       "      <th>1995</th>\n",
       "      <td>31.0</td>\n",
       "      <td>82.0</td>\n",
       "      <td>52.0</td>\n",
       "      <td>2687.0</td>\n",
       "      <td>14.2</td>\n",
       "      <td>0.596</td>\n",
       "      <td>0.206</td>\n",
       "      <td>0.556</td>\n",
       "      <td>8.3</td>\n",
       "      <td>20.4</td>\n",
       "      <td>...</td>\n",
       "      <td>0</td>\n",
       "      <td>0</td>\n",
       "      <td>0</td>\n",
       "      <td>1</td>\n",
       "      <td>0</td>\n",
       "      <td>0</td>\n",
       "      <td>0</td>\n",
       "      <td>0</td>\n",
       "      <td>0</td>\n",
       "      <td>0</td>\n",
       "    </tr>\n",
       "  </tbody>\n",
       "</table>\n",
       "<p>5 rows × 65 columns</p>\n",
       "</div>"
      ],
      "text/plain": [
       "                        Age     G    GS      MP   PER    TS%   3PAr    FTr  \\\n",
       "player     season_end                                                        \n",
       "A.C. Green 1991        27.0  82.0  21.0  2164.0  13.8  0.556  0.101  0.557   \n",
       "           1992        28.0  82.0  53.0  2902.0  16.7  0.556  0.070  0.569   \n",
       "           1993        29.0  82.0  55.0  2819.0  16.3  0.603  0.065  0.531   \n",
       "           1994        30.0  82.0  55.0  2825.0  17.0  0.555  0.038  0.391   \n",
       "           1995        31.0  82.0  52.0  2687.0  14.2  0.596  0.206  0.556   \n",
       "\n",
       "                       ORB%  DRB%  ...  Pos_PG  Pos_PG-SF  Pos_PG-SG  Pos_SF  \\\n",
       "player     season_end              ...                                         \n",
       "A.C. Green 1991        11.3  16.2  ...       0          0          0       0   \n",
       "           1992        11.8  18.2  ...       0          0          0       0   \n",
       "           1993        11.5  17.3  ...       0          0          0       0   \n",
       "           1994        11.1  18.8  ...       0          0          0       0   \n",
       "           1995         8.3  20.4  ...       0          0          0       1   \n",
       "\n",
       "                       Pos_SF-PF  Pos_SF-SG  Pos_SG  Pos_SG-PF  Pos_SG-PG  \\\n",
       "player     season_end                                                       \n",
       "A.C. Green 1991                0          0       0          0          0   \n",
       "           1992                0          0       0          0          0   \n",
       "           1993                0          0       0          0          0   \n",
       "           1994                0          0       0          0          0   \n",
       "           1995                0          0       0          0          0   \n",
       "\n",
       "                       Pos_SG-SF  \n",
       "player     season_end             \n",
       "A.C. Green 1991                0  \n",
       "           1992                0  \n",
       "           1993                0  \n",
       "           1994                0  \n",
       "           1995                0  \n",
       "\n",
       "[5 rows x 65 columns]"
      ]
     },
     "execution_count": 119,
     "metadata": {},
     "output_type": "execute_result"
    }
   ],
   "source": [
    "features_df = features_df.dropna()\n",
    "X_df = features_df[features]\n",
    "y_df = features_df[\"next_season_salary_z\"]\n",
    "X_df = pd.concat([X_df,pd.get_dummies(X_df['Pos'], prefix='Pos')],axis=1)\n",
    "X_df = X_df.drop(['Pos'], axis=1)\n",
    "X_df = X_df.drop(['season_salary_z'], axis=1)\n",
    "X_df.head()\n",
    "# list(X_df.columns.values)"
   ]
  },
  {
   "cell_type": "code",
   "execution_count": 120,
   "metadata": {},
   "outputs": [],
   "source": [
    "# Optionally we can normalize all features (this gives super whack results for the testing/training scores)\n",
    "# # Get column names first\n",
    "# names = X_df.columns\n",
    "# # Create the Scaler object\n",
    "# scaler = preprocessing.StandardScaler()\n",
    "# # Fit your data on the scaler object\n",
    "# scaled_df = scaler.fit_transform(X_df)\n",
    "# X_df = pd.DataFrame(scaled_df, columns=names)"
   ]
  },
  {
   "cell_type": "markdown",
   "metadata": {},
   "source": [
    "# Data partitioning"
   ]
  },
  {
   "cell_type": "code",
   "execution_count": 121,
   "metadata": {
    "collapsed": true
   },
   "outputs": [],
   "source": [
    "from sklearn.model_selection import train_test_split"
   ]
  },
  {
   "cell_type": "code",
   "execution_count": 122,
   "metadata": {},
   "outputs": [
    {
     "name": "stdout",
     "output_type": "stream",
     "text": [
      "(5149, 65)\n",
      "(5149,)\n",
      "(2207, 65)\n",
      "(2207,)\n"
     ]
    }
   ],
   "source": [
    "X = X_df.values\n",
    "y = y_df.values\n",
    "y_c = pd.qcut(y, 5, labels=False)\n",
    "X_train, X_test, y_train, y_test = train_test_split(X, y, test_size=0.3, random_state=42)\n",
    "X_train, X_test, y_c_train, y_c_test = train_test_split(X, y_c, test_size=0.3, random_state=42)\n",
    "print(X_train.shape)\n",
    "print(y_train.shape)\n",
    "print(X_test.shape)\n",
    "print(y_test.shape)"
   ]
  },
  {
   "cell_type": "markdown",
   "metadata": {},
   "source": [
    "# Train"
   ]
  },
  {
   "cell_type": "code",
   "execution_count": 123,
   "metadata": {
    "collapsed": true
   },
   "outputs": [],
   "source": [
    "from sklearn.model_selection import cross_validate"
   ]
  },
  {
   "cell_type": "markdown",
   "metadata": {},
   "source": [
    "## Regression Models"
   ]
  },
  {
   "cell_type": "markdown",
   "metadata": {},
   "source": [
    "### Linear Models"
   ]
  },
  {
   "cell_type": "code",
   "execution_count": 124,
   "metadata": {
    "collapsed": true
   },
   "outputs": [],
   "source": [
    "from sklearn import linear_model, svm"
   ]
  },
  {
   "cell_type": "code",
   "execution_count": 125,
   "metadata": {},
   "outputs": [
    {
     "name": "stdout",
     "output_type": "stream",
     "text": [
      "Average Testing Score: 0.43555016608579755\n",
      "Average Training Score: 0.450647749212859\n"
     ]
    }
   ],
   "source": [
    "# Ordinary Least Squares Regression\n",
    "ols = linear_model.LinearRegression()\n",
    "results = cross_validate(ols, X_train, y_train, scoring='r2', cv=5, n_jobs=5)\n",
    "print(\"Average Testing Score: \" + str(np.mean(results['test_score'])))\n",
    "print(\"Average Training Score: \" + str(np.mean(results['train_score'])))"
   ]
  },
  {
   "cell_type": "code",
   "execution_count": 126,
   "metadata": {},
   "outputs": [
    {
     "name": "stdout",
     "output_type": "stream",
     "text": [
      "Average Testing Score: 0.4362513729867478\n",
      "Average Training Score: 0.44991479928329586\n"
     ]
    }
   ],
   "source": [
    "# Ridge Regression\n",
    "ridge = linear_model.Ridge()\n",
    "results = cross_validate(ridge, X_train, y_train, scoring='r2', cv=5, n_jobs=5)\n",
    "print(\"Average Testing Score: \" + str(np.mean(results['test_score'])))\n",
    "print(\"Average Training Score: \" + str(np.mean(results['train_score'])))"
   ]
  },
  {
   "cell_type": "code",
   "execution_count": 127,
   "metadata": {},
   "outputs": [
    {
     "name": "stdout",
     "output_type": "stream",
     "text": [
      "Average Testing Score: 0.35418598830778325\n",
      "Average Training Score: 0.35600993136878556\n"
     ]
    }
   ],
   "source": [
    "# Lasso Regression\n",
    "lasso = linear_model.Lasso()\n",
    "results = cross_validate(lasso, X_train, y_train, scoring='r2', cv=5, n_jobs=5)\n",
    "print(\"Average Testing Score: \" + str(np.mean(results['test_score'])))\n",
    "print(\"Average Training Score: \" + str(np.mean(results['train_score'])))"
   ]
  },
  {
   "cell_type": "code",
   "execution_count": 128,
   "metadata": {},
   "outputs": [
    {
     "name": "stdout",
     "output_type": "stream",
     "text": [
      "Average Testing Score: 0.3791577074670496\n",
      "Average Training Score: 0.3815746626266655\n"
     ]
    }
   ],
   "source": [
    "# Elastic Net Regression\n",
    "elastic = linear_model.ElasticNet()\n",
    "results = cross_validate(elastic, X_train, y_train, scoring='r2', cv=5, n_jobs=5)\n",
    "print(\"Average Testing Score: \" + str(np.mean(results['test_score'])))\n",
    "print(\"Average Training Score: \" + str(np.mean(results['train_score'])))"
   ]
  },
  {
   "cell_type": "markdown",
   "metadata": {},
   "source": [
    "### SVR"
   ]
  },
  {
   "cell_type": "code",
   "execution_count": null,
   "metadata": {
    "collapsed": true
   },
   "outputs": [],
   "source": [
    "linear_svr = svm.SVR(kernel='linear')\n",
    "cross_validate(linear_svr, X_train, y_train, scoring='r2', cv=5, n_jobs=5)"
   ]
  },
  {
   "cell_type": "code",
   "execution_count": null,
   "metadata": {
    "collapsed": true
   },
   "outputs": [],
   "source": [
    "rbf_svr = svm.SVR(kernel='rbf', gamma='scale')\n",
    "cross_validate(rbf_svr, X_train, y_train, scoring='r2', cv=5, n_jobs=5)"
   ]
  },
  {
   "cell_type": "markdown",
   "metadata": {},
   "source": [
    "## Classification Models"
   ]
  },
  {
   "cell_type": "markdown",
   "metadata": {},
   "source": [
    "### SVC"
   ]
  },
  {
   "cell_type": "code",
   "execution_count": null,
   "metadata": {
    "collapsed": true
   },
   "outputs": [],
   "source": [
    "linear_svc = svm.SVC(kernel='linear')\n",
    "cross_validate(linear_svc, X_train, y_c_train, scoring='accuracy', cv=5, n_jobs=5)"
   ]
  },
  {
   "cell_type": "code",
   "execution_count": null,
   "metadata": {
    "collapsed": true
   },
   "outputs": [],
   "source": []
  }
 ],
 "metadata": {
  "kernelspec": {
   "display_name": "Python 3",
   "language": "python",
   "name": "python3"
  },
  "language_info": {
   "codemirror_mode": {
    "name": "ipython",
    "version": 3
   },
   "file_extension": ".py",
   "mimetype": "text/x-python",
   "name": "python",
   "nbconvert_exporter": "python",
   "pygments_lexer": "ipython3",
   "version": "3.6.2"
  }
 },
 "nbformat": 4,
 "nbformat_minor": 2
}
